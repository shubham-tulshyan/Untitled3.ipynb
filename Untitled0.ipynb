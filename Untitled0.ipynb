{
  "nbformat": 4,
  "nbformat_minor": 0,
  "metadata": {
    "colab": {
      "name": "Untitled0.ipynb",
      "provenance": [],
      "collapsed_sections": [],
      "toc_visible": true,
      "authorship_tag": "ABX9TyPp4NOQTEt/OMMJLUNsweeM",
      "include_colab_link": true
    },
    "kernelspec": {
      "name": "python3",
      "display_name": "Python 3"
    }
  },
  "cells": [
    {
      "cell_type": "markdown",
      "metadata": {
        "id": "view-in-github",
        "colab_type": "text"
      },
      "source": [
        "<a href=\"https://colab.research.google.com/github/shubham-tulshyan/Untitled3.ipynb/blob/master/Untitled0.ipynb\" target=\"_parent\"><img src=\"https://colab.research.google.com/assets/colab-badge.svg\" alt=\"Open In Colab\"/></a>"
      ]
    },
    {
      "cell_type": "markdown",
      "metadata": {
        "id": "wvRMnjXt_eZF",
        "colab_type": "text"
      },
      "source": [
        "# **Exploratory Data Analysis of Car features**"
      ]
    },
    {
      "cell_type": "markdown",
      "metadata": {
        "id": "KCmH6wX-_osO",
        "colab_type": "text"
      },
      "source": [
        "**What is Exploratory Data Analysis?**\n",
        "\n",
        "In statistics, Exploratory Data Analysis (EDA) is an approach to analyzing data sets to summarize their main characteristics, often with visual methods, i.e. various kinds of graphs and charts."
      ]
    },
    {
      "cell_type": "markdown",
      "metadata": {
        "id": "4gpdec8fOG09",
        "colab_type": "text"
      },
      "source": [
        "# **Importing The Libraries**"
      ]
    },
    {
      "cell_type": "code",
      "metadata": {
        "id": "p-dQDW3kON7Z",
        "colab_type": "code",
        "colab": {}
      },
      "source": [
        "# Importing libraries\n",
        "import pandas as pd\n",
        "import matplotlib.pyplot as plt\n",
        "import numpy as np\n",
        "import seaborn as sns\n",
        "from sklearn import metrics\n",
        "from sklearn.metrics import r2_score"
      ],
      "execution_count": 117,
      "outputs": []
    },
    {
      "cell_type": "markdown",
      "metadata": {
        "id": "KpMN3389O0jS",
        "colab_type": "text"
      },
      "source": [
        "# **Read the data**"
      ]
    },
    {
      "cell_type": "code",
      "metadata": {
        "id": "xd93iMEEO5ey",
        "colab_type": "code",
        "colab": {
          "base_uri": "https://localhost:8080/",
          "height": 428
        },
        "outputId": "26de837e-738b-482f-f8c3-be09d1ee0990"
      },
      "source": [
        "# Importing dataset\n",
        "carData=pd.read_csv('/content/sample_data/data.csv')\n",
        "# Displaying the top 5 rows of the dataset\n",
        "carData.head()"
      ],
      "execution_count": 118,
      "outputs": [
        {
          "output_type": "execute_result",
          "data": {
            "text/html": [
              "<div>\n",
              "<style scoped>\n",
              "    .dataframe tbody tr th:only-of-type {\n",
              "        vertical-align: middle;\n",
              "    }\n",
              "\n",
              "    .dataframe tbody tr th {\n",
              "        vertical-align: top;\n",
              "    }\n",
              "\n",
              "    .dataframe thead th {\n",
              "        text-align: right;\n",
              "    }\n",
              "</style>\n",
              "<table border=\"1\" class=\"dataframe\">\n",
              "  <thead>\n",
              "    <tr style=\"text-align: right;\">\n",
              "      <th></th>\n",
              "      <th>Make</th>\n",
              "      <th>Model</th>\n",
              "      <th>Year</th>\n",
              "      <th>Engine Fuel Type</th>\n",
              "      <th>Engine HP</th>\n",
              "      <th>Engine Cylinders</th>\n",
              "      <th>Transmission Type</th>\n",
              "      <th>Driven_Wheels</th>\n",
              "      <th>Number of Doors</th>\n",
              "      <th>Market Category</th>\n",
              "      <th>Vehicle Size</th>\n",
              "      <th>Vehicle Style</th>\n",
              "      <th>highway MPG</th>\n",
              "      <th>city mpg</th>\n",
              "      <th>Popularity</th>\n",
              "      <th>MSRP</th>\n",
              "    </tr>\n",
              "  </thead>\n",
              "  <tbody>\n",
              "    <tr>\n",
              "      <th>0</th>\n",
              "      <td>BMW</td>\n",
              "      <td>1 Series M</td>\n",
              "      <td>2011</td>\n",
              "      <td>premium unleaded (required)</td>\n",
              "      <td>335.0</td>\n",
              "      <td>6.0</td>\n",
              "      <td>MANUAL</td>\n",
              "      <td>rear wheel drive</td>\n",
              "      <td>2.0</td>\n",
              "      <td>Factory Tuner,Luxury,High-Performance</td>\n",
              "      <td>Compact</td>\n",
              "      <td>Coupe</td>\n",
              "      <td>26</td>\n",
              "      <td>19</td>\n",
              "      <td>3916</td>\n",
              "      <td>46135</td>\n",
              "    </tr>\n",
              "    <tr>\n",
              "      <th>1</th>\n",
              "      <td>BMW</td>\n",
              "      <td>1 Series</td>\n",
              "      <td>2011</td>\n",
              "      <td>premium unleaded (required)</td>\n",
              "      <td>300.0</td>\n",
              "      <td>6.0</td>\n",
              "      <td>MANUAL</td>\n",
              "      <td>rear wheel drive</td>\n",
              "      <td>2.0</td>\n",
              "      <td>Luxury,Performance</td>\n",
              "      <td>Compact</td>\n",
              "      <td>Convertible</td>\n",
              "      <td>28</td>\n",
              "      <td>19</td>\n",
              "      <td>3916</td>\n",
              "      <td>40650</td>\n",
              "    </tr>\n",
              "    <tr>\n",
              "      <th>2</th>\n",
              "      <td>BMW</td>\n",
              "      <td>1 Series</td>\n",
              "      <td>2011</td>\n",
              "      <td>premium unleaded (required)</td>\n",
              "      <td>300.0</td>\n",
              "      <td>6.0</td>\n",
              "      <td>MANUAL</td>\n",
              "      <td>rear wheel drive</td>\n",
              "      <td>2.0</td>\n",
              "      <td>Luxury,High-Performance</td>\n",
              "      <td>Compact</td>\n",
              "      <td>Coupe</td>\n",
              "      <td>28</td>\n",
              "      <td>20</td>\n",
              "      <td>3916</td>\n",
              "      <td>36350</td>\n",
              "    </tr>\n",
              "    <tr>\n",
              "      <th>3</th>\n",
              "      <td>BMW</td>\n",
              "      <td>1 Series</td>\n",
              "      <td>2011</td>\n",
              "      <td>premium unleaded (required)</td>\n",
              "      <td>230.0</td>\n",
              "      <td>6.0</td>\n",
              "      <td>MANUAL</td>\n",
              "      <td>rear wheel drive</td>\n",
              "      <td>2.0</td>\n",
              "      <td>Luxury,Performance</td>\n",
              "      <td>Compact</td>\n",
              "      <td>Coupe</td>\n",
              "      <td>28</td>\n",
              "      <td>18</td>\n",
              "      <td>3916</td>\n",
              "      <td>29450</td>\n",
              "    </tr>\n",
              "    <tr>\n",
              "      <th>4</th>\n",
              "      <td>BMW</td>\n",
              "      <td>1 Series</td>\n",
              "      <td>2011</td>\n",
              "      <td>premium unleaded (required)</td>\n",
              "      <td>230.0</td>\n",
              "      <td>6.0</td>\n",
              "      <td>MANUAL</td>\n",
              "      <td>rear wheel drive</td>\n",
              "      <td>2.0</td>\n",
              "      <td>Luxury</td>\n",
              "      <td>Compact</td>\n",
              "      <td>Convertible</td>\n",
              "      <td>28</td>\n",
              "      <td>18</td>\n",
              "      <td>3916</td>\n",
              "      <td>34500</td>\n",
              "    </tr>\n",
              "  </tbody>\n",
              "</table>\n",
              "</div>"
            ],
            "text/plain": [
              "  Make       Model  Year  ... city mpg  Popularity   MSRP\n",
              "0  BMW  1 Series M  2011  ...       19        3916  46135\n",
              "1  BMW    1 Series  2011  ...       19        3916  40650\n",
              "2  BMW    1 Series  2011  ...       20        3916  36350\n",
              "3  BMW    1 Series  2011  ...       18        3916  29450\n",
              "4  BMW    1 Series  2011  ...       18        3916  34500\n",
              "\n",
              "[5 rows x 16 columns]"
            ]
          },
          "metadata": {
            "tags": []
          },
          "execution_count": 118
        }
      ]
    },
    {
      "cell_type": "markdown",
      "metadata": {
        "id": "ERXjQiIePJGr",
        "colab_type": "text"
      },
      "source": [
        "# **To display the first 5 rows**"
      ]
    },
    {
      "cell_type": "code",
      "metadata": {
        "id": "egmsjcQTPRSE",
        "colab_type": "code",
        "colab": {
          "base_uri": "https://localhost:8080/",
          "height": 221
        },
        "outputId": "ebaa2f36-0201-46df-b90a-27b58e9d27d5"
      },
      "source": [
        "# To display the top 5 rows\n",
        "df.head(5)"
      ],
      "execution_count": 119,
      "outputs": [
        {
          "output_type": "execute_result",
          "data": {
            "text/html": [
              "<div>\n",
              "<style scoped>\n",
              "    .dataframe tbody tr th:only-of-type {\n",
              "        vertical-align: middle;\n",
              "    }\n",
              "\n",
              "    .dataframe tbody tr th {\n",
              "        vertical-align: top;\n",
              "    }\n",
              "\n",
              "    .dataframe thead th {\n",
              "        text-align: right;\n",
              "    }\n",
              "</style>\n",
              "<table border=\"1\" class=\"dataframe\">\n",
              "  <thead>\n",
              "    <tr style=\"text-align: right;\">\n",
              "      <th></th>\n",
              "      <th>Make</th>\n",
              "      <th>Model</th>\n",
              "      <th>Year</th>\n",
              "      <th>HP</th>\n",
              "      <th>Cylinders</th>\n",
              "      <th>Transmission</th>\n",
              "      <th>Drive Mode</th>\n",
              "      <th>Vehicle Size</th>\n",
              "      <th>Vehicle Style</th>\n",
              "      <th>MPG-H</th>\n",
              "      <th>MPG-C</th>\n",
              "      <th>Popularity</th>\n",
              "      <th>Price</th>\n",
              "    </tr>\n",
              "  </thead>\n",
              "  <tbody>\n",
              "    <tr>\n",
              "      <th>0</th>\n",
              "      <td>3</td>\n",
              "      <td>1</td>\n",
              "      <td>2011</td>\n",
              "      <td>335.0</td>\n",
              "      <td>6.0</td>\n",
              "      <td>2</td>\n",
              "      <td>3</td>\n",
              "      <td>0</td>\n",
              "      <td>8</td>\n",
              "      <td>26</td>\n",
              "      <td>19</td>\n",
              "      <td>3916</td>\n",
              "      <td>46135</td>\n",
              "    </tr>\n",
              "    <tr>\n",
              "      <th>1</th>\n",
              "      <td>3</td>\n",
              "      <td>0</td>\n",
              "      <td>2011</td>\n",
              "      <td>300.0</td>\n",
              "      <td>6.0</td>\n",
              "      <td>2</td>\n",
              "      <td>3</td>\n",
              "      <td>0</td>\n",
              "      <td>6</td>\n",
              "      <td>28</td>\n",
              "      <td>19</td>\n",
              "      <td>3916</td>\n",
              "      <td>40650</td>\n",
              "    </tr>\n",
              "    <tr>\n",
              "      <th>2</th>\n",
              "      <td>3</td>\n",
              "      <td>0</td>\n",
              "      <td>2011</td>\n",
              "      <td>300.0</td>\n",
              "      <td>6.0</td>\n",
              "      <td>2</td>\n",
              "      <td>3</td>\n",
              "      <td>0</td>\n",
              "      <td>8</td>\n",
              "      <td>28</td>\n",
              "      <td>20</td>\n",
              "      <td>3916</td>\n",
              "      <td>36350</td>\n",
              "    </tr>\n",
              "    <tr>\n",
              "      <th>3</th>\n",
              "      <td>3</td>\n",
              "      <td>0</td>\n",
              "      <td>2011</td>\n",
              "      <td>230.0</td>\n",
              "      <td>6.0</td>\n",
              "      <td>2</td>\n",
              "      <td>3</td>\n",
              "      <td>0</td>\n",
              "      <td>8</td>\n",
              "      <td>28</td>\n",
              "      <td>18</td>\n",
              "      <td>3916</td>\n",
              "      <td>29450</td>\n",
              "    </tr>\n",
              "    <tr>\n",
              "      <th>4</th>\n",
              "      <td>3</td>\n",
              "      <td>0</td>\n",
              "      <td>2011</td>\n",
              "      <td>230.0</td>\n",
              "      <td>6.0</td>\n",
              "      <td>2</td>\n",
              "      <td>3</td>\n",
              "      <td>0</td>\n",
              "      <td>6</td>\n",
              "      <td>28</td>\n",
              "      <td>18</td>\n",
              "      <td>3916</td>\n",
              "      <td>34500</td>\n",
              "    </tr>\n",
              "  </tbody>\n",
              "</table>\n",
              "</div>"
            ],
            "text/plain": [
              "   Make  Model  Year     HP  ...  MPG-H  MPG-C  Popularity  Price\n",
              "0     3      1  2011  335.0  ...     26     19        3916  46135\n",
              "1     3      0  2011  300.0  ...     28     19        3916  40650\n",
              "2     3      0  2011  300.0  ...     28     20        3916  36350\n",
              "3     3      0  2011  230.0  ...     28     18        3916  29450\n",
              "4     3      0  2011  230.0  ...     28     18        3916  34500\n",
              "\n",
              "[5 rows x 13 columns]"
            ]
          },
          "metadata": {
            "tags": []
          },
          "execution_count": 119
        }
      ]
    },
    {
      "cell_type": "markdown",
      "metadata": {
        "id": "0MPpZMQbPYN-",
        "colab_type": "text"
      },
      "source": [
        "# **To display the bottom 5 rows**"
      ]
    },
    {
      "cell_type": "code",
      "metadata": {
        "id": "GUjLy9u6PfJI",
        "colab_type": "code",
        "colab": {
          "base_uri": "https://localhost:8080/",
          "height": 221
        },
        "outputId": "12c75207-00da-4c1b-8e0b-43f22d6bfb03"
      },
      "source": [
        "# To display the bottom 5 rows\n",
        "df.tail(5)"
      ],
      "execution_count": 120,
      "outputs": [
        {
          "output_type": "execute_result",
          "data": {
            "text/html": [
              "<div>\n",
              "<style scoped>\n",
              "    .dataframe tbody tr th:only-of-type {\n",
              "        vertical-align: middle;\n",
              "    }\n",
              "\n",
              "    .dataframe tbody tr th {\n",
              "        vertical-align: top;\n",
              "    }\n",
              "\n",
              "    .dataframe thead th {\n",
              "        text-align: right;\n",
              "    }\n",
              "</style>\n",
              "<table border=\"1\" class=\"dataframe\">\n",
              "  <thead>\n",
              "    <tr style=\"text-align: right;\">\n",
              "      <th></th>\n",
              "      <th>Make</th>\n",
              "      <th>Model</th>\n",
              "      <th>Year</th>\n",
              "      <th>HP</th>\n",
              "      <th>Cylinders</th>\n",
              "      <th>Transmission</th>\n",
              "      <th>Drive Mode</th>\n",
              "      <th>Vehicle Size</th>\n",
              "      <th>Vehicle Style</th>\n",
              "      <th>MPG-H</th>\n",
              "      <th>MPG-C</th>\n",
              "      <th>Popularity</th>\n",
              "      <th>Price</th>\n",
              "    </tr>\n",
              "  </thead>\n",
              "  <tbody>\n",
              "    <tr>\n",
              "      <th>11909</th>\n",
              "      <td>0</td>\n",
              "      <td>636</td>\n",
              "      <td>2012</td>\n",
              "      <td>300.0</td>\n",
              "      <td>6.0</td>\n",
              "      <td>1</td>\n",
              "      <td>0</td>\n",
              "      <td>2</td>\n",
              "      <td>2</td>\n",
              "      <td>23</td>\n",
              "      <td>16</td>\n",
              "      <td>204</td>\n",
              "      <td>46120</td>\n",
              "    </tr>\n",
              "    <tr>\n",
              "      <th>11910</th>\n",
              "      <td>0</td>\n",
              "      <td>636</td>\n",
              "      <td>2012</td>\n",
              "      <td>300.0</td>\n",
              "      <td>6.0</td>\n",
              "      <td>1</td>\n",
              "      <td>0</td>\n",
              "      <td>2</td>\n",
              "      <td>2</td>\n",
              "      <td>23</td>\n",
              "      <td>16</td>\n",
              "      <td>204</td>\n",
              "      <td>56670</td>\n",
              "    </tr>\n",
              "    <tr>\n",
              "      <th>11911</th>\n",
              "      <td>0</td>\n",
              "      <td>636</td>\n",
              "      <td>2012</td>\n",
              "      <td>300.0</td>\n",
              "      <td>6.0</td>\n",
              "      <td>1</td>\n",
              "      <td>0</td>\n",
              "      <td>2</td>\n",
              "      <td>2</td>\n",
              "      <td>23</td>\n",
              "      <td>16</td>\n",
              "      <td>204</td>\n",
              "      <td>50620</td>\n",
              "    </tr>\n",
              "    <tr>\n",
              "      <th>11912</th>\n",
              "      <td>0</td>\n",
              "      <td>636</td>\n",
              "      <td>2013</td>\n",
              "      <td>300.0</td>\n",
              "      <td>6.0</td>\n",
              "      <td>1</td>\n",
              "      <td>0</td>\n",
              "      <td>2</td>\n",
              "      <td>2</td>\n",
              "      <td>23</td>\n",
              "      <td>16</td>\n",
              "      <td>204</td>\n",
              "      <td>50920</td>\n",
              "    </tr>\n",
              "    <tr>\n",
              "      <th>11913</th>\n",
              "      <td>19</td>\n",
              "      <td>637</td>\n",
              "      <td>2006</td>\n",
              "      <td>221.0</td>\n",
              "      <td>6.0</td>\n",
              "      <td>1</td>\n",
              "      <td>2</td>\n",
              "      <td>2</td>\n",
              "      <td>14</td>\n",
              "      <td>26</td>\n",
              "      <td>17</td>\n",
              "      <td>61</td>\n",
              "      <td>28995</td>\n",
              "    </tr>\n",
              "  </tbody>\n",
              "</table>\n",
              "</div>"
            ],
            "text/plain": [
              "       Make  Model  Year     HP  ...  MPG-H  MPG-C  Popularity  Price\n",
              "11909     0    636  2012  300.0  ...     23     16         204  46120\n",
              "11910     0    636  2012  300.0  ...     23     16         204  56670\n",
              "11911     0    636  2012  300.0  ...     23     16         204  50620\n",
              "11912     0    636  2013  300.0  ...     23     16         204  50920\n",
              "11913    19    637  2006  221.0  ...     26     17          61  28995\n",
              "\n",
              "[5 rows x 13 columns]"
            ]
          },
          "metadata": {
            "tags": []
          },
          "execution_count": 120
        }
      ]
    },
    {
      "cell_type": "markdown",
      "metadata": {
        "id": "37QXGLo2PkzJ",
        "colab_type": "text"
      },
      "source": [
        "# **Total details of dataframe**"
      ]
    },
    {
      "cell_type": "code",
      "metadata": {
        "id": "t9gCpjBxPqRg",
        "colab_type": "code",
        "colab": {
          "base_uri": "https://localhost:8080/",
          "height": 306
        },
        "outputId": "602533cc-c300-4e47-9893-9f3efcee90b8"
      },
      "source": [
        "# Checking the Data types of the data\n",
        "carData.dtypes"
      ],
      "execution_count": 121,
      "outputs": [
        {
          "output_type": "execute_result",
          "data": {
            "text/plain": [
              "Make                  object\n",
              "Model                 object\n",
              "Year                   int64\n",
              "Engine Fuel Type      object\n",
              "Engine HP            float64\n",
              "Engine Cylinders     float64\n",
              "Transmission Type     object\n",
              "Driven_Wheels         object\n",
              "Number of Doors      float64\n",
              "Market Category       object\n",
              "Vehicle Size          object\n",
              "Vehicle Style         object\n",
              "highway MPG            int64\n",
              "city mpg               int64\n",
              "Popularity             int64\n",
              "MSRP                   int64\n",
              "dtype: object"
            ]
          },
          "metadata": {
            "tags": []
          },
          "execution_count": 121
        }
      ]
    },
    {
      "cell_type": "markdown",
      "metadata": {
        "id": "IJDUmzh9PvrX",
        "colab_type": "text"
      },
      "source": [
        "# **Statistical Summary**"
      ]
    },
    {
      "cell_type": "code",
      "metadata": {
        "id": "f4czrfFGP1u9",
        "colab_type": "code",
        "colab": {
          "base_uri": "https://localhost:8080/",
          "height": 297
        },
        "outputId": "58c167dd-04b0-44fd-8f34-f6a577d540bd"
      },
      "source": [
        "# Checking the Statistical summary of the data\n",
        "carData.describe()"
      ],
      "execution_count": 122,
      "outputs": [
        {
          "output_type": "execute_result",
          "data": {
            "text/html": [
              "<div>\n",
              "<style scoped>\n",
              "    .dataframe tbody tr th:only-of-type {\n",
              "        vertical-align: middle;\n",
              "    }\n",
              "\n",
              "    .dataframe tbody tr th {\n",
              "        vertical-align: top;\n",
              "    }\n",
              "\n",
              "    .dataframe thead th {\n",
              "        text-align: right;\n",
              "    }\n",
              "</style>\n",
              "<table border=\"1\" class=\"dataframe\">\n",
              "  <thead>\n",
              "    <tr style=\"text-align: right;\">\n",
              "      <th></th>\n",
              "      <th>Year</th>\n",
              "      <th>Engine HP</th>\n",
              "      <th>Engine Cylinders</th>\n",
              "      <th>Number of Doors</th>\n",
              "      <th>highway MPG</th>\n",
              "      <th>city mpg</th>\n",
              "      <th>Popularity</th>\n",
              "      <th>MSRP</th>\n",
              "    </tr>\n",
              "  </thead>\n",
              "  <tbody>\n",
              "    <tr>\n",
              "      <th>count</th>\n",
              "      <td>11914.000000</td>\n",
              "      <td>11845.00000</td>\n",
              "      <td>11884.000000</td>\n",
              "      <td>11908.000000</td>\n",
              "      <td>11914.000000</td>\n",
              "      <td>11914.000000</td>\n",
              "      <td>11914.000000</td>\n",
              "      <td>1.191400e+04</td>\n",
              "    </tr>\n",
              "    <tr>\n",
              "      <th>mean</th>\n",
              "      <td>2010.384338</td>\n",
              "      <td>249.38607</td>\n",
              "      <td>5.628829</td>\n",
              "      <td>3.436093</td>\n",
              "      <td>26.637485</td>\n",
              "      <td>19.733255</td>\n",
              "      <td>1554.911197</td>\n",
              "      <td>4.059474e+04</td>\n",
              "    </tr>\n",
              "    <tr>\n",
              "      <th>std</th>\n",
              "      <td>7.579740</td>\n",
              "      <td>109.19187</td>\n",
              "      <td>1.780559</td>\n",
              "      <td>0.881315</td>\n",
              "      <td>8.863001</td>\n",
              "      <td>8.987798</td>\n",
              "      <td>1441.855347</td>\n",
              "      <td>6.010910e+04</td>\n",
              "    </tr>\n",
              "    <tr>\n",
              "      <th>min</th>\n",
              "      <td>1990.000000</td>\n",
              "      <td>55.00000</td>\n",
              "      <td>0.000000</td>\n",
              "      <td>2.000000</td>\n",
              "      <td>12.000000</td>\n",
              "      <td>7.000000</td>\n",
              "      <td>2.000000</td>\n",
              "      <td>2.000000e+03</td>\n",
              "    </tr>\n",
              "    <tr>\n",
              "      <th>25%</th>\n",
              "      <td>2007.000000</td>\n",
              "      <td>170.00000</td>\n",
              "      <td>4.000000</td>\n",
              "      <td>2.000000</td>\n",
              "      <td>22.000000</td>\n",
              "      <td>16.000000</td>\n",
              "      <td>549.000000</td>\n",
              "      <td>2.100000e+04</td>\n",
              "    </tr>\n",
              "    <tr>\n",
              "      <th>50%</th>\n",
              "      <td>2015.000000</td>\n",
              "      <td>227.00000</td>\n",
              "      <td>6.000000</td>\n",
              "      <td>4.000000</td>\n",
              "      <td>26.000000</td>\n",
              "      <td>18.000000</td>\n",
              "      <td>1385.000000</td>\n",
              "      <td>2.999500e+04</td>\n",
              "    </tr>\n",
              "    <tr>\n",
              "      <th>75%</th>\n",
              "      <td>2016.000000</td>\n",
              "      <td>300.00000</td>\n",
              "      <td>6.000000</td>\n",
              "      <td>4.000000</td>\n",
              "      <td>30.000000</td>\n",
              "      <td>22.000000</td>\n",
              "      <td>2009.000000</td>\n",
              "      <td>4.223125e+04</td>\n",
              "    </tr>\n",
              "    <tr>\n",
              "      <th>max</th>\n",
              "      <td>2017.000000</td>\n",
              "      <td>1001.00000</td>\n",
              "      <td>16.000000</td>\n",
              "      <td>4.000000</td>\n",
              "      <td>354.000000</td>\n",
              "      <td>137.000000</td>\n",
              "      <td>5657.000000</td>\n",
              "      <td>2.065902e+06</td>\n",
              "    </tr>\n",
              "  </tbody>\n",
              "</table>\n",
              "</div>"
            ],
            "text/plain": [
              "               Year    Engine HP  ...    Popularity          MSRP\n",
              "count  11914.000000  11845.00000  ...  11914.000000  1.191400e+04\n",
              "mean    2010.384338    249.38607  ...   1554.911197  4.059474e+04\n",
              "std        7.579740    109.19187  ...   1441.855347  6.010910e+04\n",
              "min     1990.000000     55.00000  ...      2.000000  2.000000e+03\n",
              "25%     2007.000000    170.00000  ...    549.000000  2.100000e+04\n",
              "50%     2015.000000    227.00000  ...   1385.000000  2.999500e+04\n",
              "75%     2016.000000    300.00000  ...   2009.000000  4.223125e+04\n",
              "max     2017.000000   1001.00000  ...   5657.000000  2.065902e+06\n",
              "\n",
              "[8 rows x 8 columns]"
            ]
          },
          "metadata": {
            "tags": []
          },
          "execution_count": 122
        }
      ]
    },
    {
      "cell_type": "code",
      "metadata": {
        "id": "9O1Z36xzA5_L",
        "colab_type": "code",
        "colab": {
          "base_uri": "https://localhost:8080/",
          "height": 34
        },
        "outputId": "24bbe9b7-1205-4aa1-dd88-8e8c7a5a96e8"
      },
      "source": [
        "# Checking the Shape of the dataset\n",
        "carData.shape"
      ],
      "execution_count": 123,
      "outputs": [
        {
          "output_type": "execute_result",
          "data": {
            "text/plain": [
              "(11914, 16)"
            ]
          },
          "metadata": {
            "tags": []
          },
          "execution_count": 123
        }
      ]
    },
    {
      "cell_type": "code",
      "metadata": {
        "id": "i6zGG6dhA-9j",
        "colab_type": "code",
        "colab": {
          "base_uri": "https://localhost:8080/",
          "height": 306
        },
        "outputId": "98435b29-9b12-4bb1-91bf-8048faac3c1c"
      },
      "source": [
        "# Checking the number of NULL values, if existent\n",
        "d=carData.isnull().sum()\n",
        "d"
      ],
      "execution_count": 124,
      "outputs": [
        {
          "output_type": "execute_result",
          "data": {
            "text/plain": [
              "Make                    0\n",
              "Model                   0\n",
              "Year                    0\n",
              "Engine Fuel Type        3\n",
              "Engine HP              69\n",
              "Engine Cylinders       30\n",
              "Transmission Type       0\n",
              "Driven_Wheels           0\n",
              "Number of Doors         6\n",
              "Market Category      3742\n",
              "Vehicle Size            0\n",
              "Vehicle Style           0\n",
              "highway MPG             0\n",
              "city mpg                0\n",
              "Popularity              0\n",
              "MSRP                    0\n",
              "dtype: int64"
            ]
          },
          "metadata": {
            "tags": []
          },
          "execution_count": 124
        }
      ]
    },
    {
      "cell_type": "markdown",
      "metadata": {
        "id": "eAWgVca1BMPb",
        "colab_type": "text"
      },
      "source": [
        "# **Dropping the less significant columns**"
      ]
    },
    {
      "cell_type": "code",
      "metadata": {
        "id": "yrfurL4NBQxZ",
        "colab_type": "code",
        "colab": {
          "base_uri": "https://localhost:8080/",
          "height": 34
        },
        "outputId": "542b626f-f76c-488b-a58a-6936418c910f"
      },
      "source": [
        "# Checking shape of dataset before dropping columns\n",
        "carData.shape"
      ],
      "execution_count": 125,
      "outputs": [
        {
          "output_type": "execute_result",
          "data": {
            "text/plain": [
              "(11914, 16)"
            ]
          },
          "metadata": {
            "tags": []
          },
          "execution_count": 125
        }
      ]
    },
    {
      "cell_type": "code",
      "metadata": {
        "id": "V-wgcFz5BbJC",
        "colab_type": "code",
        "colab": {
          "base_uri": "https://localhost:8080/",
          "height": 343
        },
        "outputId": "0b084ed6-423c-4dd7-ffa4-e17e8e0b0f5a"
      },
      "source": [
        "# Eliminating the less significant columns\n",
        "carData = carData.drop(['Engine Fuel Type','Number of Doors','Market Category'], axis = 1)\n",
        "carData.head()"
      ],
      "execution_count": 126,
      "outputs": [
        {
          "output_type": "execute_result",
          "data": {
            "text/html": [
              "<div>\n",
              "<style scoped>\n",
              "    .dataframe tbody tr th:only-of-type {\n",
              "        vertical-align: middle;\n",
              "    }\n",
              "\n",
              "    .dataframe tbody tr th {\n",
              "        vertical-align: top;\n",
              "    }\n",
              "\n",
              "    .dataframe thead th {\n",
              "        text-align: right;\n",
              "    }\n",
              "</style>\n",
              "<table border=\"1\" class=\"dataframe\">\n",
              "  <thead>\n",
              "    <tr style=\"text-align: right;\">\n",
              "      <th></th>\n",
              "      <th>Make</th>\n",
              "      <th>Model</th>\n",
              "      <th>Year</th>\n",
              "      <th>Engine HP</th>\n",
              "      <th>Engine Cylinders</th>\n",
              "      <th>Transmission Type</th>\n",
              "      <th>Driven_Wheels</th>\n",
              "      <th>Vehicle Size</th>\n",
              "      <th>Vehicle Style</th>\n",
              "      <th>highway MPG</th>\n",
              "      <th>city mpg</th>\n",
              "      <th>Popularity</th>\n",
              "      <th>MSRP</th>\n",
              "    </tr>\n",
              "  </thead>\n",
              "  <tbody>\n",
              "    <tr>\n",
              "      <th>0</th>\n",
              "      <td>BMW</td>\n",
              "      <td>1 Series M</td>\n",
              "      <td>2011</td>\n",
              "      <td>335.0</td>\n",
              "      <td>6.0</td>\n",
              "      <td>MANUAL</td>\n",
              "      <td>rear wheel drive</td>\n",
              "      <td>Compact</td>\n",
              "      <td>Coupe</td>\n",
              "      <td>26</td>\n",
              "      <td>19</td>\n",
              "      <td>3916</td>\n",
              "      <td>46135</td>\n",
              "    </tr>\n",
              "    <tr>\n",
              "      <th>1</th>\n",
              "      <td>BMW</td>\n",
              "      <td>1 Series</td>\n",
              "      <td>2011</td>\n",
              "      <td>300.0</td>\n",
              "      <td>6.0</td>\n",
              "      <td>MANUAL</td>\n",
              "      <td>rear wheel drive</td>\n",
              "      <td>Compact</td>\n",
              "      <td>Convertible</td>\n",
              "      <td>28</td>\n",
              "      <td>19</td>\n",
              "      <td>3916</td>\n",
              "      <td>40650</td>\n",
              "    </tr>\n",
              "    <tr>\n",
              "      <th>2</th>\n",
              "      <td>BMW</td>\n",
              "      <td>1 Series</td>\n",
              "      <td>2011</td>\n",
              "      <td>300.0</td>\n",
              "      <td>6.0</td>\n",
              "      <td>MANUAL</td>\n",
              "      <td>rear wheel drive</td>\n",
              "      <td>Compact</td>\n",
              "      <td>Coupe</td>\n",
              "      <td>28</td>\n",
              "      <td>20</td>\n",
              "      <td>3916</td>\n",
              "      <td>36350</td>\n",
              "    </tr>\n",
              "    <tr>\n",
              "      <th>3</th>\n",
              "      <td>BMW</td>\n",
              "      <td>1 Series</td>\n",
              "      <td>2011</td>\n",
              "      <td>230.0</td>\n",
              "      <td>6.0</td>\n",
              "      <td>MANUAL</td>\n",
              "      <td>rear wheel drive</td>\n",
              "      <td>Compact</td>\n",
              "      <td>Coupe</td>\n",
              "      <td>28</td>\n",
              "      <td>18</td>\n",
              "      <td>3916</td>\n",
              "      <td>29450</td>\n",
              "    </tr>\n",
              "    <tr>\n",
              "      <th>4</th>\n",
              "      <td>BMW</td>\n",
              "      <td>1 Series</td>\n",
              "      <td>2011</td>\n",
              "      <td>230.0</td>\n",
              "      <td>6.0</td>\n",
              "      <td>MANUAL</td>\n",
              "      <td>rear wheel drive</td>\n",
              "      <td>Compact</td>\n",
              "      <td>Convertible</td>\n",
              "      <td>28</td>\n",
              "      <td>18</td>\n",
              "      <td>3916</td>\n",
              "      <td>34500</td>\n",
              "    </tr>\n",
              "  </tbody>\n",
              "</table>\n",
              "</div>"
            ],
            "text/plain": [
              "  Make       Model  Year  Engine HP  ...  highway MPG city mpg Popularity   MSRP\n",
              "0  BMW  1 Series M  2011      335.0  ...           26       19       3916  46135\n",
              "1  BMW    1 Series  2011      300.0  ...           28       19       3916  40650\n",
              "2  BMW    1 Series  2011      300.0  ...           28       20       3916  36350\n",
              "3  BMW    1 Series  2011      230.0  ...           28       18       3916  29450\n",
              "4  BMW    1 Series  2011      230.0  ...           28       18       3916  34500\n",
              "\n",
              "[5 rows x 13 columns]"
            ]
          },
          "metadata": {
            "tags": []
          },
          "execution_count": 126
        }
      ]
    },
    {
      "cell_type": "code",
      "metadata": {
        "id": "qErecGs0Bply",
        "colab_type": "code",
        "colab": {
          "base_uri": "https://localhost:8080/",
          "height": 34
        },
        "outputId": "5b673ff2-0ce4-41d9-b666-024d7d381dd8"
      },
      "source": [
        "# Checking shape of dataset after less significant columns have been dropped\n",
        "carData.shape"
      ],
      "execution_count": 127,
      "outputs": [
        {
          "output_type": "execute_result",
          "data": {
            "text/plain": [
              "(11914, 13)"
            ]
          },
          "metadata": {
            "tags": []
          },
          "execution_count": 127
        }
      ]
    },
    {
      "cell_type": "markdown",
      "metadata": {
        "id": "HldTcgH5QrzY",
        "colab_type": "text"
      },
      "source": [
        "# **Renaming the columns**"
      ]
    },
    {
      "cell_type": "code",
      "metadata": {
        "id": "BfAgxtBXQynt",
        "colab_type": "code",
        "colab": {}
      },
      "source": [
        "# Renaming the columns mentioned in the problem statement\n",
        "carData.rename(columns = { \"Engine HP\": \"HP\", \"Engine Cylinders\": \"Cylinders\",\n",
        "                          \"Transmission Type\": \"Transmission\", \"Driven_Wheels\": \"Drive Mode\",\"highway MPG\": \"MPG-H\",\n",
        "                          \"city mpg\": \"MPG-C\", \"MSRP\": \"Price\"}, inplace = True)"
      ],
      "execution_count": 129,
      "outputs": []
    },
    {
      "cell_type": "code",
      "metadata": {
        "id": "8At-g0OCCl1a",
        "colab_type": "code",
        "colab": {
          "base_uri": "https://localhost:8080/",
          "height": 306
        },
        "outputId": "47c0a492-edde-4d99-f259-abbfd785c1e8"
      },
      "source": [
        "# Displaying the changed columns\n",
        "carData.head()"
      ],
      "execution_count": 130,
      "outputs": [
        {
          "output_type": "execute_result",
          "data": {
            "text/html": [
              "<div>\n",
              "<style scoped>\n",
              "    .dataframe tbody tr th:only-of-type {\n",
              "        vertical-align: middle;\n",
              "    }\n",
              "\n",
              "    .dataframe tbody tr th {\n",
              "        vertical-align: top;\n",
              "    }\n",
              "\n",
              "    .dataframe thead th {\n",
              "        text-align: right;\n",
              "    }\n",
              "</style>\n",
              "<table border=\"1\" class=\"dataframe\">\n",
              "  <thead>\n",
              "    <tr style=\"text-align: right;\">\n",
              "      <th></th>\n",
              "      <th>Make</th>\n",
              "      <th>Model</th>\n",
              "      <th>Year</th>\n",
              "      <th>HP</th>\n",
              "      <th>Cylinders</th>\n",
              "      <th>Transmission</th>\n",
              "      <th>Drive Mode</th>\n",
              "      <th>Vehicle Size</th>\n",
              "      <th>Vehicle Style</th>\n",
              "      <th>MPG-H</th>\n",
              "      <th>MPG-C</th>\n",
              "      <th>Popularity</th>\n",
              "      <th>Price</th>\n",
              "    </tr>\n",
              "  </thead>\n",
              "  <tbody>\n",
              "    <tr>\n",
              "      <th>0</th>\n",
              "      <td>BMW</td>\n",
              "      <td>1 Series M</td>\n",
              "      <td>2011</td>\n",
              "      <td>335.0</td>\n",
              "      <td>6.0</td>\n",
              "      <td>MANUAL</td>\n",
              "      <td>rear wheel drive</td>\n",
              "      <td>Compact</td>\n",
              "      <td>Coupe</td>\n",
              "      <td>26</td>\n",
              "      <td>19</td>\n",
              "      <td>3916</td>\n",
              "      <td>46135</td>\n",
              "    </tr>\n",
              "    <tr>\n",
              "      <th>1</th>\n",
              "      <td>BMW</td>\n",
              "      <td>1 Series</td>\n",
              "      <td>2011</td>\n",
              "      <td>300.0</td>\n",
              "      <td>6.0</td>\n",
              "      <td>MANUAL</td>\n",
              "      <td>rear wheel drive</td>\n",
              "      <td>Compact</td>\n",
              "      <td>Convertible</td>\n",
              "      <td>28</td>\n",
              "      <td>19</td>\n",
              "      <td>3916</td>\n",
              "      <td>40650</td>\n",
              "    </tr>\n",
              "    <tr>\n",
              "      <th>2</th>\n",
              "      <td>BMW</td>\n",
              "      <td>1 Series</td>\n",
              "      <td>2011</td>\n",
              "      <td>300.0</td>\n",
              "      <td>6.0</td>\n",
              "      <td>MANUAL</td>\n",
              "      <td>rear wheel drive</td>\n",
              "      <td>Compact</td>\n",
              "      <td>Coupe</td>\n",
              "      <td>28</td>\n",
              "      <td>20</td>\n",
              "      <td>3916</td>\n",
              "      <td>36350</td>\n",
              "    </tr>\n",
              "    <tr>\n",
              "      <th>3</th>\n",
              "      <td>BMW</td>\n",
              "      <td>1 Series</td>\n",
              "      <td>2011</td>\n",
              "      <td>230.0</td>\n",
              "      <td>6.0</td>\n",
              "      <td>MANUAL</td>\n",
              "      <td>rear wheel drive</td>\n",
              "      <td>Compact</td>\n",
              "      <td>Coupe</td>\n",
              "      <td>28</td>\n",
              "      <td>18</td>\n",
              "      <td>3916</td>\n",
              "      <td>29450</td>\n",
              "    </tr>\n",
              "    <tr>\n",
              "      <th>4</th>\n",
              "      <td>BMW</td>\n",
              "      <td>1 Series</td>\n",
              "      <td>2011</td>\n",
              "      <td>230.0</td>\n",
              "      <td>6.0</td>\n",
              "      <td>MANUAL</td>\n",
              "      <td>rear wheel drive</td>\n",
              "      <td>Compact</td>\n",
              "      <td>Convertible</td>\n",
              "      <td>28</td>\n",
              "      <td>18</td>\n",
              "      <td>3916</td>\n",
              "      <td>34500</td>\n",
              "    </tr>\n",
              "  </tbody>\n",
              "</table>\n",
              "</div>"
            ],
            "text/plain": [
              "  Make       Model  Year     HP  ...  MPG-H MPG-C Popularity  Price\n",
              "0  BMW  1 Series M  2011  335.0  ...     26    19       3916  46135\n",
              "1  BMW    1 Series  2011  300.0  ...     28    19       3916  40650\n",
              "2  BMW    1 Series  2011  300.0  ...     28    20       3916  36350\n",
              "3  BMW    1 Series  2011  230.0  ...     28    18       3916  29450\n",
              "4  BMW    1 Series  2011  230.0  ...     28    18       3916  34500\n",
              "\n",
              "[5 rows x 13 columns]"
            ]
          },
          "metadata": {
            "tags": []
          },
          "execution_count": 130
        }
      ]
    },
    {
      "cell_type": "markdown",
      "metadata": {
        "id": "J9XOB9F8TAPX",
        "colab_type": "text"
      },
      "source": [
        "# **Detection and Removal of duplicates, null values and missing data in the dataset**"
      ]
    },
    {
      "cell_type": "code",
      "metadata": {
        "id": "aQGNSJmKTMDx",
        "colab_type": "code",
        "colab": {
          "base_uri": "https://localhost:8080/",
          "height": 34
        },
        "outputId": "14502700-e1bd-48fa-967b-8c244882c1f0"
      },
      "source": [
        "# Checking shape of dataset before dropping duplicates, null values and the missing data\n",
        "carData.shape"
      ],
      "execution_count": 132,
      "outputs": [
        {
          "output_type": "execute_result",
          "data": {
            "text/plain": [
              "(11914, 13)"
            ]
          },
          "metadata": {
            "tags": []
          },
          "execution_count": 132
        }
      ]
    },
    {
      "cell_type": "code",
      "metadata": {
        "id": "XQosnv2pDB0R",
        "colab_type": "code",
        "colab": {
          "base_uri": "https://localhost:8080/",
          "height": 708
        },
        "outputId": "fb475089-6045-4d07-b888-8ab3fc95ff4f"
      },
      "source": [
        "# Detecting and dropping the duplicates\n",
        "carData.drop_duplicates()"
      ],
      "execution_count": 133,
      "outputs": [
        {
          "output_type": "execute_result",
          "data": {
            "text/html": [
              "<div>\n",
              "<style scoped>\n",
              "    .dataframe tbody tr th:only-of-type {\n",
              "        vertical-align: middle;\n",
              "    }\n",
              "\n",
              "    .dataframe tbody tr th {\n",
              "        vertical-align: top;\n",
              "    }\n",
              "\n",
              "    .dataframe thead th {\n",
              "        text-align: right;\n",
              "    }\n",
              "</style>\n",
              "<table border=\"1\" class=\"dataframe\">\n",
              "  <thead>\n",
              "    <tr style=\"text-align: right;\">\n",
              "      <th></th>\n",
              "      <th>Make</th>\n",
              "      <th>Model</th>\n",
              "      <th>Year</th>\n",
              "      <th>HP</th>\n",
              "      <th>Cylinders</th>\n",
              "      <th>Transmission</th>\n",
              "      <th>Drive Mode</th>\n",
              "      <th>Vehicle Size</th>\n",
              "      <th>Vehicle Style</th>\n",
              "      <th>MPG-H</th>\n",
              "      <th>MPG-C</th>\n",
              "      <th>Popularity</th>\n",
              "      <th>Price</th>\n",
              "    </tr>\n",
              "  </thead>\n",
              "  <tbody>\n",
              "    <tr>\n",
              "      <th>0</th>\n",
              "      <td>BMW</td>\n",
              "      <td>1 Series M</td>\n",
              "      <td>2011</td>\n",
              "      <td>335.0</td>\n",
              "      <td>6.0</td>\n",
              "      <td>MANUAL</td>\n",
              "      <td>rear wheel drive</td>\n",
              "      <td>Compact</td>\n",
              "      <td>Coupe</td>\n",
              "      <td>26</td>\n",
              "      <td>19</td>\n",
              "      <td>3916</td>\n",
              "      <td>46135</td>\n",
              "    </tr>\n",
              "    <tr>\n",
              "      <th>1</th>\n",
              "      <td>BMW</td>\n",
              "      <td>1 Series</td>\n",
              "      <td>2011</td>\n",
              "      <td>300.0</td>\n",
              "      <td>6.0</td>\n",
              "      <td>MANUAL</td>\n",
              "      <td>rear wheel drive</td>\n",
              "      <td>Compact</td>\n",
              "      <td>Convertible</td>\n",
              "      <td>28</td>\n",
              "      <td>19</td>\n",
              "      <td>3916</td>\n",
              "      <td>40650</td>\n",
              "    </tr>\n",
              "    <tr>\n",
              "      <th>2</th>\n",
              "      <td>BMW</td>\n",
              "      <td>1 Series</td>\n",
              "      <td>2011</td>\n",
              "      <td>300.0</td>\n",
              "      <td>6.0</td>\n",
              "      <td>MANUAL</td>\n",
              "      <td>rear wheel drive</td>\n",
              "      <td>Compact</td>\n",
              "      <td>Coupe</td>\n",
              "      <td>28</td>\n",
              "      <td>20</td>\n",
              "      <td>3916</td>\n",
              "      <td>36350</td>\n",
              "    </tr>\n",
              "    <tr>\n",
              "      <th>3</th>\n",
              "      <td>BMW</td>\n",
              "      <td>1 Series</td>\n",
              "      <td>2011</td>\n",
              "      <td>230.0</td>\n",
              "      <td>6.0</td>\n",
              "      <td>MANUAL</td>\n",
              "      <td>rear wheel drive</td>\n",
              "      <td>Compact</td>\n",
              "      <td>Coupe</td>\n",
              "      <td>28</td>\n",
              "      <td>18</td>\n",
              "      <td>3916</td>\n",
              "      <td>29450</td>\n",
              "    </tr>\n",
              "    <tr>\n",
              "      <th>4</th>\n",
              "      <td>BMW</td>\n",
              "      <td>1 Series</td>\n",
              "      <td>2011</td>\n",
              "      <td>230.0</td>\n",
              "      <td>6.0</td>\n",
              "      <td>MANUAL</td>\n",
              "      <td>rear wheel drive</td>\n",
              "      <td>Compact</td>\n",
              "      <td>Convertible</td>\n",
              "      <td>28</td>\n",
              "      <td>18</td>\n",
              "      <td>3916</td>\n",
              "      <td>34500</td>\n",
              "    </tr>\n",
              "    <tr>\n",
              "      <th>...</th>\n",
              "      <td>...</td>\n",
              "      <td>...</td>\n",
              "      <td>...</td>\n",
              "      <td>...</td>\n",
              "      <td>...</td>\n",
              "      <td>...</td>\n",
              "      <td>...</td>\n",
              "      <td>...</td>\n",
              "      <td>...</td>\n",
              "      <td>...</td>\n",
              "      <td>...</td>\n",
              "      <td>...</td>\n",
              "      <td>...</td>\n",
              "    </tr>\n",
              "    <tr>\n",
              "      <th>11909</th>\n",
              "      <td>Acura</td>\n",
              "      <td>ZDX</td>\n",
              "      <td>2012</td>\n",
              "      <td>300.0</td>\n",
              "      <td>6.0</td>\n",
              "      <td>AUTOMATIC</td>\n",
              "      <td>all wheel drive</td>\n",
              "      <td>Midsize</td>\n",
              "      <td>4dr Hatchback</td>\n",
              "      <td>23</td>\n",
              "      <td>16</td>\n",
              "      <td>204</td>\n",
              "      <td>46120</td>\n",
              "    </tr>\n",
              "    <tr>\n",
              "      <th>11910</th>\n",
              "      <td>Acura</td>\n",
              "      <td>ZDX</td>\n",
              "      <td>2012</td>\n",
              "      <td>300.0</td>\n",
              "      <td>6.0</td>\n",
              "      <td>AUTOMATIC</td>\n",
              "      <td>all wheel drive</td>\n",
              "      <td>Midsize</td>\n",
              "      <td>4dr Hatchback</td>\n",
              "      <td>23</td>\n",
              "      <td>16</td>\n",
              "      <td>204</td>\n",
              "      <td>56670</td>\n",
              "    </tr>\n",
              "    <tr>\n",
              "      <th>11911</th>\n",
              "      <td>Acura</td>\n",
              "      <td>ZDX</td>\n",
              "      <td>2012</td>\n",
              "      <td>300.0</td>\n",
              "      <td>6.0</td>\n",
              "      <td>AUTOMATIC</td>\n",
              "      <td>all wheel drive</td>\n",
              "      <td>Midsize</td>\n",
              "      <td>4dr Hatchback</td>\n",
              "      <td>23</td>\n",
              "      <td>16</td>\n",
              "      <td>204</td>\n",
              "      <td>50620</td>\n",
              "    </tr>\n",
              "    <tr>\n",
              "      <th>11912</th>\n",
              "      <td>Acura</td>\n",
              "      <td>ZDX</td>\n",
              "      <td>2013</td>\n",
              "      <td>300.0</td>\n",
              "      <td>6.0</td>\n",
              "      <td>AUTOMATIC</td>\n",
              "      <td>all wheel drive</td>\n",
              "      <td>Midsize</td>\n",
              "      <td>4dr Hatchback</td>\n",
              "      <td>23</td>\n",
              "      <td>16</td>\n",
              "      <td>204</td>\n",
              "      <td>50920</td>\n",
              "    </tr>\n",
              "    <tr>\n",
              "      <th>11913</th>\n",
              "      <td>Lincoln</td>\n",
              "      <td>Zephyr</td>\n",
              "      <td>2006</td>\n",
              "      <td>221.0</td>\n",
              "      <td>6.0</td>\n",
              "      <td>AUTOMATIC</td>\n",
              "      <td>front wheel drive</td>\n",
              "      <td>Midsize</td>\n",
              "      <td>Sedan</td>\n",
              "      <td>26</td>\n",
              "      <td>17</td>\n",
              "      <td>61</td>\n",
              "      <td>28995</td>\n",
              "    </tr>\n",
              "  </tbody>\n",
              "</table>\n",
              "<p>11122 rows × 13 columns</p>\n",
              "</div>"
            ],
            "text/plain": [
              "          Make       Model  Year     HP  ...  MPG-H MPG-C Popularity  Price\n",
              "0          BMW  1 Series M  2011  335.0  ...     26    19       3916  46135\n",
              "1          BMW    1 Series  2011  300.0  ...     28    19       3916  40650\n",
              "2          BMW    1 Series  2011  300.0  ...     28    20       3916  36350\n",
              "3          BMW    1 Series  2011  230.0  ...     28    18       3916  29450\n",
              "4          BMW    1 Series  2011  230.0  ...     28    18       3916  34500\n",
              "...        ...         ...   ...    ...  ...    ...   ...        ...    ...\n",
              "11909    Acura         ZDX  2012  300.0  ...     23    16        204  46120\n",
              "11910    Acura         ZDX  2012  300.0  ...     23    16        204  56670\n",
              "11911    Acura         ZDX  2012  300.0  ...     23    16        204  50620\n",
              "11912    Acura         ZDX  2013  300.0  ...     23    16        204  50920\n",
              "11913  Lincoln      Zephyr  2006  221.0  ...     26    17         61  28995\n",
              "\n",
              "[11122 rows x 13 columns]"
            ]
          },
          "metadata": {
            "tags": []
          },
          "execution_count": 133
        }
      ]
    },
    {
      "cell_type": "code",
      "metadata": {
        "id": "qAPO6at1DIYq",
        "colab_type": "code",
        "colab": {
          "base_uri": "https://localhost:8080/",
          "height": 255
        },
        "outputId": "9216e47d-e3cf-40bd-b8d4-9b57822735cb"
      },
      "source": [
        "# Checking the remaining NULL values\n",
        "print(carData.isnull().sum())"
      ],
      "execution_count": 134,
      "outputs": [
        {
          "output_type": "stream",
          "text": [
            "Make              0\n",
            "Model             0\n",
            "Year              0\n",
            "HP               69\n",
            "Cylinders        30\n",
            "Transmission      0\n",
            "Drive Mode        0\n",
            "Vehicle Size      0\n",
            "Vehicle Style     0\n",
            "MPG-H             0\n",
            "MPG-C             0\n",
            "Popularity        0\n",
            "Price             0\n",
            "dtype: int64\n"
          ],
          "name": "stdout"
        }
      ]
    },
    {
      "cell_type": "code",
      "metadata": {
        "id": "JHTSoDyPDPPg",
        "colab_type": "code",
        "colab": {
          "base_uri": "https://localhost:8080/",
          "height": 255
        },
        "outputId": "a7be7a8c-a5f5-48c6-a9d5-36c951f4dec1"
      },
      "source": [
        "# Dropping the null values\n",
        "carData=carData.dropna()\n",
        "carData.count()"
      ],
      "execution_count": 135,
      "outputs": [
        {
          "output_type": "execute_result",
          "data": {
            "text/plain": [
              "Make             11816\n",
              "Model            11816\n",
              "Year             11816\n",
              "HP               11816\n",
              "Cylinders        11816\n",
              "Transmission     11816\n",
              "Drive Mode       11816\n",
              "Vehicle Size     11816\n",
              "Vehicle Style    11816\n",
              "MPG-H            11816\n",
              "MPG-C            11816\n",
              "Popularity       11816\n",
              "Price            11816\n",
              "dtype: int64"
            ]
          },
          "metadata": {
            "tags": []
          },
          "execution_count": 135
        }
      ]
    },
    {
      "cell_type": "code",
      "metadata": {
        "id": "bIZp6-jyDmjG",
        "colab_type": "code",
        "colab": {
          "base_uri": "https://localhost:8080/",
          "height": 255
        },
        "outputId": "cdcdf790-d136-4d92-ccd4-1790939cb4bc"
      },
      "source": [
        "# Checking the number of null values after the null data is dropped\n",
        "carData.isnull().sum()"
      ],
      "execution_count": 136,
      "outputs": [
        {
          "output_type": "execute_result",
          "data": {
            "text/plain": [
              "Make             0\n",
              "Model            0\n",
              "Year             0\n",
              "HP               0\n",
              "Cylinders        0\n",
              "Transmission     0\n",
              "Drive Mode       0\n",
              "Vehicle Size     0\n",
              "Vehicle Style    0\n",
              "MPG-H            0\n",
              "MPG-C            0\n",
              "Popularity       0\n",
              "Price            0\n",
              "dtype: int64"
            ]
          },
          "metadata": {
            "tags": []
          },
          "execution_count": 136
        }
      ]
    },
    {
      "cell_type": "code",
      "metadata": {
        "id": "7hSmbwXlDsNf",
        "colab_type": "code",
        "colab": {
          "base_uri": "https://localhost:8080/",
          "height": 34
        },
        "outputId": "372cc2c2-0e18-45ff-d507-e994265cb1b0"
      },
      "source": [
        "# Checking shape of dataset after removal of duplicates, missing data and Null values\n",
        "carData.shape"
      ],
      "execution_count": 137,
      "outputs": [
        {
          "output_type": "execute_result",
          "data": {
            "text/plain": [
              "(11816, 13)"
            ]
          },
          "metadata": {
            "tags": []
          },
          "execution_count": 137
        }
      ]
    },
    {
      "cell_type": "markdown",
      "metadata": {
        "id": "dUybW4e8D932",
        "colab_type": "text"
      },
      "source": [
        "**Thus it is observed that the shape of the dataset has greatly changed on removing the duplicates, missing values and the null values. It is seen that the number of rows in the dataset have changed from 11914 to 11816, with the number of columns being the same.**"
      ]
    },
    {
      "cell_type": "markdown",
      "metadata": {
        "id": "jA-4MfLWVbLa",
        "colab_type": "text"
      },
      "source": [
        "# **Detecting outliers**\n",
        "Boxplot of price"
      ]
    },
    {
      "cell_type": "markdown",
      "metadata": {
        "id": "FzNFt8g0EFMA",
        "colab_type": "text"
      },
      "source": [
        "**Plotting graphs for various columns and detection and removal of outliers**"
      ]
    },
    {
      "cell_type": "code",
      "metadata": {
        "id": "lngfmPDWVjZz",
        "colab_type": "code",
        "colab": {
          "base_uri": "https://localhost:8080/",
          "height": 302
        },
        "outputId": "ba0322aa-a529-411e-cbb7-12d247c8c287"
      },
      "source": [
        "# Plotting graphs of Data(Columns)\n",
        "sns.boxplot(x=carData['Price'])"
      ],
      "execution_count": 139,
      "outputs": [
        {
          "output_type": "execute_result",
          "data": {
            "text/plain": [
              "<matplotlib.axes._subplots.AxesSubplot at 0x7f14b5aa2908>"
            ]
          },
          "metadata": {
            "tags": []
          },
          "execution_count": 139
        },
        {
          "output_type": "display_data",
          "data": {
            "image/png": "[encoded data removed]",
            "text/plain": [
              "<Figure size 432x288 with 1 Axes>"
            ]
          },
          "metadata": {
            "tags": []
          }
        }
      ]
    },
    {
      "cell_type": "markdown",
      "metadata": {
        "id": "04v8X04yVwJx",
        "colab_type": "text"
      },
      "source": [
        "Boxplot of HP"
      ]
    },
    {
      "cell_type": "code",
      "metadata": {
        "id": "M0H6zN0vVy-s",
        "colab_type": "code",
        "colab": {
          "base_uri": "https://localhost:8080/",
          "height": 302
        },
        "outputId": "3560fed9-b1e1-40d0-a84d-62739cbc87ee"
      },
      "source": [
        "sns.boxplot(x=carData['HP'])"
      ],
      "execution_count": 140,
      "outputs": [
        {
          "output_type": "execute_result",
          "data": {
            "text/plain": [
              "<matplotlib.axes._subplots.AxesSubplot at 0x7f14b5a70358>"
            ]
          },
          "metadata": {
            "tags": []
          },
          "execution_count": 140
        },
        {
          "output_type": "display_data",
          "data": {
            "image/png": "[encoded data removed]",
            "text/plain": [
              "<Figure size 432x288 with 1 Axes>"
            ]
          },
          "metadata": {
            "tags": []
          }
        }
      ]
    },
    {
      "cell_type": "markdown",
      "metadata": {
        "id": "KsSStOqEV-Tl",
        "colab_type": "text"
      },
      "source": [
        "Boxplot of Cylinders"
      ]
    },
    {
      "cell_type": "code",
      "metadata": {
        "id": "YCafKsnwWB0C",
        "colab_type": "code",
        "colab": {
          "base_uri": "https://localhost:8080/",
          "height": 302
        },
        "outputId": "e66a2c56-aead-481e-e234-4cbddc07c394"
      },
      "source": [
        "sns.boxplot(x=carData['Cylinders'])"
      ],
      "execution_count": 141,
      "outputs": [
        {
          "output_type": "execute_result",
          "data": {
            "text/plain": [
              "<matplotlib.axes._subplots.AxesSubplot at 0x7f14b5a8de10>"
            ]
          },
          "metadata": {
            "tags": []
          },
          "execution_count": 141
        },
        {
          "output_type": "display_data",
          "data": {
            "image/png": "[encoded data removed]",
            "text/plain": [
              "<Figure size 432x288 with 1 Axes>"
            ]
          },
          "metadata": {
            "tags": []
          }
        }
      ]
    },
    {
      "cell_type": "markdown",
      "metadata": {
        "id": "3DtEy0aj6Ynj",
        "colab_type": "text"
      },
      "source": [
        "Boxplot of MPG-C"
      ]
    },
    {
      "cell_type": "code",
      "metadata": {
        "id": "hCtGtEEr6W2a",
        "colab_type": "code",
        "colab": {
          "base_uri": "https://localhost:8080/",
          "height": 302
        },
        "outputId": "3d0721fc-16c2-4348-c3fb-01dc8bd36ef3"
      },
      "source": [
        "sns.boxplot(x=carData['MPG-C'])"
      ],
      "execution_count": 142,
      "outputs": [
        {
          "output_type": "execute_result",
          "data": {
            "text/plain": [
              "<matplotlib.axes._subplots.AxesSubplot at 0x7f14b5bf4ba8>"
            ]
          },
          "metadata": {
            "tags": []
          },
          "execution_count": 142
        },
        {
          "output_type": "display_data",
          "data": {
            "image/png": "[encoded data removed]",
            "text/plain": [
              "<Figure size 432x288 with 1 Axes>"
            ]
          },
          "metadata": {
            "tags": []
          }
        }
      ]
    },
    {
      "cell_type": "markdown",
      "metadata": {
        "id": "kqF23zme6n4K",
        "colab_type": "text"
      },
      "source": [
        "Boxplot of MPG-H"
      ]
    },
    {
      "cell_type": "code",
      "metadata": {
        "id": "Y5kj-94_6rk7",
        "colab_type": "code",
        "colab": {
          "base_uri": "https://localhost:8080/",
          "height": 302
        },
        "outputId": "d2ca2595-d570-4aeb-fecb-ea19fa43d113"
      },
      "source": [
        "sns.boxplot(x=carData['MPG-H'])"
      ],
      "execution_count": 143,
      "outputs": [
        {
          "output_type": "execute_result",
          "data": {
            "text/plain": [
              "<matplotlib.axes._subplots.AxesSubplot at 0x7f14b59d6b70>"
            ]
          },
          "metadata": {
            "tags": []
          },
          "execution_count": 143
        },
        {
          "output_type": "display_data",
          "data": {
            "image/png": "[encoded data removed]",
            "text/plain": [
              "<Figure size 432x288 with 1 Axes>"
            ]
          },
          "metadata": {
            "tags": []
          }
        }
      ]
    },
    {
      "cell_type": "markdown",
      "metadata": {
        "id": "rdzFd5vP62IE",
        "colab_type": "text"
      },
      "source": [
        "Boxplot of Popularity"
      ]
    },
    {
      "cell_type": "code",
      "metadata": {
        "id": "4PypEji066As",
        "colab_type": "code",
        "colab": {
          "base_uri": "https://localhost:8080/",
          "height": 302
        },
        "outputId": "306db398-f6a7-4db0-9ba5-b1dddc2c5e09"
      },
      "source": [
        "sns.boxplot(x=carData['Popularity'])"
      ],
      "execution_count": 144,
      "outputs": [
        {
          "output_type": "execute_result",
          "data": {
            "text/plain": [
              "<matplotlib.axes._subplots.AxesSubplot at 0x7f14b591c048>"
            ]
          },
          "metadata": {
            "tags": []
          },
          "execution_count": 144
        },
        {
          "output_type": "display_data",
          "data": {
            "image/png": "[encoded data removed]",
            "text/plain": [
              "<Figure size 432x288 with 1 Axes>"
            ]
          },
          "metadata": {
            "tags": []
          }
        }
      ]
    },
    {
      "cell_type": "code",
      "metadata": {
        "id": "g84CPSdHE8yM",
        "colab_type": "code",
        "colab": {
          "base_uri": "https://localhost:8080/",
          "height": 34
        },
        "outputId": "5c72834a-816a-4054-a3d6-8d27049c2eb6"
      },
      "source": [
        "# Checking shape of dataset before removal of outliers\n",
        "carData.shape"
      ],
      "execution_count": 145,
      "outputs": [
        {
          "output_type": "execute_result",
          "data": {
            "text/plain": [
              "(11816, 13)"
            ]
          },
          "metadata": {
            "tags": []
          },
          "execution_count": 145
        }
      ]
    },
    {
      "cell_type": "markdown",
      "metadata": {
        "id": "yecX4bTMFCTN",
        "colab_type": "text"
      },
      "source": [
        "**In all the Box and Whisker Plots above, we see that there are certain points which lie outside the whiskers. These are the outliers.Thus, outliers are those points which the eye can easily see, as they as located outside the range of the whiskers, and farther away from the box plot. These have to be removed in order to better train the machine. One method of doing this is the Interquartile Range Method.**"
      ]
    },
    {
      "cell_type": "markdown",
      "metadata": {
        "id": "FFBb48w2WJbg",
        "colab_type": "text"
      },
      "source": [
        "# **Removing outliers**"
      ]
    },
    {
      "cell_type": "code",
      "metadata": {
        "id": "OoQJgzObWN5M",
        "colab_type": "code",
        "colab": {
          "base_uri": "https://localhost:8080/",
          "height": 153
        },
        "outputId": "11a23c83-952c-40a9-9aee-d7d0050f80b1"
      },
      "source": [
        "# Removal of outliers by Interquartile Range Method\n",
        "q1=carData.quantile(0.25)\n",
        "q3=carData.quantile(0.75)\n",
        "iqr=q3-q1\n",
        "iqr"
      ],
      "execution_count": 149,
      "outputs": [
        {
          "output_type": "execute_result",
          "data": {
            "text/plain": [
              "Year              9.0\n",
              "HP              130.0\n",
              "Cylinders         2.0\n",
              "MPG-H             8.0\n",
              "MPG-C             6.0\n",
              "Popularity     1460.0\n",
              "Price         21215.0\n",
              "dtype: float64"
            ]
          },
          "metadata": {
            "tags": []
          },
          "execution_count": 149
        }
      ]
    },
    {
      "cell_type": "code",
      "metadata": {
        "id": "2hacmgBZWxvb",
        "colab_type": "code",
        "colab": {}
      },
      "source": [
        "# Removing Outliners\n",
        "carData=carData[~((carData<(q1-1.5*iqr))|(carData>(q3+1.5*iqr))).any(axis=1)]"
      ],
      "execution_count": 150,
      "outputs": []
    },
    {
      "cell_type": "code",
      "metadata": {
        "id": "8JUkjNyOFpFl",
        "colab_type": "code",
        "colab": {
          "base_uri": "https://localhost:8080/",
          "height": 34
        },
        "outputId": "efdefbd8-b981-41e9-9ca9-e23e3cbe95ff"
      },
      "source": [
        "# Checking shape of dataset after removal of outliers\n",
        "carData.shape"
      ],
      "execution_count": 151,
      "outputs": [
        {
          "output_type": "execute_result",
          "data": {
            "text/plain": [
              "(9054, 13)"
            ]
          },
          "metadata": {
            "tags": []
          },
          "execution_count": 151
        }
      ]
    },
    {
      "cell_type": "markdown",
      "metadata": {
        "id": "hvE-Sw7fXKq-",
        "colab_type": "text"
      },
      "source": [
        "# **Checking if outliers are removed or not**\n",
        "Boxplot of price"
      ]
    },
    {
      "cell_type": "code",
      "metadata": {
        "id": "wA083GWyXRyT",
        "colab_type": "code",
        "colab": {
          "base_uri": "https://localhost:8080/",
          "height": 302
        },
        "outputId": "5e669934-4f65-4f11-fbd3-09c53ee1e3d7"
      },
      "source": [
        "sns.boxplot(x = carData['Price'])"
      ],
      "execution_count": 152,
      "outputs": [
        {
          "output_type": "execute_result",
          "data": {
            "text/plain": [
              "<matplotlib.axes._subplots.AxesSubplot at 0x7f14b58f4390>"
            ]
          },
          "metadata": {
            "tags": []
          },
          "execution_count": 152
        },
        {
          "output_type": "display_data",
          "data": {
            "image/png": "[encoded data removed]",
            "text/plain": [
              "<Figure size 432x288 with 1 Axes>"
            ]
          },
          "metadata": {
            "tags": []
          }
        }
      ]
    },
    {
      "cell_type": "markdown",
      "metadata": {
        "id": "CCSfGIuhXhcQ",
        "colab_type": "text"
      },
      "source": [
        "Boxplot of HP"
      ]
    },
    {
      "cell_type": "code",
      "metadata": {
        "id": "m2n6xH5yXj_9",
        "colab_type": "code",
        "colab": {
          "base_uri": "https://localhost:8080/",
          "height": 302
        },
        "outputId": "8df46a66-bc7f-40e1-93ee-808836b99843"
      },
      "source": [
        "sns.boxplot(x=carData['HP'])"
      ],
      "execution_count": 153,
      "outputs": [
        {
          "output_type": "execute_result",
          "data": {
            "text/plain": [
              "<matplotlib.axes._subplots.AxesSubplot at 0x7f14b5857e48>"
            ]
          },
          "metadata": {
            "tags": []
          },
          "execution_count": 153
        },
        {
          "output_type": "display_data",
          "data": {
            "image/png": "[encoded data removed]",
            "text/plain": [
              "<Figure size 432x288 with 1 Axes>"
            ]
          },
          "metadata": {
            "tags": []
          }
        }
      ]
    },
    {
      "cell_type": "markdown",
      "metadata": {
        "id": "fUMlN8v3Xqj9",
        "colab_type": "text"
      },
      "source": [
        "Boxplot of Cylinders"
      ]
    },
    {
      "cell_type": "code",
      "metadata": {
        "id": "qHVlNUDxXuzx",
        "colab_type": "code",
        "colab": {
          "base_uri": "https://localhost:8080/",
          "height": 302
        },
        "outputId": "600abf5a-d39e-4511-a017-976355d95e34"
      },
      "source": [
        "sns.boxplot(x = carData['Cylinders'])"
      ],
      "execution_count": 154,
      "outputs": [
        {
          "output_type": "execute_result",
          "data": {
            "text/plain": [
              "<matplotlib.axes._subplots.AxesSubplot at 0x7f14b5851ba8>"
            ]
          },
          "metadata": {
            "tags": []
          },
          "execution_count": 154
        },
        {
          "output_type": "display_data",
          "data": {
            "image/png": "[encoded data removed]",
            "text/plain": [
              "<Figure size 432x288 with 1 Axes>"
            ]
          },
          "metadata": {
            "tags": []
          }
        }
      ]
    },
    {
      "cell_type": "markdown",
      "metadata": {
        "id": "0tDrDP1J7pH0",
        "colab_type": "text"
      },
      "source": [
        "Boxplot of MPG-C"
      ]
    },
    {
      "cell_type": "code",
      "metadata": {
        "id": "xHTScjmB7qIY",
        "colab_type": "code",
        "colab": {
          "base_uri": "https://localhost:8080/",
          "height": 302
        },
        "outputId": "3c2ade8e-ff10-437d-cf5b-be1a2fb7eef9"
      },
      "source": [
        "sns.boxplot(x = carData['MPG-C'])"
      ],
      "execution_count": 155,
      "outputs": [
        {
          "output_type": "execute_result",
          "data": {
            "text/plain": [
              "<matplotlib.axes._subplots.AxesSubplot at 0x7f14b57ab0b8>"
            ]
          },
          "metadata": {
            "tags": []
          },
          "execution_count": 155
        },
        {
          "output_type": "display_data",
          "data": {
            "image/png": "[encoded data removed]",
            "text/plain": [
              "<Figure size 432x288 with 1 Axes>"
            ]
          },
          "metadata": {
            "tags": []
          }
        }
      ]
    },
    {
      "cell_type": "markdown",
      "metadata": {
        "id": "BDl4a3-B74My",
        "colab_type": "text"
      },
      "source": [
        "Boxplot of MPG-H"
      ]
    },
    {
      "cell_type": "code",
      "metadata": {
        "id": "Mvj_uS2B75Nl",
        "colab_type": "code",
        "colab": {
          "base_uri": "https://localhost:8080/",
          "height": 302
        },
        "outputId": "18986c59-441c-461e-903a-d84227c478f0"
      },
      "source": [
        "sns.boxplot(x = carData['MPG-H'])"
      ],
      "execution_count": 156,
      "outputs": [
        {
          "output_type": "execute_result",
          "data": {
            "text/plain": [
              "<matplotlib.axes._subplots.AxesSubplot at 0x7f14b57990f0>"
            ]
          },
          "metadata": {
            "tags": []
          },
          "execution_count": 156
        },
        {
          "output_type": "display_data",
          "data": {
            "image/png": "[encoded data removed]",
            "text/plain": [
              "<Figure size 432x288 with 1 Axes>"
            ]
          },
          "metadata": {
            "tags": []
          }
        }
      ]
    },
    {
      "cell_type": "markdown",
      "metadata": {
        "id": "fTbYcrGK8CVv",
        "colab_type": "text"
      },
      "source": [
        "Boxplot of Popularity"
      ]
    },
    {
      "cell_type": "code",
      "metadata": {
        "id": "RuHKY-5W8DaH",
        "colab_type": "code",
        "colab": {
          "base_uri": "https://localhost:8080/",
          "height": 302
        },
        "outputId": "67c76486-7cb8-43ea-f0f3-89504c97d483"
      },
      "source": [
        "sns.boxplot(x = carData['Popularity'])"
      ],
      "execution_count": 157,
      "outputs": [
        {
          "output_type": "execute_result",
          "data": {
            "text/plain": [
              "<matplotlib.axes._subplots.AxesSubplot at 0x7f14b56dc160>"
            ]
          },
          "metadata": {
            "tags": []
          },
          "execution_count": 157
        },
        {
          "output_type": "display_data",
          "data": {
            "image/png": "[encoded data removed]",
            "text/plain": [
              "<Figure size 432x288 with 1 Axes>"
            ]
          },
          "metadata": {
            "tags": []
          }
        }
      ]
    },
    {
      "cell_type": "markdown",
      "metadata": {
        "id": "qFr4_WW6X8bh",
        "colab_type": "text"
      },
      "source": [
        "# **Representation of Top 10 Car Brands and their average prices**"
      ]
    },
    {
      "cell_type": "code",
      "metadata": {
        "id": "gXCDFVaKYEhA",
        "colab_type": "code",
        "colab": {
          "base_uri": "https://localhost:8080/",
          "height": 338
        },
        "outputId": "c79166b9-ef8b-443d-b9dd-a4452ef26d52"
      },
      "source": [
        "# Percentage of car per brand\n",
        "counts=carData['Make'].value_counts()*100/sum(carData['Make'].value_counts())\n",
        "# Top 10 popular brands\n",
        "popularCars=counts.index[:10]\n",
        "# Plotting the bar plot for ease of understanding\n",
        "plt.figure(figsize=(10,5))\n",
        "plt.bar(popularCars,height=counts[:10])\n",
        "plt.title('Top 10 car Brands')\n",
        "plt.show()"
      ],
      "execution_count": 158,
      "outputs": [
        {
          "output_type": "display_data",
          "data": {
            "image/png": "[encoded data removed]",
            "text/plain": [
              "<Figure size 720x360 with 1 Axes>"
            ]
          },
          "metadata": {
            "tags": []
          }
        }
      ]
    },
    {
      "cell_type": "markdown",
      "metadata": {
        "id": "nWFlERydZuOI",
        "colab_type": "text"
      },
      "source": [
        "# **Average price of top car brands**"
      ]
    },
    {
      "cell_type": "code",
      "metadata": {
        "id": "e46cVacmZ0-K",
        "colab_type": "code",
        "colab": {
          "base_uri": "https://localhost:8080/",
          "height": 390
        },
        "outputId": "c1d3bb62-ef3d-4829-f1a2-08d5ce20aedd"
      },
      "source": [
        "# Grouping all the same brand cars together with their average prices\n",
        "prices=carData[['Make','Price']].loc[(carData['Make']=='Chevrolet')|\n",
        "                                     (carData['Make']=='Volkswagen')|\n",
        "                                     (carData['Make']=='Toyota')|\n",
        "                                     (carData['Make']=='Nissan')|\n",
        "                                     (carData['Make']=='GMC')|\n",
        "                                     (carData['Make']=='Dodge')|\n",
        "                                     (carData['Make']=='Mazda')|\n",
        "                                     (carData['Make']=='Honda')|\n",
        "                                     (carData['Make']=='Suzuki')|\n",
        "                                     (carData['Make']=='Infiniti')].groupby('Make').mean()\n",
        "prices"
      ],
      "execution_count": 159,
      "outputs": [
        {
          "output_type": "execute_result",
          "data": {
            "text/html": [
              "<div>\n",
              "<style scoped>\n",
              "    .dataframe tbody tr th:only-of-type {\n",
              "        vertical-align: middle;\n",
              "    }\n",
              "\n",
              "    .dataframe tbody tr th {\n",
              "        vertical-align: top;\n",
              "    }\n",
              "\n",
              "    .dataframe thead th {\n",
              "        text-align: right;\n",
              "    }\n",
              "</style>\n",
              "<table border=\"1\" class=\"dataframe\">\n",
              "  <thead>\n",
              "    <tr style=\"text-align: right;\">\n",
              "      <th></th>\n",
              "      <th>Price</th>\n",
              "    </tr>\n",
              "    <tr>\n",
              "      <th>Make</th>\n",
              "      <th></th>\n",
              "    </tr>\n",
              "  </thead>\n",
              "  <tbody>\n",
              "    <tr>\n",
              "      <th>Chevrolet</th>\n",
              "      <td>27591.962049</td>\n",
              "    </tr>\n",
              "    <tr>\n",
              "      <th>Dodge</th>\n",
              "      <td>25983.345372</td>\n",
              "    </tr>\n",
              "    <tr>\n",
              "      <th>GMC</th>\n",
              "      <td>32866.520000</td>\n",
              "    </tr>\n",
              "    <tr>\n",
              "      <th>Honda</th>\n",
              "      <td>27511.286842</td>\n",
              "    </tr>\n",
              "    <tr>\n",
              "      <th>Infiniti</th>\n",
              "      <td>42874.197531</td>\n",
              "    </tr>\n",
              "    <tr>\n",
              "      <th>Mazda</th>\n",
              "      <td>20366.657963</td>\n",
              "    </tr>\n",
              "    <tr>\n",
              "      <th>Nissan</th>\n",
              "      <td>28148.655706</td>\n",
              "    </tr>\n",
              "    <tr>\n",
              "      <th>Suzuki</th>\n",
              "      <td>18044.339080</td>\n",
              "    </tr>\n",
              "    <tr>\n",
              "      <th>Toyota</th>\n",
              "      <td>29223.393020</td>\n",
              "    </tr>\n",
              "    <tr>\n",
              "      <th>Volkswagen</th>\n",
              "      <td>28339.133244</td>\n",
              "    </tr>\n",
              "  </tbody>\n",
              "</table>\n",
              "</div>"
            ],
            "text/plain": [
              "                   Price\n",
              "Make                    \n",
              "Chevrolet   27591.962049\n",
              "Dodge       25983.345372\n",
              "GMC         32866.520000\n",
              "Honda       27511.286842\n",
              "Infiniti    42874.197531\n",
              "Mazda       20366.657963\n",
              "Nissan      28148.655706\n",
              "Suzuki      18044.339080\n",
              "Toyota      29223.393020\n",
              "Volkswagen  28339.133244"
            ]
          },
          "metadata": {
            "tags": []
          },
          "execution_count": 159
        }
      ]
    },
    {
      "cell_type": "markdown",
      "metadata": {
        "id": "3zzwjJl0bc00",
        "colab_type": "text"
      },
      "source": [
        "# **Finding correlation**"
      ]
    },
    {
      "cell_type": "code",
      "metadata": {
        "id": "U5Xo03jLbh5H",
        "colab_type": "code",
        "colab": {}
      },
      "source": [
        "# Correlation Matrix\n",
        "corrMatrix=carData.corr()"
      ],
      "execution_count": 160,
      "outputs": []
    },
    {
      "cell_type": "markdown",
      "metadata": {
        "id": "10kMIkf8bnCo",
        "colab_type": "text"
      },
      "source": [
        "# **HeatMap**"
      ]
    },
    {
      "cell_type": "code",
      "metadata": {
        "id": "Pny4-s6ebq6U",
        "colab_type": "code",
        "colab": {
          "base_uri": "https://localhost:8080/",
          "height": 334
        },
        "outputId": "15cea6c6-b34d-4c61-c597-b6761cf2c040"
      },
      "source": [
        "# Plotting the heat map\n",
        "sns.heatmap(corrMatrix,annot=True)"
      ],
      "execution_count": 162,
      "outputs": [
        {
          "output_type": "execute_result",
          "data": {
            "text/plain": [
              "<matplotlib.axes._subplots.AxesSubplot at 0x7f14b5627f98>"
            ]
          },
          "metadata": {
            "tags": []
          },
          "execution_count": 162
        },
        {
          "output_type": "display_data",
          "data": {
            "image/png": "[encoded data removed]",
            "text/plain": [
              "<Figure size 432x288 with 2 Axes>"
            ]
          },
          "metadata": {
            "tags": []
          }
        }
      ]
    },
    {
      "cell_type": "markdown",
      "metadata": {
        "id": "rX1hEEvdHpxs",
        "colab_type": "text"
      },
      "source": [
        "From the heatmap plotted above, it can be concluded that:\n",
        "\n",
        ">>> Price is positively dependent on features and Horse Power(HP) and Year\n",
        "\n",
        "which implies that when the power of engine is increased, so does the price of the car.\n",
        "\n",
        ">>> The features HP and Cylinders are positively dependent on each other\n",
        "\n",
        "i.e. if number of Cylinders are increased, the HP also increases.\n",
        "\n",
        ">>>MPG-H and MPG-C have strong negative correlation with Cylinders.\n",
        "\n",
        "i.e. if number of cylinders are increased, MPG-H and MPG-C decreases."
      ]
    },
    {
      "cell_type": "markdown",
      "metadata": {
        "id": "heNIo5dBgcxg",
        "colab_type": "text"
      },
      "source": [
        "# **Exploratory Data Analysis and plots**"
      ]
    },
    {
      "cell_type": "markdown",
      "metadata": {
        "id": "S4RGs8Wbgnr5",
        "colab_type": "text"
      },
      "source": [
        "Graph between Year and price"
      ]
    },
    {
      "cell_type": "code",
      "metadata": {
        "id": "cpsdCwbegsxu",
        "colab_type": "code",
        "colab": {
          "base_uri": "https://localhost:8080/",
          "height": 356
        },
        "outputId": "26c64a59-eb27-43a0-e02b-c1a7e5c5c977"
      },
      "source": [
        "plt.figure(figsize=(15,5))\n",
        "sns.barplot(carData['Year'],carData['Price'])"
      ],
      "execution_count": 170,
      "outputs": [
        {
          "output_type": "execute_result",
          "data": {
            "text/plain": [
              "<matplotlib.axes._subplots.AxesSubplot at 0x7f14b4abfbe0>"
            ]
          },
          "metadata": {
            "tags": []
          },
          "execution_count": 170
        },
        {
          "output_type": "display_data",
          "data": {
            "image/png": "[encoded data removed]",
            "text/plain": [
              "<Figure size 1080x360 with 1 Axes>"
            ]
          },
          "metadata": {
            "tags": []
          }
        }
      ]
    },
    {
      "cell_type": "markdown",
      "metadata": {
        "id": "dGgDKcKxIA6B",
        "colab_type": "text"
      },
      "source": [
        "Several things can be observed from the above plot:\n",
        "\n",
        ">>>There has been a sudden hike in prices of cars after the year 2000.\n",
        "\n",
        ">>>After 2001, the prices of cars have been increasing uniformly."
      ]
    },
    {
      "cell_type": "code",
      "metadata": {
        "id": "HeP-EP9nIKLR",
        "colab_type": "code",
        "colab": {
          "base_uri": "https://localhost:8080/",
          "height": 285
        },
        "outputId": "ca501542-8fd3-4642-c024-bd4fda9ca81d"
      },
      "source": [
        "plt.scatter(carData['HP'],carData['Price'])"
      ],
      "execution_count": 171,
      "outputs": [
        {
          "output_type": "execute_result",
          "data": {
            "text/plain": [
              "<matplotlib.collections.PathCollection at 0x7f14b46fa9b0>"
            ]
          },
          "metadata": {
            "tags": []
          },
          "execution_count": 171
        },
        {
          "output_type": "display_data",
          "data": {
            "image/png": "[encoded data removed]",
            "text/plain": [
              "<Figure size 432x288 with 1 Axes>"
            ]
          },
          "metadata": {
            "tags": []
          }
        }
      ]
    },
    {
      "cell_type": "markdown",
      "metadata": {
        "id": "ZEr_lIe5IO2O",
        "colab_type": "text"
      },
      "source": [
        ">>>The prices have been increasing almost proportionally with the power of engine of the cars."
      ]
    },
    {
      "cell_type": "markdown",
      "metadata": {
        "id": "rIWf6pleg8WM",
        "colab_type": "text"
      },
      "source": [
        "Graph between Cylinders and price"
      ]
    },
    {
      "cell_type": "code",
      "metadata": {
        "id": "t9Unam2phCbH",
        "colab_type": "code",
        "colab": {
          "base_uri": "https://localhost:8080/",
          "height": 302
        },
        "outputId": "6032d72c-9913-4224-d2c8-59b262aa0c1c"
      },
      "source": [
        "sns.barplot(carData['Cylinders'],carData['Price'])"
      ],
      "execution_count": 172,
      "outputs": [
        {
          "output_type": "execute_result",
          "data": {
            "text/plain": [
              "<matplotlib.axes._subplots.AxesSubplot at 0x7f14b46fae10>"
            ]
          },
          "metadata": {
            "tags": []
          },
          "execution_count": 172
        },
        {
          "output_type": "display_data",
          "data": {
            "image/png": "[encoded data removed]",
            "text/plain": [
              "<Figure size 432x288 with 1 Axes>"
            ]
          },
          "metadata": {
            "tags": []
          }
        }
      ]
    },
    {
      "cell_type": "markdown",
      "metadata": {
        "id": "tspsfgFrIbyH",
        "colab_type": "text"
      },
      "source": [
        ">>>There is an almost linear relationship between the number of cylinders and the prices of cars. As the number of cylinders increases, so does the price."
      ]
    },
    {
      "cell_type": "markdown",
      "metadata": {
        "id": "jQNZcTey9DpH",
        "colab_type": "text"
      },
      "source": [
        "Graph between HP and price"
      ]
    },
    {
      "cell_type": "code",
      "metadata": {
        "id": "1ezkai6P9I0K",
        "colab_type": "code",
        "colab": {
          "base_uri": "https://localhost:8080/",
          "height": 302
        },
        "outputId": "3754cf58-014e-4262-cb9b-8a33fa06ace6"
      },
      "source": [
        "sns.barplot(carData['HP'], carData['Price'])"
      ],
      "execution_count": 173,
      "outputs": [
        {
          "output_type": "execute_result",
          "data": {
            "text/plain": [
              "<matplotlib.axes._subplots.AxesSubplot at 0x7f14b4bcf9b0>"
            ]
          },
          "metadata": {
            "tags": []
          },
          "execution_count": 173
        },
        {
          "output_type": "display_data",
          "data": {
            "image/png": "[encoded data removed]",
            "text/plain": [
              "<Figure size 432x288 with 1 Axes>"
            ]
          },
          "metadata": {
            "tags": []
          }
        }
      ]
    },
    {
      "cell_type": "markdown",
      "metadata": {
        "id": "793HUvC9hS1M",
        "colab_type": "text"
      },
      "source": [
        "Graph between MPG-H and price"
      ]
    },
    {
      "cell_type": "code",
      "metadata": {
        "id": "shVORp3KhYAm",
        "colab_type": "code",
        "colab": {
          "base_uri": "https://localhost:8080/",
          "height": 628
        },
        "outputId": "de7e2680-c7df-4183-b789-449941b2de47"
      },
      "source": [
        "plt.figure(figsize=(15,10))\n",
        "sns.barplot(carData['MPG-H'], carData['Price'])"
      ],
      "execution_count": 174,
      "outputs": [
        {
          "output_type": "execute_result",
          "data": {
            "text/plain": [
              "<matplotlib.axes._subplots.AxesSubplot at 0x7f14b5108be0>"
            ]
          },
          "metadata": {
            "tags": []
          },
          "execution_count": 174
        },
        {
          "output_type": "display_data",
          "data": {
            "image/png": "[encoded data removed]",
            "text/plain": [
              "<Figure size 1080x720 with 1 Axes>"
            ]
          },
          "metadata": {
            "tags": []
          }
        }
      ]
    },
    {
      "cell_type": "markdown",
      "metadata": {
        "id": "pHatP28XIvez",
        "colab_type": "text"
      },
      "source": [
        ">>>There is an inverse relationship between the MPG-H and the prices. As the MPG-H goes on increasing, the prices go on decreasing."
      ]
    },
    {
      "cell_type": "markdown",
      "metadata": {
        "id": "-UQnPmslhold",
        "colab_type": "text"
      },
      "source": [
        "Graph between MPG-C and price"
      ]
    },
    {
      "cell_type": "code",
      "metadata": {
        "id": "mNBi0tmIhuFp",
        "colab_type": "code",
        "colab": {
          "base_uri": "https://localhost:8080/",
          "height": 628
        },
        "outputId": "0d3a5570-dcf9-4a44-d0cf-69bf7faf03a8"
      },
      "source": [
        "plt.figure(figsize=(15,10))\n",
        "sns.barplot(carData['MPG-C'], carData['Price'])"
      ],
      "execution_count": 175,
      "outputs": [
        {
          "output_type": "execute_result",
          "data": {
            "text/plain": [
              "<matplotlib.axes._subplots.AxesSubplot at 0x7f14b5631278>"
            ]
          },
          "metadata": {
            "tags": []
          },
          "execution_count": 175
        },
        {
          "output_type": "display_data",
          "data": {
            "image/png": "[encoded data removed]",
            "text/plain": [
              "<Figure size 1080x720 with 1 Axes>"
            ]
          },
          "metadata": {
            "tags": []
          }
        }
      ]
    },
    {
      "cell_type": "markdown",
      "metadata": {
        "id": "fJHsWVDlI3YB",
        "colab_type": "text"
      },
      "source": [
        ">>>There is an inverse relationship between the MPG-C and the prices. As the MPG-C goes on increasing, the prices go on decreasing."
      ]
    },
    {
      "cell_type": "markdown",
      "metadata": {
        "id": "Pk8-UlZM9bxw",
        "colab_type": "text"
      },
      "source": [
        "Graph between Popularity and Price"
      ]
    },
    {
      "cell_type": "code",
      "metadata": {
        "id": "IwXMNRGA9hkr",
        "colab_type": "code",
        "colab": {
          "base_uri": "https://localhost:8080/",
          "height": 289
        },
        "outputId": "c4192aef-7cc7-4c69-a603-756a6b4cd4e9"
      },
      "source": [
        "plt.figure(figsize=(20,5))\n",
        "sns.barplot(carData['Popularity'],carData['Price'])"
      ],
      "execution_count": 176,
      "outputs": [
        {
          "output_type": "execute_result",
          "data": {
            "text/plain": [
              "<matplotlib.axes._subplots.AxesSubplot at 0x7f14b3c9a710>"
            ]
          },
          "metadata": {
            "tags": []
          },
          "execution_count": 176
        },
        {
          "output_type": "display_data",
          "data": {
            "image/png": "[encoded data removed]",
            "text/plain": [
              "<Figure size 1440x360 with 1 Axes>"
            ]
          },
          "metadata": {
            "tags": []
          }
        }
      ]
    },
    {
      "cell_type": "markdown",
      "metadata": {
        "id": "UcI5JAJqJDR8",
        "colab_type": "text"
      },
      "source": [
        ">>> There is little or no effect of popularity on the prices."
      ]
    },
    {
      "cell_type": "code",
      "metadata": {
        "id": "xQYzuXrVJH04",
        "colab_type": "code",
        "colab": {
          "base_uri": "https://localhost:8080/",
          "height": 542
        },
        "outputId": "b930dba6-4a92-4522-be98-d07da9d87c8a"
      },
      "source": [
        "import plotly.express as px\n",
        "fig=px.scatter_3d(carData,x='MPG-H', y='MPG-C', z='Price')\n",
        "fig.show()"
      ],
      "execution_count": 178,
      "outputs": [
        {
          "output_type": "display_data",
          "data": {
            "text/html": [
              "<html>\n",
              "<head><meta charset=\"utf-8\" /></head>\n",
              "<body>\n",
              "    <div>\n",
              "            <script src=\"https://cdnjs.cloudflare.com/ajax/libs/mathjax/2.7.5/MathJax.js?config=TeX-AMS-MML_SVG\"></script><script type=\"text/javascript\">if (window.MathJax) {MathJax.Hub.Config({SVG: {font: \"STIX-Web\"}});}</script>\n",
              "                <script type=\"text/javascript\">window.PlotlyConfig = {MathJaxConfig: 'local'};</script>\n",
              "        <script src=\"https://cdn.plot.ly/plotly-latest.min.js\"></script>    \n",
              "            <div id=\"1e3fa2e0-c2c4-4b8e-a758-9ac078fd0257\" class=\"plotly-graph-div\" style=\"height:525px; width:100%;\"></div>\n",
              "            <script type=\"text/javascript\">\n",
              "                \n",
              "                    window.PLOTLYENV=window.PLOTLYENV || {};\n",
              "                    \n",
              "                if (document.getElementById(\"1e3fa2e0-c2c4-4b8e-a758-9ac078fd0257\")) {\n",
              "                    Plotly.newPlot(\n",
              "                        '1e3fa2e0-c2c4-4b8e-a758-9ac078fd0257',\n",
              "                        [{\"hoverlabel\": {\"namelength\": 0}, \"hovertemplate\": \"MPG-H=%{x}<br>MPG-C=%{y}<br>Price=%{z}\", \"legendgroup\": \"\", \"marker\": {\"color\": \"#636efa\", \"symbol\": \"circle\"}, \"mode\": \"markers\", \"name\": \"\", \"scene\": \"scene\", \"showlegend\": false, \"type\": \"scatter3d\", \"x\": [26, 28, 28, 28, 28, 28, 26, 28, 28, 27, 28, 28, 28, 28, 28, 25, 28, 21, 22, 22, 22, 21, 35, 35, 35, 35, 34, 31, 35, 34, 31, 34, 30, 30, 31, 32, 32, 32, 34, 35, 33, 33, 36, 36, 29, 36, 36, 29, 36, 36, 29, 29, 36, 36, 36, 36, 28, 28, 36, 36, 36, 28, 36, 36, 36, 36, 36, 29, 29, 35, 35, 35, 35, 28, 26, 26, 26, 26, 26, 25, 25, 25, 35, 35, 34, 34, 34, 34, 35, 35, 34, 34, 35, 35, 30, 33, 33, 34, 30, 30, 33, 33, 33, 35, 32, 33, 33, 35, 30, 35, 36, 40, 33, 34, 34, 34, 34, 36, 35, 40, 33, 34, 34, 35, 33, 40, 33, 31, 32, 40, 23, 22, 22, 22, 22, 23, 23, 22, 22, 27, 31, 31, 27, 31, 31, 27, 27, 27, 31, 27, 31, 27, 27, 31, 31, 31, 31, 27, 27, 27, 27, 27, 30, 30, 27, 30, 30, 27, 30, 24, 24, 25, 25, 25, 25, 22, 22, 22, 22, 22, 22, 22, 22, 22, 22, 22, 22, 33, 23, 23, 24, 24, 25, 25, 24, 24, 25, 24, 24, 25, 25, 23, 24, 24, 23, 24, 23, 24, 25, 24, 25, 25, 25, 24, 25, 23, 24, 24, 23, 23, 24, 23, 26, 24, 26, 25, 26, 26, 26, 25, 26, 26, 25, 24, 26, 26, 26, 26, 26, 25, 24, 26, 26, 26, 26, 26, 24, 26, 26, 25, 26, 25, 26, 26, 26, 26, 26, 26, 26, 26, 26, 26, 24, 26, 24, 26, 25, 25, 26, 25, 26, 26, 26, 37, 39, 41, 41, 41, 37, 37, 39, 35, 40, 41, 40, 40, 40, 40, 41, 35, 41, 40, 37, 41, 41, 41, 41, 37, 40, 40, 41, 40, 41, 37, 37, 41, 40, 40, 40, 39, 41, 35, 39, 37, 37, 34, 36, 37, 35, 33, 37, 35, 37, 37, 33, 37, 33, 34, 34, 33, 32, 31, 34, 30, 31, 34, 32, 31, 33, 34, 29, 32, 33, 33, 34, 30, 33, 33, 35, 31, 34, 35, 33, 34, 34, 30, 35, 29, 34, 31, 31, 34, 32, 31, 33, 34, 30, 29, 32, 34, 34, 34, 34, 34, 23, 23, 22, 22, 22, 22, 23, 22, 21, 21, 21, 22, 22, 21, 22, 21, 21, 22, 21, 21, 21, 22, 21, 21, 21, 22, 28, 24, 26, 25, 26, 24, 28, 26, 27, 24, 25, 29, 38, 33, 37, 25, 34, 31, 38, 29, 31, 34, 34, 25, 25, 37, 34, 40, 34, 34, 34, 34, 40, 34, 40, 40, 40, 34, 40, 40, 40, 34, 40, 40, 40, 34, 40, 40, 33, 33, 33, 33, 33, 33, 33, 33, 30, 33, 33, 33, 33, 30, 33, 33, 30, 30, 30, 30, 31, 30, 31, 31, 30, 34, 31, 30, 29, 30, 29, 29, 30, 33, 28, 28, 28, 28, 28, 28, 28, 28, 28, 28, 28, 25, 25, 29, 25, 25, 25, 25, 29, 25, 29, 25, 38, 38, 37, 37, 40, 38, 38, 37, 38, 37, 35, 34, 34, 35, 35, 29, 28, 26, 22, 19, 19, 24, 26, 24, 26, 26, 24, 26, 24, 24, 24, 26, 24, 24, 26, 24, 24, 26, 26, 26, 26, 24, 24, 24, 24, 24, 24, 28, 32, 24, 27, 25, 26, 33, 33, 33, 30, 33, 33, 28, 28, 28, 30, 29, 29, 29, 30, 29, 29, 33, 28, 27, 24, 27, 24, 29, 27, 24, 29, 27, 28, 28, 27, 27, 27, 27, 31, 31, 29, 27, 27, 28, 27, 27, 31, 27, 27, 29, 31, 27, 28, 27, 27, 25, 23, 25, 23, 22, 27, 27, 27, 27, 27, 27, 27, 33, 27, 28, 27, 20, 19, 19, 20, 16, 16, 20, 20, 25, 24, 25, 25, 24, 26, 26, 26, 26, 25, 26, 23, 26, 23, 26, 23, 26, 26, 25, 23, 26, 26, 25, 25, 25, 25, 23, 26, 25, 25, 24, 25, 24, 22, 24, 24, 23, 24, 24, 17, 17, 22, 22, 24, 24, 22, 22, 22, 24, 22, 24, 23, 23, 24, 24, 24, 24, 24, 24, 24, 24, 33, 35, 33, 33, 35, 33, 32, 33, 35, 32, 32, 33, 33, 32, 33, 33, 35, 35, 33, 35, 32, 33, 32, 33, 33, 33, 35, 32, 35, 35, 35, 34, 35, 34, 34, 34, 35, 34, 34, 35, 28, 28, 28, 31, 31, 32, 32, 32, 32, 32, 32, 31, 32, 31, 31, 31, 31, 32, 33, 37, 31, 31, 33, 33, 31, 37, 37, 31, 31, 31, 29, 29, 32, 32, 32, 21, 22, 38, 29, 33, 27, 33, 27, 29, 38, 32, 35, 35, 38, 30, 30, 38, 32, 31, 31, 31, 29, 32, 34, 28, 28, 38, 38, 38, 30, 35, 30, 29, 29, 22, 22, 24, 24, 23, 24, 23, 23, 24, 23, 23, 24, 22, 22, 22, 22, 22, 22, 22, 22, 22, 22, 22, 26, 25, 26, 26, 25, 25, 25, 26, 25, 25, 25, 37, 38, 37, 37, 38, 38, 38, 38, 37, 37, 38, 37, 37, 37, 37, 38, 38, 38, 25, 26, 25, 25, 27, 27, 27, 27, 27, 26, 26, 27, 28, 34, 32, 34, 35, 36, 34, 28, 35, 34, 35, 36, 35, 34, 32, 34, 36, 34, 35, 34, 36, 34, 37, 35, 35, 34, 37, 34, 35, 35, 34, 37, 35, 34, 37, 34, 35, 35, 34, 35, 37, 28, 32, 32, 34, 32, 37, 34, 32, 34, 32, 33, 32, 33, 34, 36, 36, 36, 32, 33, 32, 28, 34, 34, 32, 34, 36, 32, 34, 36, 36, 34, 32, 32, 34, 30, 30, 29, 29, 27, 30, 30, 30, 26, 28, 28, 28, 28, 26, 28, 26, 28, 28, 26, 26, 28, 26, 26, 28, 28, 28, 26, 28, 28, 26, 26, 28, 28, 28, 28, 26, 26, 28, 28, 27, 27, 30, 27, 30, 30, 30, 27, 27, 30, 27, 30, 27, 27, 30, 30, 27, 31, 27, 31, 31, 31, 27, 27, 21, 20, 19, 20, 21, 21, 19, 20, 27, 27, 27, 28, 28, 28, 28, 28, 38, 38, 32, 38, 32, 32, 32, 38, 32, 32, 39, 39, 37, 39, 39, 32, 32, 39, 39, 32, 39, 32, 37, 39, 24, 24, 24, 19, 18, 19, 18, 18, 19, 19, 18, 18, 18, 19, 19, 19, 18, 19, 19, 18, 18, 19, 18, 17, 17, 19, 17, 22, 18, 19, 21, 18, 18, 19, 20, 18, 16, 19, 16, 19, 20, 16, 28, 26, 31, 29, 29, 26, 28, 31, 29, 26, 28, 31, 31, 29, 31, 31, 30, 30, 31, 30, 30, 28, 30, 28, 31, 28, 30, 30, 30, 31, 30, 30, 31, 30, 27, 23, 23, 23, 23, 28, 30, 33, 30, 28, 28, 28, 28, 28, 26, 26, 28, 30, 30, 33, 26, 30, 31, 30, 31, 28, 31, 30, 30, 32, 31, 28, 32, 30, 30, 30, 28, 30, 30, 30, 27, 31, 30, 31, 23, 25, 25, 24, 24, 21, 21, 21, 21, 21, 21, 21, 21, 21, 21, 21, 21, 21, 21, 21, 31, 31, 31, 31, 31, 31, 31, 31, 31, 31, 30, 30, 30, 30, 30, 29, 31, 29, 30, 29, 29, 31, 29, 29, 31, 34, 34, 34, 34, 34, 34, 35, 35, 35, 35, 35, 35, 35, 35, 35, 35, 35, 35, 17, 17, 17, 17, 16, 17, 17, 16, 17, 16, 28, 29, 29, 28, 28, 28, 22, 24, 22, 24, 22, 24, 24, 19, 20, 21, 24, 20, 24, 20, 20, 24, 19, 19, 24, 19, 20, 24, 20, 21, 20, 21, 20, 24, 21, 20, 24, 20, 24, 24, 24, 21, 20, 21, 19, 24, 21, 21, 19, 19, 21, 20, 17, 21, 26, 21, 21, 19, 17, 19, 26, 26, 19, 19, 21, 21, 21, 24, 24, 19, 20, 21, 26, 18, 26, 21, 21, 21, 21, 21, 21, 21, 21, 21, 21, 21, 21, 21, 21, 21, 21, 21, 21, 21, 21, 21, 21, 21, 21, 21, 21, 21, 21, 21, 21, 21, 25, 22, 21, 25, 21, 25, 23, 21, 21, 25, 23, 26, 21, 21, 25, 32, 29, 29, 27, 41, 31, 32, 32, 29, 31, 32, 41, 31, 32, 29, 32, 31, 41, 29, 27, 31, 31, 27, 41, 32, 27, 29, 27, 27, 41, 40, 29, 31, 40, 29, 32, 29, 32, 32, 32, 31, 40, 40, 29, 31, 29, 31, 40, 40, 31, 32, 32, 32, 32, 32, 29, 31, 29, 40, 31, 40, 29, 31, 32, 29, 29, 31, 32, 31, 31, 34, 31, 31, 34, 31, 34, 34, 31, 31, 31, 31, 34, 31, 31, 31, 34, 31, 34, 34, 41, 30, 33, 33, 33, 31, 33, 31, 30, 33, 33, 33, 31, 30, 31, 33, 31, 41, 31, 30, 33, 30, 33, 41, 33, 41, 31, 33, 33, 41, 33, 41, 33, 30, 33, 30, 31, 31, 31, 30, 33, 41, 30, 30, 33, 33, 41, 33, 33, 31, 31, 34, 34, 34, 34, 31, 34, 31, 31, 34, 31, 34, 31, 31, 34, 34, 31, 31, 33, 33, 31, 33, 29, 33, 33, 27, 31, 33, 27, 33, 27, 21, 21, 21, 21, 21, 21, 15, 20, 18, 21, 17, 20, 19, 17, 18, 19, 19, 17, 20, 20, 18, 27, 27, 25, 27, 22, 27, 22, 27, 27, 22, 21, 21, 21, 20, 22, 20, 20, 21, 28, 30, 26, 28, 30, 28, 30, 19, 20, 20, 20, 19, 19, 19, 33, 33, 33, 33, 34, 30, 34, 30, 30, 30, 30, 34, 30, 33, 29, 29, 29, 31, 27, 27, 19, 34, 28, 31, 29, 34, 34, 25, 31, 31, 29, 34, 31, 25, 34, 34, 31, 34, 34, 29, 23, 34, 31, 30, 31, 24, 31, 31, 29, 31, 29, 29, 29, 29, 29, 29, 20, 20, 22, 21, 21, 21, 28, 28, 28, 22, 22, 22, 28, 28, 28, 26, 28, 26, 26, 28, 27, 27, 28, 28, 28, 27, 28, 28, 28, 28, 28, 28, 28, 28, 31, 29, 31, 27, 27, 31, 31, 29, 27, 27, 32, 29, 32, 32, 32, 27, 28, 28, 24, 24, 24, 24, 28, 28, 28, 30, 25, 30, 25, 30, 30, 30, 25, 25, 25, 25, 30, 31, 25, 25, 30, 31, 30, 30, 30, 26, 27, 26, 30, 27, 30, 30, 27, 30, 31, 26, 26, 31, 31, 27, 31, 27, 26, 27, 31, 26, 31, 31, 27, 27, 26, 31, 27, 31, 26, 31, 35, 35, 31, 31, 35, 35, 35, 35, 35, 35, 35, 31, 31, 33, 33, 33, 30, 30, 33, 25, 23, 25, 21, 21, 25, 25, 23, 21, 25, 23, 23, 23, 23, 27, 25, 24, 26, 27, 26, 26, 27, 27, 25, 24, 27, 24, 26, 25, 26, 24, 26, 24, 24, 24, 24, 26, 26, 25, 26, 27, 27, 26, 26, 25, 26, 24, 27, 23, 24, 24, 24, 23, 24, 24, 28, 28, 28, 28, 28, 28, 28, 28, 28, 28, 28, 28, 24, 24, 24, 24, 24, 24, 24, 24, 24, 27, 27, 27, 27, 27, 23, 23, 23, 22, 30, 30, 30, 30, 30, 30, 33, 33, 33, 33, 33, 33, 33, 33, 33, 33, 33, 33, 33, 33, 29, 24, 29, 24, 26, 30, 28, 28, 30, 28, 30, 32, 31, 32, 25, 32, 31, 31, 31, 31, 31, 32, 31, 32, 31, 31, 25, 31, 31, 31, 31, 31, 32, 31, 32, 32, 31, 31, 31, 31, 31, 31, 31, 33, 29, 27, 30, 30, 28, 28, 30, 33, 30, 33, 30, 30, 30, 28, 33, 26, 27, 27, 23, 23, 23, 23, 30, 23, 23, 23, 30, 23, 23, 30, 23, 23, 23, 30, 23, 23, 23, 23, 23, 23, 23, 30, 23, 23, 30, 23, 23, 23, 25, 25, 25, 31, 25, 27, 27, 31, 31, 31, 25, 25, 25, 31, 25, 31, 30, 25, 25, 27, 30, 25, 25, 27, 25, 17, 17, 17, 17, 17, 17, 18, 18, 18, 26, 29, 26, 25, 25, 24, 26, 26, 26, 26, 26, 26, 37, 32, 27, 35, 27, 33, 27, 35, 33, 39, 41, 39, 31, 31, 36, 31, 39, 31, 39, 31, 38, 39, 38, 38, 36, 36, 31, 38, 38, 31, 39, 41, 41, 42, 41, 40, 41, 42, 41, 41, 42, 38, 41, 42, 42, 41, 42, 41, 39, 39, 40, 40, 40, 36, 40, 40, 42, 40, 40, 39, 40, 40, 40, 39, 40, 39, 41, 18, 18, 20, 18, 19, 18, 20, 20, 17, 20, 18, 20, 19, 20, 17, 18, 18, 20, 20, 20, 18, 20, 20, 18, 18, 18, 18, 20, 19, 17, 19, 17, 21, 19, 21, 18, 21, 19, 21, 21, 17, 21, 19, 19, 18, 19, 21, 21, 21, 19, 21, 19, 19, 21, 17, 17, 17, 17, 17, 17, 18, 18, 18, 18, 38, 32, 31, 38, 31, 33, 38, 32, 30, 27, 27, 27, 27, 26, 27, 27, 27, 26, 31, 31, 25, 25, 22, 22, 25, 22, 21, 25, 25, 21, 22, 25, 26, 30, 28, 30, 26, 33, 33, 30, 33, 32, 33, 32, 35, 35, 30, 35, 30, 37, 37, 35, 37, 30, 37, 37, 37, 37, 37, 20, 23, 24, 24, 21, 23, 23, 25, 25, 23, 25, 25, 23, 25, 20, 21, 25, 27, 26, 26, 27, 27, 25, 24, 24, 26, 24, 26, 24, 24, 27, 26, 27, 24, 25, 24, 24, 24, 24, 27, 24, 25, 26, 25, 26, 26, 27, 25, 27, 24, 27, 26, 27, 26, 30, 35, 30, 35, 27, 25, 22, 35, 35, 30, 30, 24, 26, 24, 27, 25, 25, 27, 25, 25, 23, 23, 23, 23, 23, 26, 24, 24, 26, 35, 36, 42, 38, 40, 37, 36, 37, 37, 38, 37, 37, 40, 38, 42, 38, 37, 37, 37, 37, 38, 40, 37, 40, 36, 38, 37, 35, 40, 36, 35, 40, 35, 36, 36, 35, 22, 28, 29, 29, 29, 29, 29, 29, 29, 29, 29, 29, 29, 29, 29, 29, 29, 29, 29, 29, 29, 29, 29, 29, 29, 29, 29, 29, 29, 29, 25, 25, 25, 25, 25, 25, 25, 25, 25, 25, 25, 25, 25, 25, 25, 30, 31, 30, 31, 30, 30, 30, 31, 31, 31, 33, 34, 33, 34, 33, 33, 33, 34, 34, 34, 31, 31, 33, 31, 33, 33, 31, 33, 33, 31, 33, 31, 38, 38, 38, 38, 38, 38, 38, 38, 38, 23, 23, 22, 23, 22, 23, 23, 23, 23, 23, 23, 23, 30, 28, 30, 31, 30, 31, 28, 31, 30, 31, 31, 31, 30, 28, 28, 30, 31, 28, 30, 30, 31, 28, 31, 30, 34, 31, 34, 34, 31, 34, 30, 33, 33, 30, 42, 36, 38, 38, 38, 39, 36, 38, 35, 36, 38, 42, 36, 38, 38, 35, 38, 39, 42, 41, 41, 42, 41, 42, 38, 37, 40, 39, 39, 39, 39, 40, 37, 31, 26, 27, 27, 27, 31, 26, 26, 27, 30, 27, 30, 26, 27, 27, 27, 27, 27, 27, 27, 27, 27, 27, 27, 27, 27, 27, 27, 27, 27, 27, 27, 27, 26, 26, 26, 26, 27, 26, 26, 26, 26, 26, 26, 26, 26, 26, 26, 26, 26, 26, 26, 26, 26, 26, 30, 28, 28, 26, 29, 24, 28, 26, 30, 30, 28, 30, 29, 29, 24, 30, 31, 31, 24, 31, 24, 29, 28, 30, 30, 29, 28, 29, 31, 28, 29, 27, 30, 24, 29, 27, 30, 30, 29, 24, 30, 30, 31, 30, 31, 30, 31, 31, 31, 30, 31, 28, 26, 26, 26, 26, 26, 26, 26, 26, 26, 26, 26, 26, 27, 27, 26, 26, 35, 35, 32, 32, 32, 35, 34, 34, 34, 32, 32, 32, 32, 31, 32, 30, 30, 35, 32, 32, 30, 30, 35, 32, 32, 31, 30, 35, 30, 30, 35, 33, 30, 30, 33, 30, 33, 33, 33, 33, 30, 25, 23, 25, 23, 28, 28, 21, 24, 28, 21, 28, 28, 24, 24, 24, 27, 27, 21, 21, 27, 22, 24, 24, 22, 24, 22, 24, 22, 22, 22, 24, 24, 28, 27, 27, 28, 28, 27, 27, 20, 19, 20, 18, 19, 18, 18, 19, 18, 18, 20, 20, 19, 19, 20, 18, 19, 20, 20, 20, 18, 20, 19, 20, 18, 20, 20, 19, 19, 18, 20, 20, 20, 18, 20, 20, 18, 18, 20, 18, 18, 18, 19, 18, 20, 18, 18, 20, 20, 20, 20, 18, 20, 18, 20, 18, 20, 18, 20, 18, 18, 18, 19, 20, 20, 36, 35, 35, 41, 33, 33, 35, 41, 35, 36, 39, 36, 35, 36, 35, 36, 36, 39, 35, 35, 35, 15, 15, 14, 14, 25, 25, 25, 24, 24, 24, 22, 22, 22, 24, 23, 23, 23, 23, 23, 23, 23, 23, 23, 16, 16, 16, 16, 16, 16, 26, 26, 26, 26, 26, 26, 25, 25, 25, 14, 14, 14, 14, 14, 14, 23, 23, 23, 22, 23, 23, 23, 23, 23, 22, 23, 23, 23, 23, 25, 22, 24, 25, 24, 24, 23, 25, 22, 25, 27, 25, 25, 22, 27, 27, 27, 25, 26, 26, 25, 22, 26, 22, 26, 25, 25, 25, 28, 29, 29, 28, 27, 38, 26, 29, 29, 28, 38, 26, 29, 42, 27, 28, 42, 29, 29, 27, 27, 38, 29, 28, 29, 28, 29, 26, 29, 38, 28, 26, 42, 42, 28, 29, 29, 29, 28, 30, 30, 29, 26, 25, 21, 21, 38, 36, 38, 36, 38, 36, 36, 38, 38, 36, 36, 38, 26, 24, 24, 27, 27, 24, 27, 27, 28, 24, 27, 25, 28, 28, 28, 25, 28, 28, 28, 25, 28, 26, 26, 26, 26, 26, 26, 26, 26, 26, 26, 27, 27, 27, 27, 27, 37, 37, 38, 37, 37, 38, 34, 34, 33, 34, 33, 33, 32, 32, 30, 30, 31, 31, 31, 31, 30, 30, 30, 31, 31, 30, 35, 37, 38, 37, 35, 34, 37, 35, 38, 35, 37, 34, 37, 37, 38, 38, 37, 38, 36, 37, 33, 30, 38, 25, 25, 25, 25, 25, 25, 25, 23, 25, 23, 24, 25, 25, 24, 24, 25, 25, 24, 25, 25, 24, 25, 24, 25, 24, 24, 25, 25, 27, 26, 27, 27, 26, 27, 26, 26, 22, 24, 24, 22, 24, 22, 22, 22, 22, 22, 22, 22, 22, 22, 22, 30, 30, 30, 33, 33, 33, 33, 30, 30, 30, 33, 33, 32, 33, 34, 30, 33, 30, 30, 33, 30, 34, 31, 30, 33, 33, 30, 33, 19, 19, 22, 22, 21, 19, 21, 21, 21, 19, 23, 23, 23, 23, 23, 26, 26, 28, 26, 29, 26, 28, 29, 18, 18, 18, 18, 18, 17, 19, 17, 18, 18, 18, 18, 18, 19, 19, 19, 17, 18, 18, 17, 20, 20, 20, 20, 20, 19, 20, 20, 19, 20, 20, 20, 20, 21, 20, 20, 20, 20, 30, 30, 30, 30, 30, 30, 30, 22, 19, 20, 19, 19, 23, 20, 20, 19, 23, 19, 20, 19, 23, 19, 22, 23, 23, 19, 20, 22, 19, 19, 29, 32, 29, 32, 32, 29, 32, 32, 29, 32, 29, 32, 29, 29, 32, 32, 32, 28, 32, 32, 28, 32, 28, 23, 23, 23, 23, 23, 23, 24, 27, 27, 27, 27, 27, 31, 31, 31, 30, 18, 18, 18, 18, 18, 18, 18, 18, 18, 23, 21, 22, 22, 22, 32, 33, 31, 31, 30, 30, 30, 30, 30, 30, 32, 30, 32, 30, 30, 32, 32, 31, 32, 32, 30, 32, 30, 31, 30, 31, 30, 30, 30, 32, 30, 18, 18, 18, 18, 18, 18, 27, 26, 26, 26, 26, 26, 24, 23, 23, 24, 23, 23, 24, 24, 24, 23, 23, 24, 33, 33, 33, 26, 26, 26, 26, 24, 24, 24, 24, 24, 24, 24, 24, 25, 24, 25, 24, 22, 24, 27, 25, 25, 21, 24, 17, 19, 17, 17, 17, 17, 17, 17, 17, 17, 17, 17, 17, 16, 16, 16, 16, 16, 16, 28, 23, 23, 23, 28, 23, 28, 23, 28, 23, 23, 23, 23, 29, 28, 37, 37, 37, 37, 36, 36, 20, 18, 20, 20, 20, 18, 20, 20, 18, 23, 23, 24, 27, 28, 27, 28, 28, 27, 28, 27, 27, 27, 27, 28, 27, 28, 28, 28, 28, 28, 28, 27, 27, 27, 27, 28, 28, 27, 27, 27, 28, 28, 28, 27, 28, 27, 28, 32, 29, 32, 32, 29, 28, 32, 32, 29, 32, 28, 29, 28, 32, 32, 27, 32, 27, 28, 32, 32, 32, 28, 34, 36, 33, 29, 29, 39, 37, 33, 29, 30, 29, 37, 29, 30, 33, 33, 34, 39, 29, 35, 38, 38, 33, 34, 34, 29, 30, 34, 30, 34, 30, 34, 34, 34, 30, 30, 30, 34, 30, 34, 19, 19, 19, 19, 19, 19, 19, 19, 19, 21, 23, 22, 21, 21, 21, 22, 21, 23, 21, 23, 21, 22, 22, 21, 23, 21, 22, 21, 22, 22, 21, 21, 22, 21, 22, 21, 21, 21, 22, 21, 22, 21, 22, 21, 21, 22, 21, 21, 21, 22, 22, 22, 22, 21, 21, 23, 23, 21, 21, 22, 21, 23, 23, 23, 21, 21, 23, 21, 21, 23, 22, 23, 23, 21, 21, 21, 22, 21, 21, 21, 23, 22, 23, 23, 23, 20, 22, 23, 21, 23, 21, 17, 17, 17, 20, 20, 21, 23, 20, 23, 20, 21, 21, 22, 24, 20, 22, 24, 25, 25, 24, 25, 25, 25, 24, 27, 25, 25, 25, 27, 27, 27, 27, 25, 25, 27, 25, 25, 25, 27, 27, 25, 25, 27, 27, 27, 25, 29, 25, 27, 29, 25, 25, 27, 29, 25, 25, 25, 27, 27, 27, 29, 25, 25, 27, 29, 29, 28, 29, 28, 29, 23, 29, 22, 24, 23, 23, 24, 23, 24, 23, 23, 24, 24, 25, 24, 23, 24, 25, 24, 25, 25, 27, 27, 25, 27, 25, 27, 27, 25, 25, 25, 27, 24, 26, 24, 26, 26, 25, 25, 25, 25, 25, 26, 24, 26, 34, 31, 31, 32, 33, 37, 35, 26, 26, 26, 26, 30, 30, 26, 26, 30, 26, 26, 26, 33, 26, 30, 30, 26, 26, 26, 26, 26, 30, 28, 23, 25, 24, 25, 24, 25, 20, 30, 30, 30, 30, 30, 30, 24, 25, 27, 25, 25, 27, 24, 27, 25, 24, 25, 24, 24, 24, 25, 25, 24, 24, 27, 23, 23, 29, 25, 25, 29, 23, 25, 24, 24, 26, 19, 21, 26, 26, 21, 35, 32, 29, 29, 35, 32, 28, 33, 31, 28, 28, 28, 28, 23, 23, 22, 24, 29, 22, 23, 23, 22, 29, 29, 29, 29, 29, 29, 31, 31, 29, 29, 32, 33, 33, 32, 32, 33, 32, 32, 32, 33, 33, 33, 25, 24, 33, 33, 24, 25, 25, 25, 33, 22, 30, 30, 30, 30, 30, 34, 33, 34, 33, 34, 33, 33, 34, 33, 33, 33, 33, 34, 34, 34, 34, 33, 34, 33, 34, 33, 33, 34, 33, 33, 34, 33, 34, 34, 34, 33, 33, 33, 34, 34, 34, 34, 33, 34, 33, 32, 34, 34, 34, 32, 32, 32, 34, 34, 32, 30, 30, 30, 30, 31, 31, 30, 31, 31, 30, 42, 35, 36, 35, 36, 42, 42, 35, 35, 35, 35, 36, 34, 34, 35, 34, 37, 37, 37, 36, 36, 36, 36, 36, 36, 36, 36, 36, 37, 36, 37, 37, 36, 35, 35, 36, 36, 27, 27, 30, 27, 27, 27, 30, 33, 27, 27, 27, 27, 33, 27, 27, 27, 31, 25, 25, 25, 25, 25, 25, 25, 25, 25, 25, 25, 25, 25, 25, 25, 25, 26, 25, 28, 25, 26, 28, 28, 25, 25, 23, 26, 23, 23, 25, 23, 25, 23, 25, 26, 23, 25, 23, 23, 25, 26, 25, 23, 23, 24, 24, 22, 22, 22, 22, 23, 23, 30, 33, 32, 30, 23, 23, 27, 25, 29, 29, 26, 26, 29, 28, 26, 28, 27, 26, 26, 21, 22, 22, 22, 23, 23, 34, 34, 34, 24, 24, 24, 31, 33, 31, 33, 33, 33, 31, 33, 31, 33, 31, 31, 33, 31, 33, 31, 33, 33, 31, 31, 33, 31, 31, 31, 33, 31, 31, 33, 31, 33, 33, 33, 33, 31, 33, 33, 31, 33, 31, 31, 31, 31, 31, 33, 31, 31, 33, 31, 31, 33, 33, 31, 33, 33, 33, 31, 33, 31, 33, 33, 31, 33, 31, 31, 33, 33, 33, 31, 33, 31, 33, 31, 33, 31, 31, 33, 20, 19, 19, 20, 20, 20, 20, 18, 18, 18, 18, 18, 18, 18, 16, 18, 18, 16, 16, 18, 18, 18, 18, 16, 16, 18, 18, 16, 18, 30, 29, 32, 29, 32, 30, 32, 32, 29, 32, 32, 32, 32, 32, 28, 28, 28, 28, 28, 28, 24, 25, 24, 24, 24, 25, 24, 25, 25, 25, 25, 25, 24, 25, 24, 24, 24, 25, 25, 25, 24, 25, 35, 32, 35, 32, 32, 35, 34, 34, 34, 31, 34, 31, 34, 33, 31, 33, 25, 24, 25, 25, 24, 24, 24, 24, 24, 41, 31, 35, 35, 35, 36, 36, 36, 36, 36, 36, 35, 35, 35, 35, 35, 35, 30, 30, 30, 30, 30, 30, 30, 30, 30, 31, 31, 29, 29, 31, 31, 29, 29, 31, 31, 31, 28, 25, 25, 23, 23, 23, 25, 25, 25, 25, 25, 25, 23, 25, 23, 25, 23, 25, 25, 37, 36, 33, 37, 37, 37, 34, 34, 37, 36, 37, 34, 33, 37, 37, 37, 37, 37, 37, 34, 37, 37, 38, 37, 37, 38, 37, 38, 36, 36, 37, 35, 38, 35, 36, 37, 29, 29, 29, 28, 28, 29, 28, 28, 28, 28, 28, 28, 28, 28, 28, 28, 28, 28, 28, 28, 28, 28, 28, 28, 24, 26, 24, 25, 27, 25, 25, 27, 26, 26, 26, 26, 26, 26, 27, 27, 27, 33, 32, 30, 30, 30, 30, 27, 30, 27, 30, 30, 27, 27, 23, 23, 23, 26, 26, 27, 27, 27, 28, 26, 28, 26, 26, 28, 23, 23, 23, 22, 22, 22, 22, 22, 22, 22, 32, 33, 33, 32, 32, 32, 33, 33, 33, 32, 32, 32, 32, 33, 33, 33, 33, 32, 33, 32, 33, 32, 32, 33, 33, 32, 32, 33, 33, 32, 33, 32, 32, 33, 33, 33, 32, 33, 33, 32, 32, 32, 32, 33, 31, 31, 42, 31, 31, 33, 33, 39, 39, 31, 39, 31, 42, 42, 31, 31, 39, 33, 42, 39, 33, 39, 31, 31, 31, 31, 42, 42, 33, 39, 39, 42, 30, 30, 30, 30, 33, 42, 30, 30, 39, 42, 37, 33, 37, 37, 33, 37, 33, 32, 32, 33, 32, 34, 32, 34, 37, 37, 37, 37, 37, 37, 34, 34, 34, 37, 37, 39, 36, 33, 39, 36, 33, 33, 39, 33, 36, 36, 39, 39, 37, 39, 33, 39, 33, 33, 33, 36, 33, 38, 40, 38, 40, 35, 33, 16, 19, 19, 19, 19, 19, 19, 19, 19, 21, 20, 16, 18, 20, 20, 18, 21, 20, 18, 18, 20, 16, 18, 18, 20, 20, 18, 20, 18, 18, 20, 24, 24, 24, 24, 26, 26, 24, 26, 26, 25, 25, 26, 26, 24, 24, 24, 25, 24, 26, 26, 24, 25, 24, 25, 24, 25, 24, 24, 25, 24, 25, 32, 31, 29, 31, 32, 32, 31, 31, 31, 34, 34, 31, 31, 32, 31, 31, 29, 32, 31, 32, 31, 33, 29, 30, 30, 30, 30, 32, 32, 32, 33, 29, 24, 23, 23, 23, 26, 23, 26, 31, 30, 30, 29, 29, 29, 29, 30, 30, 29, 31, 30, 29, 29, 30, 29, 29, 30, 31, 30, 29, 31, 29, 29, 30, 30, 30, 30, 29, 29, 29, 29, 36, 28, 26, 28, 36, 28, 26, 28, 28, 26, 28, 28, 26, 28, 28, 31, 31, 29, 31, 31, 22, 23, 22, 23, 23, 23, 22, 29, 32, 32, 29, 29, 32, 34, 25, 31, 30, 29, 34, 35, 31, 34, 31, 31, 31, 31, 30, 30, 34, 33, 30, 23, 29, 26, 26, 26, 24, 26, 26, 36, 28, 36, 36, 36, 36, 36, 36, 36, 29, 36, 36, 36, 36, 28, 34, 34, 34, 34, 24, 23, 22, 24, 24, 22, 24, 24, 22, 23, 24, 27, 27, 27, 27, 27, 27, 20, 24, 24, 24, 26, 24, 24, 24, 24, 24, 24, 24, 24, 24, 17, 17, 17, 19, 19, 19, 19, 19, 19, 19, 19, 19, 19, 23, 23, 23, 23, 23, 23, 24, 24, 24, 24, 23, 24, 23, 24, 22, 24, 24, 24, 22, 23, 24, 26, 27, 25, 25, 27, 22, 26, 26, 26, 26, 26, 26, 26, 26, 26, 26, 26, 26, 22, 26, 26, 26, 27, 27, 27, 23, 21, 21, 21, 21, 24, 24, 26, 26, 27, 27, 26, 14, 14, 16, 15, 15, 28, 20, 23, 23, 28, 22, 19, 24, 22, 24, 22, 26, 26, 23, 22, 25, 22, 25, 22, 24, 26, 26, 26, 26, 21, 20, 21, 20, 20, 21, 26, 26, 26, 26, 23, 25, 23, 23, 23, 23, 23, 23, 25, 22, 23, 26, 22, 18, 22, 26, 23, 22, 18, 18, 22, 24, 22, 23, 26, 29, 30, 29, 32, 34, 34, 34, 34, 34, 34, 28, 28, 28, 28, 28, 24, 28, 28, 28, 22, 28, 36, 36, 30, 36, 30, 36, 36, 37, 33, 33, 37, 37, 37, 36, 36, 33, 36, 18, 16, 16, 16, 16, 16, 16, 17, 17, 16, 24, 24, 24, 24, 24, 24, 32, 29, 28, 26, 32, 26, 32, 29, 32, 28, 32, 26, 28, 29, 32, 26, 26, 30, 30, 30, 30, 30, 30, 30, 30, 30, 30, 25, 25, 25, 23, 23, 23, 23, 24, 24, 24, 27, 27, 23, 23, 25, 22, 22, 27, 27, 27, 28, 28, 28, 27, 28, 27, 27, 26, 27, 26, 26, 27, 26, 26, 26, 27, 26, 27, 27, 27, 26, 26, 27, 26, 26, 26, 27, 27, 27, 26, 27, 23, 24, 38, 38, 31, 23, 20, 23, 23, 23, 25, 25, 24, 25, 24, 24, 25, 25, 24, 24, 26, 32, 24, 23, 24, 32, 26, 23, 24, 29, 26, 29, 26, 29, 26, 26, 29, 29, 26, 29, 26, 25, 28, 25, 28, 28, 25, 28, 25, 28, 26, 25, 25, 28, 26, 24, 26, 24, 23, 25, 24, 21, 24, 21, 23, 26, 26, 26, 26, 26, 26, 26, 26, 26, 25, 23, 23, 25, 25, 23, 25, 23, 33, 33, 31, 31, 31, 33, 31, 33, 28, 31, 28, 31, 28, 31, 31, 28, 16, 23, 21, 24, 22, 24, 22, 24, 24, 24, 24, 22, 24, 24, 21, 23, 23, 23, 23, 21, 29, 28, 26, 26, 29, 26, 29, 26, 24, 29, 29, 20, 19, 17, 21, 17, 20, 19, 21, 19, 19, 20, 21, 17, 17, 21, 20, 19, 17, 17, 19, 18, 17, 17, 23, 23, 23, 23, 23, 23, 23, 23, 30, 29, 30, 29, 30, 29, 25, 26, 26, 25, 22, 22, 22, 28, 28, 28, 28, 28, 28, 28, 28, 28, 28, 30, 28, 28, 28, 28, 28, 31, 28, 31, 30, 28, 28, 28, 28, 28, 28, 28, 28, 26, 34, 34, 28, 28, 28, 28, 28, 28, 28, 28, 28, 28, 28, 28, 28, 28, 28, 28, 28, 28, 28, 28, 28, 28, 34, 36, 36, 36, 34, 34, 24, 31, 24, 31, 24, 24, 31, 19, 19, 18, 18, 20, 19, 22, 20, 22, 19, 20, 20, 20, 22, 20, 21, 20, 21, 19, 20, 27, 32, 32, 32, 29, 32, 32, 28, 32, 29, 32, 32, 28, 36, 36, 36, 36, 36, 36, 31, 31, 30, 29, 29, 29, 28, 28, 29, 29, 28, 29, 28, 28, 29, 28, 28, 29, 28, 28, 28, 28, 28, 28, 29, 29, 28, 28, 28, 28, 29, 29, 29, 28, 29, 28, 29, 29, 28, 24, 24, 24, 25, 25, 24, 25, 26, 26, 27, 21, 22, 22, 21, 21, 21, 22, 21, 22, 20, 20, 21, 22, 21, 21, 21, 21, 21, 22, 21, 22, 22, 21, 21, 26, 26, 26, 26, 26, 26, 28, 28, 28, 28, 28, 28, 28, 27, 27, 28, 28, 28, 28, 28, 28, 28, 28, 28, 28, 28, 28, 28, 28, 28, 28, 28, 28, 31, 34, 34, 31, 34, 34, 34, 31, 31, 34, 32, 39, 35, 35, 32, 33, 33, 33, 33, 27, 33, 33, 33, 27, 33, 33, 33, 33, 33, 32, 32, 27, 32, 27, 32, 30, 28, 26, 26, 32, 30, 30, 32, 28, 28, 29, 27, 27, 27, 28, 28, 31, 29, 27, 28, 27, 29, 27, 30, 27, 28, 28, 29, 29, 31, 28, 31, 27, 31, 29, 31, 31, 29, 31, 27, 30, 29, 29, 30, 29, 30, 23, 22, 22, 22, 22, 22, 22, 22, 23, 22, 23, 22, 28, 28, 28, 28, 28, 25, 27, 26, 27, 26, 27, 33, 32, 34, 32, 36, 42, 36, 36, 36, 42, 36, 36, 35, 36, 36, 42, 36, 36, 35, 36, 36, 28, 35, 36, 36, 35, 38, 38, 38, 38, 38, 38, 38, 28, 38, 38, 38, 38, 38, 38, 38, 28, 34, 34, 34, 34, 34, 28, 18, 19, 19, 18, 19, 19, 19, 20, 20, 20, 19, 19, 19, 19, 20, 20, 19, 19, 19, 20, 27, 27, 26, 27, 26, 26, 26, 27, 27, 27, 26, 26, 27, 26, 27, 26, 27, 27, 26, 26, 26, 27, 27, 27, 27, 26, 26, 26, 21, 21, 21, 20, 17, 25, 25, 20, 25, 20, 17, 20, 17, 22, 17, 25, 20, 20, 17, 25, 22, 17, 25, 24, 25, 25, 25, 24, 24, 24, 24, 24, 25, 25, 25, 25, 24, 26, 26, 26, 26, 26, 27, 27, 26, 27, 27, 26, 27, 26, 27, 26, 27, 27, 26, 27, 26, 27, 26, 26, 27, 27, 26, 26, 26, 27, 26, 26, 27, 27, 27, 24, 24, 25, 25, 25, 25, 24, 20, 20, 20, 20, 20, 19, 19, 20, 20, 20, 19, 19, 19, 20, 19, 20, 34, 34, 37, 37, 37, 37, 28, 28, 28, 31, 31, 28, 28, 28, 28, 28, 28, 28, 28, 21, 21, 21, 21, 21, 24, 24, 26, 26, 26, 24, 24, 24, 29, 29, 28, 28, 29, 28, 29, 28, 28, 28, 28, 28, 28, 28, 27, 25, 22, 22, 22, 22, 27, 35, 29, 27, 29, 27, 35, 36, 36, 29, 31, 26, 26, 27, 26, 31, 28, 28, 34, 29, 31, 28, 31, 29, 26, 28, 26, 30, 31, 29, 27, 28, 28, 31, 27, 32, 26, 31, 30, 28, 28, 31, 26, 26, 28, 28, 30, 26, 31, 31, 31, 31, 26, 27, 26, 27, 24, 26, 26, 26, 24, 26, 25, 27, 25, 25, 27, 27, 25, 27, 25, 25, 26, 27, 28, 30, 27, 28, 28, 30, 24, 26, 34, 23, 24, 26, 26, 24, 23, 24, 23, 34, 24, 24, 23, 24, 24, 34, 23, 24, 26, 24, 26, 28, 28, 22, 22, 22, 28, 22, 28, 28, 22, 22, 28, 25, 25, 25, 25, 25, 25, 25, 27, 27, 27, 27, 27, 27, 27, 27, 18, 17, 17, 18, 19, 18, 24, 25, 25, 24, 24, 24, 24, 24, 17, 18, 18, 17, 20, 20, 28, 27, 28, 26, 27, 28, 28, 26, 26, 27, 24, 22, 24, 22, 24, 22, 20, 20, 20, 20, 19, 20, 20, 20, 20, 20, 19, 24, 19, 24, 21, 23, 24, 23, 28, 28, 28, 28, 28, 28, 28, 28, 29, 29, 29, 29, 29, 29, 29, 29, 29, 30, 30, 29, 29, 29, 20, 19, 20, 20, 20, 18, 19, 20, 18, 20, 20, 20, 20, 18, 20, 19, 20, 20, 20, 20, 20, 16, 17, 16, 17, 15, 15, 17, 15, 15, 17, 15, 14, 15, 15, 14, 15, 15, 15, 15, 15, 15, 19, 19, 16, 18, 19, 16, 17, 17, 17, 16, 19, 19, 16, 17, 17, 17, 17, 17, 19, 16, 16, 18, 18, 19, 20, 18, 18, 18, 20, 18, 19, 18, 19, 18, 19, 20, 20, 20, 18, 19, 18, 18, 18, 18, 18, 20, 19, 19, 19, 20, 19, 18, 20, 20, 20, 18, 18, 19, 18, 18, 18, 18, 17, 16, 17, 16, 18, 16, 16, 16, 16, 17, 17, 16, 15, 14, 15, 15, 15, 30, 30, 30, 30, 30, 30, 30, 30, 30, 30, 30, 30, 30, 30, 30, 30, 30, 30, 30, 30, 29, 29, 29, 28, 29, 28, 29, 29, 23, 23, 23, 23, 23, 23, 23, 29, 23, 29, 31, 29, 31, 29, 31, 29, 31, 29, 31, 31, 29, 31, 29, 29, 29, 28, 28, 30, 28, 28, 29, 30, 30, 28, 32, 32, 26, 26, 28, 26, 26, 28, 26, 28, 25, 25, 25, 27, 27, 28, 28, 29, 28, 28, 29, 29, 28, 29, 29, 28, 28, 27, 28, 28, 27, 28, 27, 27, 27, 28, 28, 30, 30, 30, 30, 27, 27, 27, 31, 27, 30, 29, 27, 29, 27, 29, 30, 27, 26, 27, 22, 24, 23, 21, 23, 23, 28, 28, 28, 28, 28, 28, 28, 28, 28, 28, 28, 28, 28, 28, 28, 21, 21, 21, 21, 21, 21, 21, 21, 21, 21, 21, 25, 25, 25, 26, 26, 26, 26, 26, 25, 25, 25, 25, 37, 37, 37, 37, 37, 37, 37, 37, 37, 37, 38, 37, 37, 37, 37, 36, 36, 36, 36, 36, 36, 26, 24, 25, 25, 22, 22, 22, 22, 24, 24, 24, 24, 24, 24, 24, 24, 31, 31, 31, 31, 31, 31, 32, 31, 32, 31, 30, 30, 23, 23, 23, 23, 23, 23, 24, 24, 24, 28, 27, 27, 28, 32, 32, 32, 33, 33, 33, 32, 33, 32, 32, 32, 33, 33, 33, 33, 32, 33, 32, 32, 33, 26, 25, 26, 25, 26, 26, 26, 26, 26, 26, 26, 27, 26, 27, 27, 23, 25, 25, 23, 23, 23, 25, 25, 25, 25, 25, 25, 25, 25, 25, 25, 25, 25, 25, 25, 25, 25, 25, 25, 20, 20, 23, 23, 23, 30, 30, 31, 31, 28, 31, 31, 31, 31, 28, 31, 31, 28, 31, 31, 21, 21, 21, 21, 21, 21, 24, 22, 23, 22, 23, 22, 25, 26, 26, 24, 26, 28, 26, 26, 27, 27, 26, 25, 25, 25, 25, 24, 24, 28, 28, 28, 30, 28, 28, 20, 20, 20, 20, 20, 20, 20, 20, 20, 20, 20, 20, 20, 23, 23, 16, 20, 25, 20, 20, 23, 25, 18, 20, 18, 18, 23, 20, 23, 20, 20, 20, 25, 17, 25, 25, 18, 23, 25, 17, 23, 25, 25, 17, 25, 25, 18, 24, 25, 25, 25, 25, 25, 25, 31, 31, 31, 31, 28, 28, 26, 28, 31, 27, 29, 30, 30, 30, 28, 26, 26, 28, 26, 26, 28, 28, 28, 26, 28, 26, 26, 26, 26, 28, 28, 26, 26, 26, 28, 30, 29, 35, 29, 28, 28, 37, 37, 35, 37, 33, 27, 31, 29, 29, 31, 38, 29, 38, 28, 33, 29, 37, 27, 27, 36, 36, 36, 31, 27, 27, 27, 27, 24, 23, 26, 25, 25, 23, 24, 23, 26, 24, 26, 25, 29, 25, 28, 28, 38, 38, 37, 37, 23, 34, 31, 34, 31, 18, 21, 19, 18, 20, 18, 19, 16, 19, 16, 20, 16, 26, 26, 24, 27, 27, 25, 24, 27, 24, 27, 25, 27, 26, 28, 24, 27, 26, 27, 25, 24, 24, 25, 25, 24, 24, 25, 24, 25, 22, 23, 22, 23, 22, 25, 24, 23, 17, 17, 17, 19, 17, 17, 17, 17, 17, 17, 16, 16, 16, 16, 17, 17, 17, 17, 17, 17, 17, 17, 17, 17, 17, 16, 16, 16, 16, 16, 16, 22, 22, 22, 23, 23, 23, 23, 23, 23, 30, 29, 30, 30, 33, 33, 26, 30, 30, 30, 30, 24, 26, 30, 30, 26, 27, 30, 29, 30, 30, 27, 30, 26, 29, 30, 25, 24, 24, 22, 24, 24, 24, 22, 24, 25, 22, 24, 24, 25, 24, 39, 40, 39, 36, 39, 39, 38, 38, 36, 38, 40, 38, 37, 33, 37, 35, 37, 37, 32, 28, 28, 26, 26, 28, 28, 28, 28, 17, 17, 17, 17, 17, 17, 17, 17, 17, 17, 17, 17, 17, 17, 17, 17, 17, 17, 17, 17, 17, 17, 17, 17, 17, 17, 17, 25, 25, 25, 25, 24, 27, 30, 30, 27, 23, 24, 24, 24, 24, 23, 24, 23, 24, 23, 24, 23, 24, 24, 24, 24, 23, 23, 24, 24, 24, 23, 23, 23, 23, 23, 25, 25, 25, 25, 23, 23, 25, 25, 25, 25, 25, 25, 25, 25, 23, 25, 25, 25, 23, 25, 25, 23, 25, 25, 23, 25, 23, 25, 25, 25, 25, 27, 27, 24, 24, 27, 24, 27, 27, 27, 27, 27, 27, 27, 27, 24, 27, 24, 19, 19, 17, 17, 17, 17, 21, 19, 19, 17, 17, 19, 19, 21, 17, 19, 18, 19, 19, 20, 17, 19, 19, 19, 21, 18, 19, 17, 19, 19, 17, 19, 17, 17, 17, 18, 21, 18, 18, 19, 19, 17, 19, 18, 18, 18, 18, 16, 17, 23, 23, 23, 23, 23, 23, 23, 23, 23, 23, 23, 23, 23, 22, 23, 24, 22, 22, 23, 22, 24, 22, 22, 22, 24, 24, 24, 24, 24, 22, 22, 24, 22, 23, 22, 24, 22, 22, 22, 22, 23, 24, 22, 24, 22, 24, 23, 22, 24, 24, 22, 22, 23, 22, 22, 22, 24, 24, 24, 23, 22, 23, 24, 22, 22, 22, 23, 22, 22, 22, 23, 23, 23, 22, 22, 24, 24, 22, 22, 23, 22, 23, 23, 22, 22, 22, 24, 22, 24, 20, 22, 24, 24, 24, 22, 22, 20, 22, 22, 23, 22, 24, 16, 18, 18, 16, 16, 18, 13, 17, 16, 16, 17, 22, 24, 22, 24, 24, 24, 24, 22, 24, 22, 22, 22, 24, 24, 24, 18, 19, 19, 19, 18, 18, 19, 19, 17, 17, 17, 21, 19, 18, 18, 20, 19, 19, 19, 21, 19, 19, 17, 19, 19, 18, 18, 21, 18, 18, 19, 19, 21, 17, 19, 19, 19, 19, 19, 17, 20, 18, 18, 19, 17, 18, 18, 17, 19, 23, 23, 23, 23, 23, 23, 23, 23, 23, 23, 23, 23, 22, 22, 24, 22, 22, 22, 24, 22, 22, 23, 23, 22, 22, 22, 22, 22, 24, 23, 24, 22, 22, 22, 24, 24, 22, 24, 22, 22, 24, 22, 24, 22, 22, 22, 23, 23, 23, 22, 23, 24, 24, 24, 24, 22, 24, 22, 24, 23, 24, 24, 24, 22, 24, 24, 22, 22, 24, 23, 22, 24, 22, 24, 22, 22, 23, 24, 22, 22, 22, 24, 22, 22, 22, 24, 22, 24, 23, 22, 23, 24, 22, 23, 22, 22, 22, 22, 22, 23, 23, 24, 22, 22, 22, 22, 22, 22, 22, 22, 22, 22, 23, 24, 24, 24, 24, 22, 24, 24, 23, 24, 24, 22, 22, 22, 22, 20, 22, 22, 20, 20, 22, 22, 22, 24, 22, 22, 22, 22, 24, 24, 24, 20, 22, 23, 22, 22, 24, 22, 24, 23, 22, 22, 22, 20, 22, 22, 22, 20, 22, 22, 24, 22, 24, 22, 22, 24, 29, 29, 29, 26, 26, 29, 29, 30, 29, 32, 29, 28, 32, 32, 29, 28, 29, 32, 28, 17, 17, 18, 18, 26, 28, 25, 28, 28, 25, 25, 28, 25, 25, 28, 35, 35, 32, 35, 35, 35, 31, 37, 31, 32, 37, 35, 38, 32, 36, 36, 38, 36, 31, 32, 38, 36, 38, 38, 36, 36, 36, 31, 36, 36, 36, 36, 31, 31, 36, 36, 35, 33, 35, 40, 33, 35, 40, 35, 35, 37, 34, 35, 37, 34, 35, 35, 35, 34, 35, 35, 37, 35, 37, 34, 33, 35, 35, 35, 35, 33, 34, 36, 33, 34, 34, 36, 39, 39, 39, 33, 20, 25, 18, 23, 25, 18, 23, 23, 16, 25, 25, 18, 17, 25, 23, 17, 23, 25, 24, 27, 25, 25, 24, 25, 24, 25, 25, 24, 26, 26, 26, 26, 23, 25, 29, 23, 26, 29, 26, 27, 26, 27, 25, 25, 25, 25, 23, 27, 25, 23, 25, 25, 28, 25, 28, 25, 30, 31, 31, 30, 30, 30, 31, 31, 30, 30, 31, 31, 39, 39, 39, 39, 39, 39, 41, 41, 41, 41, 41, 41, 38, 38, 38, 38, 38, 38, 30, 30, 32, 30, 30, 32, 32, 32, 32, 30, 30, 30, 32, 32, 30, 30, 30, 32, 30, 32, 30, 32, 32, 25, 26, 28, 26, 28, 26, 24, 26, 26, 28, 25, 28, 26, 26, 25, 26, 29, 23, 29, 25, 16, 16, 16, 16, 17, 17, 15, 15, 24, 24, 24, 24, 24, 24, 23, 23, 24, 24, 24, 23, 24, 24, 23, 24, 23, 24, 23, 24, 24, 23, 23, 24, 23, 24, 24, 21, 21, 20, 18, 18, 18, 22, 23, 23, 22, 23, 22, 22, 23, 22, 22, 26, 25, 26, 25, 26, 27, 25, 25, 29, 26, 25, 25, 27, 26, 29, 25, 27, 24, 26, 27, 24, 27, 27, 24, 27, 27, 27, 23, 23, 22, 22, 22, 23, 23, 22, 23, 22, 23, 22, 22, 23, 22, 22, 23, 23, 17, 15, 17, 17, 17, 17, 32, 32, 32, 26, 27, 27, 30, 30, 30, 33, 33, 32, 32, 22, 22, 22, 22, 22, 22, 23, 23, 23, 23, 22, 22, 22, 22, 38, 38, 31, 31, 38, 38, 30, 29, 30, 30, 30, 32, 30, 30, 33, 30, 33, 30, 30, 29, 30, 29, 29, 30, 32, 32, 33, 30, 33, 30, 30, 30, 30, 29, 32, 30, 30, 29, 33, 20, 18, 20, 22, 18, 17, 19, 22, 17, 19, 22, 19, 18, 18, 19, 19, 24, 21, 20, 24, 19, 25, 24, 21, 21, 21, 19, 21, 19, 21, 21, 24, 21, 21, 21, 23, 23, 23, 23, 23, 24, 23, 23, 20, 20, 23, 24, 23, 24, 23, 23, 24, 24, 22, 24, 22, 21, 24, 23, 24, 23, 23, 23, 23, 20, 20, 21, 24, 23, 23, 23, 23, 23, 23, 23, 23, 24, 24, 20, 23, 24, 23, 22, 23, 24, 24, 23, 21, 22, 23, 24, 23, 23, 24, 24, 23, 23, 23, 23, 23, 23, 15, 16, 22, 23, 22, 23, 23, 22, 22, 23, 22, 23, 22, 23, 22, 22, 23, 23, 23, 22, 31, 31, 31, 31, 31, 31, 31, 31, 31, 31, 31, 31, 31, 31, 35, 35, 36, 35, 35, 35, 35, 32, 29, 32, 32, 29, 32, 29, 32, 29, 32, 29, 32, 32, 32, 29, 32, 29, 32, 29, 29, 28, 31, 28, 31, 31, 28, 31, 31, 28, 21, 23, 23, 21, 21, 23, 23, 21, 23, 23, 23, 27, 24, 24, 28, 24, 24, 24, 24, 24, 27, 24, 24, 28, 23, 27, 24, 24, 24, 28, 24, 26, 26, 26, 26, 26, 26, 26, 26, 26, 26, 26, 26, 26, 26, 26, 26, 26, 26, 24, 24, 24, 24, 24, 24, 24, 24, 17, 18, 17, 18, 17, 18, 18, 17, 17, 17, 18, 17, 18, 17, 18, 17, 18, 17, 18, 17, 18, 17, 17, 17, 18, 17, 21, 21, 21, 20, 21, 21, 21, 21, 21, 26, 29, 26, 26, 29, 25, 29, 29, 26, 26, 25, 29, 26, 29, 29, 29, 29, 25, 26, 29, 26, 26, 29, 31, 35, 34, 34, 31, 35, 34, 31, 34, 34, 35, 31, 34, 35, 34, 35, 31, 35, 31, 34, 34, 23, 24, 24, 24, 24, 24, 24, 24, 24, 24, 17, 20, 25, 20, 18, 29, 29, 23, 23, 23, 23, 24, 29, 23, 23, 29, 23, 29, 23, 29, 23, 23, 23, 25, 25, 25, 25, 25, 25, 25, 25, 25, 25, 25, 25, 25, 25, 25, 25, 25, 24, 24, 24, 24, 24, 24, 24, 24, 23, 24, 23, 19, 23, 19, 24, 19, 19, 19, 23, 24, 24, 23, 19, 23, 20, 20, 20, 20, 20, 19, 19, 18, 18, 17, 18, 17, 18, 19, 19, 19, 19, 20, 17, 16, 20, 16, 17, 20, 20, 20, 20, 20, 20, 20, 20, 16, 20, 16, 16, 20, 16, 20, 20, 20, 20, 16, 20, 20, 16, 20, 20, 24, 23, 23, 23, 23, 23, 23, 23, 24, 23, 23, 24, 23, 24, 24, 22, 22, 22, 22, 22, 22, 22, 22, 22, 22, 22, 22, 22, 22, 22, 22, 22, 22, 34, 31, 31, 34, 31, 34, 34, 31, 31, 31, 34, 31, 34, 34, 31, 34, 30, 33, 30, 33, 30, 33, 21, 21, 21, 21, 21, 27, 27, 27, 27, 25, 28, 26, 28, 24, 25, 25, 24, 28, 28, 26, 26, 24, 26, 26, 28, 28, 28, 28, 25, 23, 26, 28, 26, 28, 23, 28, 26, 28, 26, 25, 25, 20, 21, 18, 21, 20, 17, 17, 21, 21, 26, 20, 21, 26, 17, 24, 20, 24, 24, 20, 19, 17, 17, 19, 24, 24, 18, 18, 18, 24, 24, 18, 23, 18, 23, 18, 23, 23, 30, 30, 30, 30, 30, 30, 31, 28, 28, 31, 31, 29, 31, 31, 29, 31, 28, 29, 31, 28, 31, 31, 25, 25, 31, 31, 30, 30, 30, 30, 31, 31, 27, 27, 28, 29, 25, 28, 25, 25, 25, 25, 33, 31, 30, 26, 28, 28, 30, 31, 30, 26, 30, 30, 28, 28, 32, 30, 18, 18, 18, 17, 18, 17, 17, 17, 17, 17, 19, 17, 17, 18, 17, 17, 17, 17, 17, 18, 17, 17, 17, 17, 18, 17, 17, 17, 17, 19, 18, 19, 17, 18, 18, 18, 17, 18, 17, 18, 17, 18, 18, 17, 18, 18, 18, 18, 18, 17, 17, 17, 18, 18, 17, 17, 18, 18, 17, 17, 19, 18, 19, 18, 17, 17, 18, 17, 17, 18, 17, 17, 18, 18, 18, 17, 18, 18, 19, 17, 17, 18, 17, 18, 17, 17, 17, 17, 18, 17, 17, 17, 18, 17, 19, 18, 17, 18, 17, 18, 18, 17, 18, 17, 18, 18, 17, 17, 19, 18, 18, 17, 18, 17, 18, 17, 18, 18, 17, 18, 18, 17, 18, 17, 18, 17, 17, 18, 19, 18, 18, 17, 18, 17, 17, 18, 17, 17, 17, 17, 23, 23, 23, 23, 23, 23, 23, 23, 21, 23, 23, 23, 23, 23, 23, 23, 23, 23, 23, 23, 23, 23, 23, 27, 27, 27, 27, 31, 26, 26, 30, 30, 30, 28, 28, 28, 28, 30, 30, 28, 29, 37, 28, 29, 37, 31, 29, 27, 29, 31, 29, 29, 27, 27, 29, 29, 31, 36, 36, 36, 24, 25, 27, 27, 18, 23, 20, 20, 20, 20, 16, 20, 20, 15, 20, 20, 20, 31, 36, 36, 36, 33, 33, 35, 35, 36, 35, 33, 31, 36, 36, 31, 36, 36, 35, 33, 33, 36, 35, 33, 33, 36, 35, 33, 33, 33, 33, 22, 22, 24, 24, 24, 22, 24, 24, 24, 24, 24, 24, 24, 22, 24, 24, 24, 24, 24, 24, 24, 24, 26, 25, 25, 26, 26, 26, 26, 26, 25, 26, 26, 25, 26, 26, 25, 25, 26, 26, 26, 26, 25, 26, 25, 26, 26, 26, 26, 22, 23, 23, 22, 22, 22, 21, 21, 21, 21, 22, 22, 32, 30, 32, 32, 32, 32, 32, 32, 32, 32, 30, 31, 31, 31, 25, 25, 25, 25, 25, 25, 25, 25, 25, 40, 40, 40, 40, 40, 36, 40, 40, 36, 40, 40, 40, 39, 39, 39, 39, 40, 40, 40, 36, 40, 35, 40, 35, 40, 40, 36, 39, 35, 36, 39, 39, 33, 32, 28, 28, 26, 26, 32, 28, 28, 24, 24, 23, 23, 23, 23, 24, 23, 23, 23, 23, 23, 24, 23, 20, 20, 20, 21, 22, 22, 22, 24, 23, 25, 24, 24, 24, 24, 22, 22, 24, 23, 24, 23, 25, 23, 23, 28, 25, 28, 28, 23, 23, 27, 23, 27, 23, 24, 24, 27, 23, 27, 24, 23, 27, 24, 27, 23, 26, 26, 26, 26, 26, 26, 26, 34, 32, 27, 32, 32, 31, 26, 28, 34, 28, 28, 27, 28, 34, 34, 26, 28, 28, 28, 27, 25, 28, 27, 26, 28, 31, 27, 27, 22, 24, 21, 30, 25, 24, 25, 30, 21, 27, 22, 27, 24, 25, 25, 24, 34, 34, 35, 34, 35, 34, 28, 28, 28, 28, 28, 28, 28, 28, 28, 28, 24, 24, 30, 24, 24, 24, 31, 31, 24, 24, 31, 25, 30, 30, 31, 24, 31, 31, 24, 25, 25, 30, 31, 24, 24, 25, 30, 25, 30, 25, 24, 30, 25, 29, 26, 26, 23, 23, 28, 23, 31, 31, 28, 23, 26, 28, 28, 29, 31, 30, 29, 29, 29, 30, 26, 24, 24, 25, 31, 24, 25, 31, 31, 26, 26, 31, 26, 26, 31, 31, 26, 31, 25, 25, 25, 25, 26, 25, 25, 26, 25, 25, 25, 26, 26, 25, 25, 26, 25, 23, 33, 33, 33, 33, 33, 33, 33, 33, 33, 33, 25, 25, 24, 24, 24, 24, 24, 24, 21, 20, 20, 21, 21, 20, 20, 20, 20, 21, 20, 20, 20, 21, 20, 20, 21, 20, 21, 21, 21, 20, 21, 20, 20, 20, 21, 21, 21, 22, 21, 22, 21, 22, 21, 21, 21, 21, 22, 21, 21, 22, 21, 22, 22, 22, 22, 22, 22, 22, 22, 22, 22, 22, 22, 22, 22, 22, 22, 22, 24, 23, 24, 23, 24, 24, 23, 23, 26, 27, 27, 26, 27, 26, 20, 20, 20, 20, 22, 20, 22, 20, 22, 20, 20, 20, 22, 20, 20, 20, 20, 20, 22, 20, 22, 26, 28, 28, 24, 26, 26, 28, 24, 28, 28, 28, 28, 26, 23, 26, 23, 28, 26, 28, 26, 28, 26, 26, 23, 23, 28, 28, 30, 33, 33, 33, 33, 33, 33, 30, 34, 34, 34, 31, 31, 34, 39, 37, 36, 36, 36, 37, 36, 36, 36, 37, 36, 36, 37, 36, 36, 35, 35, 36, 35, 35, 35, 36, 15, 23, 23, 23, 23, 23, 23, 23, 23, 23, 23, 23, 23, 22, 23, 22, 21, 20, 23, 23, 23, 22, 22, 22, 20, 22, 22, 20, 22, 23, 23, 22, 23, 22, 23, 21, 21, 22, 22, 21, 23, 23, 22, 20, 23, 22, 22, 22, 23, 24, 24, 25, 26, 25, 26, 26, 25, 26, 22, 22, 23, 23, 34, 26, 24, 34, 24, 24, 24, 34, 24, 23, 23, 23, 23, 23, 23, 23, 26], \"y\": [19, 19, 20, 18, 18, 18, 17, 20, 18, 18, 20, 19, 19, 19, 19, 18, 20, 16, 16, 17, 16, 16, 26, 26, 26, 23, 23, 20, 23, 22, 20, 22, 20, 20, 21, 21, 21, 21, 23, 24, 24, 23, 23, 23, 18, 23, 23, 18, 23, 23, 18, 18, 23, 23, 23, 23, 18, 18, 23, 23, 23, 18, 23, 23, 23, 26, 26, 21, 21, 25, 25, 25, 25, 20, 19, 19, 19, 19, 19, 20, 20, 20, 29, 29, 28, 28, 28, 28, 29, 29, 28, 28, 29, 29, 20, 22, 22, 22, 20, 20, 23, 22, 25, 23, 21, 22, 22, 23, 20, 23, 24, 30, 22, 22, 22, 22, 22, 24, 23, 30, 22, 23, 23, 23, 23, 30, 23, 21, 21, 30, 17, 17, 16, 16, 17, 17, 17, 16, 17, 18, 19, 19, 18, 19, 19, 18, 18, 18, 19, 18, 19, 18, 18, 19, 19, 19, 19, 18, 18, 18, 18, 18, 19, 19, 18, 19, 19, 18, 19, 16, 16, 16, 16, 16, 16, 16, 16, 16, 16, 16, 17, 17, 17, 16, 17, 17, 17, 25, 17, 17, 17, 17, 18, 18, 17, 17, 18, 17, 17, 18, 18, 17, 17, 17, 17, 17, 17, 17, 18, 17, 18, 18, 18, 17, 18, 17, 17, 17, 17, 17, 17, 17, 19, 17, 18, 18, 19, 19, 18, 18, 18, 18, 18, 17, 19, 18, 18, 19, 19, 18, 17, 19, 19, 19, 18, 19, 17, 18, 18, 18, 19, 18, 18, 19, 18, 18, 18, 19, 19, 18, 18, 18, 17, 18, 17, 19, 18, 18, 18, 18, 19, 19, 19, 25, 28, 30, 29, 29, 25, 27, 28, 26, 30, 30, 29, 30, 30, 29, 29, 26, 30, 29, 27, 29, 30, 29, 30, 27, 29, 30, 30, 30, 29, 27, 25, 30, 30, 29, 29, 28, 29, 26, 28, 28, 27, 25, 27, 28, 26, 25, 27, 26, 28, 28, 25, 27, 22, 23, 23, 22, 21, 20, 22, 20, 20, 23, 21, 21, 23, 23, 20, 21, 21, 22, 23, 20, 22, 21, 23, 20, 23, 23, 21, 23, 22, 20, 23, 20, 22, 20, 20, 23, 22, 21, 23, 23, 20, 21, 21, 24, 24, 24, 24, 24, 17, 17, 17, 17, 17, 17, 17, 17, 17, 17, 17, 17, 17, 17, 17, 17, 17, 17, 17, 17, 17, 17, 17, 17, 17, 17, 19, 16, 18, 16, 18, 16, 19, 18, 19, 15, 16, 20, 26, 22, 26, 17, 23, 20, 26, 20, 20, 22, 23, 16, 17, 26, 28, 31, 28, 28, 28, 28, 31, 28, 31, 31, 31, 28, 31, 31, 31, 28, 31, 31, 31, 28, 31, 31, 28, 27, 27, 27, 28, 27, 25, 25, 22, 25, 25, 25, 25, 22, 25, 25, 22, 22, 22, 21, 22, 21, 22, 22, 21, 25, 22, 21, 21, 22, 21, 21, 22, 25, 22, 22, 21, 22, 21, 22, 22, 22, 21, 21, 21, 19, 19, 23, 19, 19, 19, 19, 23, 19, 23, 19, 26, 26, 25, 25, 28, 26, 26, 25, 26, 25, 26, 24, 24, 26, 26, 19, 21, 20, 15, 14, 14, 17, 18, 17, 18, 18, 17, 18, 17, 17, 17, 18, 17, 17, 18, 17, 17, 18, 18, 18, 18, 17, 17, 17, 18, 18, 17, 21, 24, 17, 20, 18, 19, 20, 20, 20, 20, 20, 20, 18, 18, 18, 20, 19, 18, 18, 20, 19, 18, 20, 18, 17, 15, 19, 15, 19, 19, 15, 19, 19, 19, 19, 19, 17, 19, 17, 21, 21, 20, 17, 19, 19, 17, 19, 21, 17, 17, 20, 21, 19, 19, 17, 19, 18, 17, 18, 17, 15, 17, 17, 17, 17, 17, 17, 16, 20, 17, 18, 17, 14, 13, 13, 14, 12, 12, 14, 14, 18, 16, 18, 18, 16, 18, 18, 18, 18, 18, 18, 15, 18, 17, 18, 17, 18, 18, 18, 17, 18, 18, 18, 18, 18, 18, 17, 18, 18, 18, 18, 18, 18, 17, 18, 18, 17, 17, 17, 11, 11, 17, 17, 17, 17, 17, 17, 17, 17, 17, 17, 15, 15, 16, 16, 16, 16, 15, 15, 15, 15, 24, 24, 23, 24, 24, 24, 23, 23, 24, 23, 23, 23, 24, 23, 24, 24, 24, 24, 23, 24, 23, 23, 23, 24, 23, 23, 24, 23, 26, 26, 26, 25, 26, 25, 25, 25, 26, 25, 25, 26, 23, 23, 23, 22, 22, 22, 24, 22, 24, 22, 24, 22, 22, 22, 22, 22, 22, 22, 25, 27, 24, 24, 25, 25, 24, 27, 27, 24, 22, 22, 21, 21, 22, 22, 23, 15, 15, 24, 20, 25, 18, 25, 18, 20, 24, 22, 24, 24, 25, 20, 20, 25, 22, 22, 22, 22, 21, 22, 24, 18, 18, 24, 24, 25, 20, 24, 20, 21, 21, 15, 15, 17, 17, 16, 17, 16, 16, 17, 16, 16, 17, 15, 15, 15, 15, 15, 15, 15, 15, 15, 15, 15, 21, 18, 21, 21, 21, 18, 21, 21, 18, 18, 18, 27, 27, 27, 27, 27, 27, 27, 27, 26, 26, 27, 26, 26, 26, 26, 27, 27, 27, 19, 19, 17, 17, 18, 18, 18, 18, 18, 18, 18, 18, 18, 21, 21, 24, 26, 27, 24, 18, 26, 24, 26, 27, 26, 21, 21, 24, 27, 21, 26, 24, 27, 21, 27, 26, 26, 21, 27, 21, 26, 26, 23, 27, 26, 23, 27, 23, 26, 26, 23, 26, 27, 18, 21, 21, 23, 21, 27, 26, 23, 26, 23, 21, 23, 21, 26, 27, 27, 27, 21, 21, 21, 18, 26, 26, 23, 26, 27, 21, 26, 27, 27, 26, 23, 23, 26, 20, 20, 19, 19, 18, 23, 23, 23, 21, 22, 22, 22, 22, 21, 22, 21, 22, 22, 21, 21, 22, 21, 21, 22, 22, 22, 21, 22, 22, 21, 21, 22, 22, 22, 22, 21, 21, 22, 22, 18, 18, 21, 18, 21, 21, 21, 18, 18, 21, 18, 21, 18, 18, 21, 21, 18, 21, 18, 21, 21, 21, 18, 18, 14, 15, 14, 15, 14, 14, 14, 15, 20, 20, 20, 21, 21, 21, 21, 21, 27, 27, 22, 27, 22, 22, 22, 27, 22, 22, 27, 27, 27, 27, 27, 22, 22, 27, 27, 22, 27, 22, 26, 27, 17, 17, 17, 13, 12, 13, 12, 12, 13, 13, 12, 12, 12, 13, 13, 13, 12, 14, 14, 13, 13, 14, 13, 13, 12, 14, 13, 20, 13, 14, 15, 14, 14, 14, 15, 14, 12, 14, 12, 14, 14, 12, 18, 18, 21, 20, 20, 18, 18, 21, 20, 18, 18, 21, 21, 20, 22, 22, 20, 22, 22, 20, 22, 19, 22, 19, 22, 19, 22, 20, 22, 22, 22, 20, 22, 20, 19, 17, 17, 16, 16, 20, 21, 21, 21, 18, 18, 20, 20, 18, 18, 18, 20, 21, 21, 21, 18, 20, 22, 20, 22, 19, 22, 22, 20, 22, 22, 19, 22, 22, 22, 22, 19, 20, 22, 20, 19, 22, 22, 22, 15, 17, 16, 16, 15, 15, 15, 15, 15, 15, 15, 15, 15, 15, 15, 15, 15, 15, 15, 15, 21, 21, 21, 21, 21, 21, 21, 21, 21, 21, 21, 21, 21, 21, 21, 19, 20, 19, 21, 19, 21, 20, 21, 19, 20, 27, 27, 27, 27, 27, 27, 27, 27, 27, 27, 27, 27, 27, 27, 27, 27, 27, 27, 12, 12, 12, 12, 12, 12, 12, 12, 11, 11, 19, 20, 20, 19, 20, 19, 16, 17, 16, 17, 16, 17, 19, 14, 15, 15, 19, 15, 19, 15, 15, 19, 15, 15, 19, 15, 16, 19, 16, 16, 16, 16, 15, 19, 16, 16, 19, 15, 19, 20, 20, 16, 15, 16, 15, 20, 16, 16, 15, 14, 16, 15, 14, 16, 21, 16, 16, 15, 14, 15, 21, 21, 15, 15, 15, 15, 15, 19, 19, 15, 16, 15, 21, 14, 21, 15, 16, 16, 16, 16, 16, 16, 16, 16, 16, 16, 16, 16, 16, 16, 16, 16, 16, 16, 16, 16, 16, 16, 16, 16, 16, 16, 16, 16, 16, 16, 19, 16, 16, 19, 16, 19, 17, 16, 16, 19, 17, 20, 16, 16, 19, 24, 23, 23, 21, 28, 23, 24, 24, 23, 23, 24, 28, 23, 24, 23, 24, 23, 28, 23, 21, 23, 23, 21, 28, 24, 21, 23, 21, 21, 28, 30, 23, 23, 30, 23, 24, 23, 24, 24, 24, 23, 30, 30, 23, 23, 23, 23, 30, 30, 23, 24, 24, 24, 24, 24, 23, 23, 23, 30, 23, 30, 23, 23, 24, 23, 23, 23, 24, 23, 23, 25, 23, 23, 25, 23, 25, 25, 23, 23, 23, 23, 25, 23, 23, 23, 25, 23, 25, 25, 31, 24, 25, 25, 25, 23, 25, 23, 24, 25, 24, 25, 23, 24, 23, 24, 23, 31, 23, 24, 24, 24, 24, 31, 24, 31, 23, 24, 24, 31, 24, 31, 25, 24, 25, 24, 23, 23, 23, 24, 24, 31, 24, 24, 25, 25, 31, 24, 25, 23, 24, 25, 25, 25, 24, 24, 25, 23, 23, 25, 24, 25, 24, 24, 24, 25, 23, 24, 24, 24, 24, 24, 23, 24, 24, 18, 22, 21, 18, 22, 18, 15, 15, 15, 15, 15, 15, 11, 14, 13, 15, 13, 14, 14, 13, 13, 14, 14, 13, 14, 15, 14, 17, 17, 16, 18, 15, 18, 15, 18, 18, 15, 17, 16, 17, 15, 15, 15, 15, 16, 20, 20, 19, 20, 20, 20, 20, 14, 14, 14, 14, 13, 14, 14, 23, 23, 23, 23, 23, 22, 25, 22, 22, 22, 22, 25, 22, 24, 21, 21, 21, 24, 19, 19, 13, 25, 20, 24, 21, 25, 25, 18, 22, 24, 21, 25, 24, 18, 25, 25, 24, 24, 24, 21, 17, 24, 24, 23, 24, 18, 24, 24, 22, 23, 21, 21, 21, 21, 21, 21, 16, 16, 16, 16, 16, 16, 19, 18, 19, 17, 17, 17, 21, 21, 21, 20, 21, 20, 20, 21, 20, 20, 21, 21, 21, 20, 19, 19, 19, 19, 19, 20, 20, 20, 23, 23, 23, 23, 23, 23, 23, 23, 23, 23, 24, 23, 24, 24, 24, 23, 17, 17, 16, 16, 16, 16, 17, 17, 17, 19, 16, 21, 16, 21, 21, 21, 16, 16, 16, 16, 20, 22, 16, 16, 20, 22, 20, 20, 20, 18, 18, 18, 21, 18, 20, 21, 18, 20, 21, 18, 18, 22, 22, 18, 22, 18, 18, 18, 21, 18, 22, 21, 18, 18, 18, 22, 18, 22, 18, 21, 25, 25, 21, 21, 25, 25, 25, 25, 25, 25, 25, 21, 21, 24, 24, 24, 21, 21, 24, 18, 17, 18, 16, 16, 18, 18, 17, 16, 18, 17, 17, 17, 17, 20, 19, 17, 19, 20, 19, 18, 20, 20, 19, 17, 20, 17, 18, 19, 18, 17, 18, 17, 17, 17, 17, 18, 19, 19, 18, 20, 20, 19, 18, 19, 18, 17, 20, 15, 16, 16, 16, 15, 15, 16, 20, 20, 20, 20, 20, 20, 20, 20, 20, 20, 20, 20, 17, 17, 17, 17, 17, 17, 17, 17, 17, 20, 20, 20, 20, 20, 16, 16, 16, 16, 22, 22, 22, 22, 22, 22, 23, 23, 23, 23, 23, 23, 23, 23, 23, 23, 23, 23, 23, 23, 20, 19, 20, 18, 18, 20, 20, 20, 20, 20, 20, 21, 22, 21, 17, 21, 22, 22, 22, 22, 22, 21, 22, 21, 22, 22, 17, 22, 22, 22, 22, 22, 21, 22, 21, 21, 22, 22, 22, 22, 22, 22, 22, 25, 20, 20, 23, 23, 22, 22, 21, 25, 23, 25, 21, 23, 21, 22, 25, 18, 18, 18, 15, 14, 15, 14, 19, 15, 14, 15, 19, 15, 14, 19, 14, 15, 15, 19, 14, 15, 15, 14, 14, 15, 15, 19, 15, 14, 19, 14, 15, 15, 15, 15, 16, 19, 16, 18, 18, 19, 19, 19, 15, 15, 16, 19, 16, 19, 19, 16, 15, 18, 19, 16, 15, 18, 15, 14, 14, 14, 14, 14, 14, 13, 13, 13, 17, 21, 18, 17, 17, 16, 24, 24, 24, 24, 24, 24, 30, 25, 23, 29, 23, 26, 23, 28, 26, 30, 31, 30, 22, 22, 28, 22, 30, 22, 30, 22, 27, 30, 29, 29, 28, 28, 22, 27, 29, 22, 30, 31, 31, 31, 31, 27, 31, 31, 31, 30, 31, 26, 31, 31, 31, 31, 31, 30, 30, 30, 31, 31, 31, 30, 31, 31, 31, 31, 28, 30, 31, 31, 31, 28, 31, 30, 30, 14, 14, 15, 14, 14, 14, 15, 15, 11, 15, 14, 15, 14, 15, 11, 14, 14, 15, 15, 15, 14, 15, 15, 14, 14, 14, 14, 15, 14, 12, 14, 12, 16, 14, 16, 13, 16, 14, 16, 16, 12, 16, 14, 14, 13, 14, 16, 16, 16, 14, 16, 14, 14, 16, 13, 13, 13, 13, 13, 13, 12, 12, 12, 12, 26, 24, 23, 26, 23, 24, 26, 23, 23, 17, 17, 17, 17, 17, 17, 17, 17, 17, 22, 22, 17, 17, 15, 15, 17, 15, 15, 17, 17, 15, 15, 17, 17, 20, 20, 20, 19, 24, 24, 22, 24, 22, 24, 22, 25, 25, 22, 25, 22, 25, 25, 25, 25, 22, 25, 25, 25, 25, 25, 14, 17, 18, 18, 16, 17, 17, 18, 18, 17, 18, 18, 17, 18, 14, 16, 19, 20, 18, 18, 20, 20, 19, 17, 17, 19, 17, 18, 17, 17, 20, 19, 20, 17, 19, 17, 17, 17, 17, 20, 17, 19, 19, 19, 18, 18, 20, 19, 20, 17, 20, 19, 20, 18, 23, 28, 23, 28, 21, 19, 18, 28, 28, 23, 23, 16, 18, 16, 19, 17, 17, 19, 17, 17, 15, 15, 15, 15, 15, 17, 16, 16, 17, 27, 28, 30, 29, 30, 29, 27, 28, 28, 29, 29, 29, 30, 29, 30, 29, 29, 28, 29, 28, 29, 30, 29, 30, 27, 29, 29, 28, 30, 28, 27, 30, 28, 28, 28, 28, 16, 22, 21, 17, 17, 17, 17, 17, 17, 17, 17, 17, 17, 17, 17, 17, 17, 17, 17, 17, 17, 17, 17, 17, 17, 17, 17, 17, 17, 17, 16, 16, 16, 16, 16, 16, 16, 16, 16, 16, 16, 16, 16, 16, 16, 22, 23, 22, 23, 22, 22, 22, 23, 23, 23, 26, 27, 26, 27, 26, 26, 26, 27, 27, 27, 25, 25, 26, 25, 26, 26, 25, 26, 26, 25, 26, 25, 31, 31, 31, 31, 31, 31, 31, 31, 31, 15, 15, 15, 15, 15, 15, 15, 15, 15, 15, 15, 15, 20, 19, 20, 22, 20, 22, 19, 22, 20, 22, 22, 22, 20, 19, 19, 20, 22, 19, 20, 20, 22, 19, 22, 20, 30, 23, 26, 26, 23, 30, 23, 26, 26, 23, 28, 25, 26, 26, 26, 26, 25, 26, 22, 25, 26, 28, 25, 26, 26, 22, 26, 26, 30, 29, 29, 30, 29, 30, 29, 28, 30, 28, 28, 29, 28, 30, 28, 22, 18, 18, 18, 18, 22, 18, 18, 18, 22, 18, 22, 18, 18, 18, 18, 18, 18, 18, 18, 18, 18, 18, 18, 18, 18, 18, 18, 18, 18, 18, 18, 18, 18, 18, 18, 18, 18, 18, 18, 18, 18, 18, 18, 18, 18, 18, 18, 18, 18, 18, 18, 18, 18, 18, 20, 19, 19, 18, 18, 16, 19, 18, 20, 20, 19, 20, 18, 18, 16, 20, 21, 21, 16, 21, 16, 21, 19, 20, 20, 21, 19, 21, 21, 19, 21, 19, 22, 16, 21, 19, 20, 20, 21, 16, 22, 25, 27, 25, 27, 25, 27, 27, 27, 25, 27, 22, 17, 17, 17, 17, 17, 17, 18, 18, 18, 18, 18, 18, 17, 17, 17, 17, 29, 29, 27, 27, 27, 29, 29, 29, 29, 27, 27, 27, 26, 25, 25, 24, 24, 26, 25, 25, 24, 24, 26, 25, 26, 25, 24, 26, 24, 24, 26, 26, 24, 24, 26, 24, 26, 26, 26, 26, 24, 18, 17, 18, 17, 20, 20, 17, 18, 20, 17, 20, 20, 18, 18, 18, 20, 20, 17, 17, 20, 16, 17, 17, 16, 17, 16, 17, 16, 16, 16, 17, 17, 22, 21, 21, 22, 22, 21, 21, 15, 14, 15, 14, 15, 14, 14, 15, 14, 14, 16, 16, 15, 15, 15, 14, 15, 15, 15, 15, 14, 15, 15, 16, 14, 16, 15, 14, 14, 14, 16, 16, 15, 14, 15, 16, 14, 14, 15, 14, 14, 14, 15, 14, 15, 14, 14, 15, 15, 15, 15, 14, 15, 14, 15, 14, 15, 14, 15, 14, 14, 14, 14, 15, 15, 25, 22, 23, 28, 23, 23, 22, 28, 23, 25, 27, 25, 22, 25, 23, 25, 25, 27, 22, 22, 22, 12, 12, 12, 12, 16, 16, 16, 16, 16, 16, 15, 15, 15, 16, 16, 16, 16, 16, 16, 16, 15, 15, 15, 12, 12, 12, 12, 12, 12, 20, 20, 20, 20, 20, 20, 20, 20, 20, 11, 11, 11, 11, 11, 11, 15, 15, 15, 15, 15, 15, 15, 15, 15, 15, 15, 15, 15, 15, 18, 14, 17, 18, 17, 17, 14, 18, 14, 18, 19, 18, 18, 14, 19, 19, 19, 18, 19, 19, 18, 14, 19, 14, 19, 18, 18, 18, 20, 20, 24, 20, 20, 27, 17, 20, 20, 20, 27, 18, 20, 28, 20, 20, 28, 20, 20, 20, 20, 27, 20, 20, 20, 20, 20, 18, 20, 27, 20, 17, 28, 28, 20, 20, 22, 22, 20, 22, 22, 20, 18, 17, 15, 15, 30, 28, 30, 28, 30, 28, 28, 30, 30, 28, 28, 30, 19, 16, 16, 20, 20, 16, 20, 20, 20, 16, 20, 16, 20, 20, 20, 17, 20, 20, 20, 17, 20, 17, 17, 17, 17, 17, 17, 17, 17, 17, 17, 17, 17, 17, 17, 17, 27, 27, 28, 27, 27, 28, 24, 24, 24, 24, 24, 24, 24, 24, 23, 23, 23, 23, 23, 23, 23, 23, 23, 23, 23, 23, 24, 27, 28, 27, 24, 24, 27, 24, 28, 24, 27, 24, 27, 27, 28, 29, 28, 29, 26, 28, 26, 22, 29, 15, 15, 15, 15, 16, 16, 16, 18, 20, 18, 19, 20, 20, 19, 19, 20, 20, 19, 20, 20, 19, 20, 19, 20, 19, 19, 20, 20, 21, 20, 21, 21, 20, 21, 20, 20, 16, 17, 17, 16, 17, 15, 15, 15, 15, 15, 15, 15, 15, 15, 15, 23, 23, 23, 25, 25, 25, 25, 23, 23, 23, 25, 25, 26, 25, 28, 23, 25, 23, 24, 25, 24, 28, 26, 24, 25, 25, 24, 25, 15, 15, 15, 15, 15, 15, 15, 15, 15, 15, 16, 16, 16, 16, 16, 20, 20, 21, 20, 22, 20, 21, 22, 13, 13, 13, 13, 13, 12, 13, 12, 13, 13, 13, 13, 13, 14, 14, 14, 12, 13, 13, 12, 14, 14, 14, 14, 14, 13, 14, 14, 13, 14, 14, 14, 14, 15, 14, 14, 14, 14, 22, 22, 22, 22, 22, 22, 22, 17, 15, 15, 15, 15, 19, 15, 15, 15, 19, 14, 15, 14, 19, 14, 17, 19, 19, 15, 15, 17, 15, 14, 20, 22, 20, 22, 22, 20, 22, 22, 20, 22, 20, 22, 20, 20, 22, 22, 22, 20, 22, 22, 20, 22, 20, 15, 15, 15, 15, 15, 15, 17, 18, 18, 18, 18, 18, 21, 21, 21, 21, 13, 13, 13, 13, 13, 13, 13, 13, 13, 20, 15, 15, 15, 15, 24, 26, 24, 24, 23, 23, 26, 23, 26, 26, 24, 23, 24, 26, 23, 24, 24, 24, 24, 24, 23, 24, 23, 24, 23, 24, 23, 23, 23, 24, 23, 15, 15, 15, 15, 15, 15, 18, 18, 18, 18, 18, 18, 17, 16, 16, 17, 16, 16, 17, 17, 17, 16, 16, 17, 24, 24, 24, 20, 20, 20, 20, 17, 17, 17, 17, 17, 17, 17, 17, 17, 17, 17, 17, 18, 18, 21, 19, 19, 17, 18, 13, 14, 13, 11, 13, 11, 11, 11, 11, 11, 11, 11, 11, 11, 11, 11, 11, 11, 11, 17, 15, 15, 15, 17, 16, 17, 16, 17, 16, 16, 16, 16, 17, 17, 29, 29, 29, 29, 29, 29, 17, 15, 17, 16, 17, 15, 17, 16, 15, 15, 15, 15, 19, 20, 19, 20, 19, 19, 19, 19, 19, 19, 19, 19, 19, 19, 20, 20, 19, 20, 20, 19, 19, 19, 19, 19, 19, 19, 19, 19, 19, 19, 20, 19, 20, 19, 23, 24, 22, 24, 24, 22, 23, 24, 24, 22, 24, 23, 22, 23, 24, 24, 23, 26, 23, 22, 26, 26, 26, 22, 25, 25, 24, 21, 21, 26, 25, 25, 22, 22, 22, 25, 21, 22, 25, 25, 25, 26, 21, 24, 29, 29, 25, 25, 25, 23, 25, 25, 22, 25, 22, 25, 25, 25, 22, 22, 22, 25, 22, 25, 15, 15, 15, 15, 16, 16, 16, 16, 16, 15, 17, 16, 15, 16, 15, 16, 15, 17, 16, 19, 16, 16, 16, 15, 19, 15, 16, 16, 16, 16, 16, 15, 16, 15, 16, 15, 15, 15, 16, 15, 16, 16, 16, 15, 15, 17, 15, 15, 15, 16, 16, 16, 16, 16, 15, 19, 17, 15, 16, 16, 15, 17, 19, 16, 16, 15, 16, 15, 15, 19, 17, 16, 16, 15, 15, 15, 17, 15, 16, 15, 16, 16, 16, 16, 19, 15, 15, 16, 16, 16, 16, 13, 13, 13, 14, 14, 16, 16, 14, 16, 14, 16, 16, 16, 17, 14, 16, 16, 17, 17, 16, 17, 17, 17, 16, 19, 17, 17, 18, 19, 19, 19, 19, 17, 18, 19, 17, 17, 18, 19, 19, 17, 18, 19, 19, 19, 18, 20, 17, 19, 20, 18, 17, 19, 20, 18, 18, 18, 19, 19, 19, 20, 17, 18, 19, 21, 21, 20, 21, 20, 21, 20, 21, 16, 17, 17, 17, 17, 16, 17, 17, 17, 17, 17, 17, 17, 17, 17, 17, 16, 17, 17, 19, 19, 18, 19, 17, 19, 19, 18, 18, 17, 19, 18, 17, 18, 18, 18, 17, 17, 18, 18, 17, 18, 16, 18, 27, 22, 22, 22, 24, 25, 25, 17, 17, 17, 17, 22, 22, 17, 17, 22, 17, 17, 17, 22, 17, 22, 22, 17, 17, 17, 17, 17, 22, 18, 15, 16, 15, 17, 15, 17, 13, 21, 21, 21, 21, 21, 21, 16, 16, 17, 16, 16, 17, 16, 19, 16, 16, 16, 16, 16, 17, 16, 16, 17, 17, 18, 15, 15, 18, 16, 16, 18, 15, 15, 17, 17, 19, 14, 17, 19, 19, 17, 25, 24, 23, 22, 25, 24, 22, 24, 23, 22, 21, 22, 21, 17, 17, 18, 18, 22, 17, 18, 18, 18, 22, 22, 20, 20, 20, 22, 21, 21, 22, 22, 24, 22, 22, 24, 24, 22, 24, 24, 24, 22, 22, 22, 19, 19, 24, 24, 19, 19, 19, 18, 24, 17, 22, 22, 22, 22, 22, 25, 25, 25, 25, 25, 25, 25, 25, 25, 25, 25, 25, 25, 25, 25, 25, 25, 25, 25, 25, 25, 25, 25, 25, 25, 25, 25, 25, 25, 25, 25, 25, 25, 25, 25, 25, 25, 25, 25, 25, 24, 24, 24, 24, 24, 24, 24, 24, 24, 24, 23, 23, 23, 23, 22, 22, 23, 22, 22, 23, 31, 25, 25, 25, 25, 31, 31, 25, 25, 25, 25, 25, 25, 25, 25, 25, 25, 25, 25, 25, 25, 25, 25, 25, 25, 25, 25, 25, 25, 25, 25, 25, 25, 25, 25, 25, 25, 18, 18, 22, 18, 18, 18, 22, 23, 18, 18, 18, 18, 23, 18, 18, 18, 22, 17, 17, 17, 17, 17, 17, 17, 17, 17, 17, 17, 17, 17, 17, 17, 17, 17, 16, 18, 16, 17, 18, 18, 16, 19, 19, 19, 19, 19, 19, 19, 19, 19, 19, 19, 19, 19, 19, 19, 19, 19, 19, 16, 16, 17, 17, 17, 16, 16, 16, 16, 16, 21, 22, 22, 21, 16, 16, 19, 19, 19, 19, 19, 19, 20, 19, 19, 20, 19, 19, 19, 15, 16, 16, 16, 16, 16, 29, 29, 29, 17, 17, 17, 21, 24, 21, 24, 24, 24, 21, 24, 21, 24, 21, 21, 24, 21, 24, 21, 24, 24, 21, 21, 24, 21, 21, 21, 24, 21, 21, 24, 21, 24, 24, 24, 24, 21, 24, 24, 21, 24, 21, 21, 21, 21, 21, 24, 21, 21, 24, 21, 21, 24, 24, 21, 24, 24, 24, 21, 24, 21, 24, 24, 21, 24, 21, 21, 24, 24, 24, 21, 24, 21, 24, 21, 24, 21, 21, 24, 15, 14, 14, 15, 15, 15, 15, 15, 15, 14, 14, 14, 13, 13, 13, 14, 14, 13, 13, 14, 14, 14, 14, 13, 13, 14, 14, 13, 14, 22, 21, 22, 21, 22, 22, 22, 22, 21, 22, 22, 22, 22, 22, 27, 27, 27, 27, 27, 27, 18, 19, 18, 18, 18, 19, 18, 20, 19, 19, 19, 19, 18, 20, 18, 18, 18, 19, 19, 19, 18, 19, 28, 27, 28, 27, 27, 28, 25, 25, 28, 27, 28, 27, 28, 25, 27, 25, 18, 19, 17, 17, 17, 17, 17, 17, 17, 31, 22, 24, 24, 24, 25, 25, 25, 25, 25, 25, 25, 25, 25, 25, 25, 25, 18, 18, 18, 18, 18, 18, 18, 18, 18, 21, 21, 19, 19, 21, 21, 19, 19, 22, 22, 22, 19, 19, 19, 17, 17, 17, 19, 19, 19, 19, 19, 19, 17, 19, 17, 19, 17, 19, 19, 28, 27, 24, 28, 28, 28, 25, 25, 28, 27, 28, 25, 24, 28, 28, 28, 28, 28, 28, 25, 28, 28, 28, 28, 28, 28, 28, 28, 27, 27, 28, 27, 28, 27, 27, 28, 22, 22, 22, 22, 22, 22, 22, 22, 22, 22, 22, 22, 22, 22, 22, 22, 21, 22, 21, 21, 21, 22, 22, 22, 16, 18, 16, 17, 19, 17, 16, 19, 17, 17, 17, 17, 17, 17, 18, 18, 18, 22, 22, 21, 21, 21, 21, 21, 21, 20, 21, 21, 20, 20, 16, 16, 16, 19, 19, 19, 19, 19, 19, 19, 19, 19, 19, 19, 16, 16, 16, 16, 16, 16, 16, 16, 16, 16, 24, 22, 22, 24, 24, 24, 22, 22, 22, 24, 24, 24, 24, 22, 22, 22, 22, 24, 22, 24, 22, 24, 24, 22, 23, 24, 24, 23, 23, 24, 23, 24, 24, 23, 23, 23, 24, 23, 23, 24, 24, 24, 24, 23, 24, 24, 30, 24, 24, 23, 23, 29, 29, 24, 29, 24, 30, 30, 24, 24, 29, 23, 30, 29, 23, 29, 24, 24, 24, 24, 30, 30, 23, 29, 29, 30, 23, 23, 23, 23, 23, 30, 23, 23, 29, 30, 25, 23, 25, 25, 23, 25, 23, 24, 24, 23, 24, 25, 24, 25, 25, 25, 25, 25, 25, 25, 23, 23, 25, 25, 25, 28, 25, 23, 28, 25, 24, 23, 28, 23, 25, 25, 28, 28, 25, 28, 24, 28, 24, 24, 23, 25, 24, 28, 28, 28, 28, 25, 23, 13, 14, 14, 14, 14, 14, 14, 14, 14, 15, 15, 13, 14, 15, 15, 14, 15, 15, 14, 14, 15, 13, 14, 14, 14, 15, 14, 15, 14, 14, 15, 16, 16, 16, 16, 19, 19, 16, 19, 19, 17, 17, 19, 19, 16, 16, 16, 17, 16, 19, 19, 16, 19, 16, 19, 16, 17, 16, 16, 19, 16, 19, 28, 25, 25, 26, 28, 28, 26, 26, 26, 28, 28, 26, 25, 28, 26, 26, 25, 28, 26, 28, 26, 27, 25, 26, 26, 26, 26, 28, 28, 28, 28, 24, 18, 18, 15, 15, 17, 15, 17, 23, 23, 23, 22, 22, 20, 20, 23, 23, 22, 21, 23, 22, 22, 23, 22, 22, 23, 21, 23, 20, 23, 20, 22, 23, 23, 23, 23, 22, 22, 20, 22, 25, 18, 17, 18, 25, 18, 17, 18, 18, 17, 18, 18, 17, 18, 18, 21, 21, 20, 21, 21, 17, 17, 17, 17, 17, 17, 17, 22, 24, 24, 22, 22, 24, 25, 18, 22, 23, 22, 26, 27, 23, 24, 24, 22, 23, 23, 23, 23, 27, 24, 23, 18, 21, 19, 19, 18, 18, 18, 18, 26, 20, 26, 26, 26, 26, 26, 26, 26, 20, 26, 26, 26, 26, 20, 25, 25, 25, 25, 16, 16, 17, 16, 16, 17, 16, 16, 17, 16, 16, 17, 17, 18, 18, 18, 18, 14, 16, 16, 16, 21, 17, 17, 17, 17, 17, 17, 17, 17, 17, 12, 12, 12, 14, 14, 14, 14, 14, 14, 14, 15, 15, 15, 17, 16, 16, 16, 16, 16, 16, 16, 16, 17, 15, 17, 15, 17, 16, 17, 17, 17, 16, 16, 16, 17, 17, 16, 16, 17, 15, 17, 17, 17, 17, 17, 17, 17, 17, 17, 17, 17, 17, 15, 17, 17, 17, 17, 17, 17, 15, 17, 17, 17, 17, 17, 17, 17, 17, 17, 18, 18, 12, 12, 12, 12, 12, 20, 14, 18, 18, 20, 17, 14, 18, 18, 18, 17, 18, 18, 16, 16, 17, 16, 17, 16, 17, 18, 17, 17, 17, 16, 14, 16, 14, 14, 16, 17, 17, 17, 17, 16, 16, 17, 17, 17, 17, 17, 17, 20, 15, 15, 18, 15, 13, 15, 18, 15, 15, 13, 13, 15, 17, 15, 15, 18, 18, 22, 18, 24, 26, 26, 24, 24, 24, 24, 20, 20, 20, 20, 20, 16, 20, 18, 18, 15, 18, 25, 25, 21, 25, 21, 25, 25, 27, 22, 22, 27, 27, 27, 27, 27, 22, 27, 13, 12, 12, 12, 12, 12, 12, 13, 13, 12, 16, 16, 16, 16, 15, 15, 25, 21, 21, 20, 26, 20, 26, 21, 25, 21, 25, 20, 21, 21, 26, 19, 19, 22, 22, 22, 22, 22, 21, 21, 21, 21, 21, 18, 18, 18, 17, 17, 17, 17, 18, 18, 18, 21, 21, 15, 15, 17, 14, 14, 18, 18, 18, 20, 20, 20, 18, 20, 19, 19, 18, 19, 19, 18, 20, 18, 18, 18, 20, 18, 19, 19, 19, 19, 19, 19, 18, 18, 19, 20, 19, 19, 18, 20, 20, 21, 31, 31, 26, 18, 15, 18, 18, 18, 17, 17, 17, 17, 17, 17, 17, 17, 17, 17, 18, 27, 16, 16, 16, 27, 18, 16, 17, 20, 19, 20, 19, 20, 19, 19, 20, 20, 19, 20, 19, 19, 21, 19, 21, 21, 19, 21, 19, 19, 18, 17, 17, 19, 18, 17, 17, 16, 16, 17, 16, 15, 16, 15, 17, 18, 17, 17, 17, 17, 17, 17, 17, 17, 17, 16, 16, 17, 17, 16, 17, 16, 22, 22, 22, 22, 22, 22, 22, 22, 20, 21, 20, 21, 20, 21, 21, 20, 12, 16, 15, 17, 16, 17, 16, 17, 17, 17, 17, 16, 17, 17, 15, 16, 16, 16, 16, 15, 19, 18, 17, 18, 19, 16, 19, 18, 16, 19, 19, 15, 15, 14, 16, 14, 15, 15, 16, 15, 15, 15, 16, 14, 14, 16, 15, 15, 14, 14, 15, 13, 13, 13, 16, 16, 16, 16, 16, 16, 16, 16, 22, 23, 23, 23, 23, 23, 18, 19, 19, 18, 17, 17, 17, 21, 21, 21, 21, 21, 21, 21, 21, 21, 21, 26, 21, 21, 21, 21, 21, 28, 21, 28, 26, 21, 21, 21, 21, 21, 21, 21, 21, 20, 25, 25, 21, 21, 21, 21, 21, 21, 21, 22, 21, 21, 21, 21, 21, 22, 21, 21, 21, 21, 21, 21, 21, 21, 27, 27, 27, 27, 27, 27, 18, 23, 18, 23, 18, 18, 23, 14, 14, 14, 14, 15, 15, 16, 15, 16, 15, 15, 15, 15, 16, 15, 15, 15, 15, 15, 15, 19, 25, 25, 25, 22, 25, 25, 19, 25, 22, 25, 25, 19, 24, 24, 24, 24, 24, 24, 24, 24, 24, 20, 20, 20, 20, 20, 20, 20, 20, 20, 20, 20, 20, 20, 20, 20, 20, 20, 20, 20, 20, 20, 20, 20, 20, 20, 20, 20, 20, 20, 20, 20, 20, 20, 20, 20, 20, 16, 16, 16, 17, 17, 15, 17, 17, 17, 17, 15, 16, 16, 15, 15, 16, 16, 16, 16, 16, 16, 15, 16, 15, 16, 16, 16, 15, 16, 16, 16, 16, 15, 15, 24, 24, 24, 24, 24, 24, 21, 22, 21, 22, 22, 22, 22, 22, 22, 22, 22, 22, 19, 19, 19, 19, 19, 19, 19, 19, 19, 19, 19, 19, 19, 19, 19, 20, 23, 23, 20, 23, 23, 23, 20, 20, 23, 22, 28, 24, 24, 22, 25, 25, 25, 25, 20, 25, 25, 25, 20, 25, 25, 25, 25, 25, 25, 25, 20, 25, 20, 25, 24, 23, 23, 23, 25, 24, 24, 25, 23, 23, 23, 22, 22, 22, 23, 23, 24, 23, 22, 23, 22, 23, 22, 24, 22, 23, 23, 23, 24, 25, 20, 25, 20, 25, 24, 25, 25, 24, 25, 20, 25, 24, 24, 25, 24, 25, 16, 15, 15, 14, 14, 14, 14, 14, 15, 14, 15, 15, 18, 18, 18, 18, 18, 16, 17, 16, 18, 17, 18, 25, 26, 26, 25, 24, 30, 24, 24, 24, 30, 24, 24, 24, 24, 24, 30, 24, 24, 24, 24, 24, 20, 24, 24, 24, 24, 25, 25, 25, 25, 25, 25, 25, 20, 25, 25, 25, 25, 25, 25, 25, 20, 23, 23, 23, 23, 23, 20, 15, 14, 15, 15, 15, 15, 15, 15, 15, 15, 15, 15, 15, 15, 15, 15, 15, 15, 15, 15, 20, 20, 19, 20, 19, 19, 19, 20, 20, 20, 19, 19, 20, 19, 20, 19, 20, 20, 19, 19, 19, 20, 20, 20, 20, 19, 19, 19, 14, 14, 14, 17, 14, 19, 19, 17, 19, 15, 14, 15, 14, 16, 14, 19, 17, 17, 14, 19, 16, 14, 19, 17, 18, 18, 18, 17, 17, 17, 17, 17, 18, 18, 18, 18, 17, 18, 19, 18, 18, 18, 19, 19, 18, 19, 19, 18, 19, 18, 20, 19, 19, 19, 18, 19, 18, 19, 19, 18, 19, 19, 18, 18, 18, 20, 18, 19, 19, 19, 19, 20, 20, 20, 20, 20, 20, 19, 15, 15, 15, 15, 16, 15, 15, 16, 16, 16, 15, 15, 15, 16, 15, 16, 27, 27, 27, 27, 27, 27, 22, 22, 22, 25, 25, 22, 22, 22, 22, 22, 22, 22, 22, 15, 16, 15, 15, 15, 19, 18, 21, 21, 21, 19, 18, 19, 20, 20, 20, 20, 20, 20, 20, 20, 20, 20, 20, 20, 20, 20, 19, 18, 16, 16, 16, 15, 19, 28, 20, 19, 20, 19, 28, 29, 29, 20, 23, 19, 20, 19, 18, 27, 19, 22, 28, 19, 23, 22, 23, 20, 19, 22, 20, 26, 23, 20, 19, 22, 22, 23, 19, 27, 18, 24, 24, 20, 20, 24, 18, 18, 20, 20, 24, 18, 24, 24, 24, 24, 18, 20, 18, 20, 16, 18, 18, 18, 16, 18, 17, 19, 18, 17, 19, 19, 17, 19, 18, 17, 19, 19, 19, 22, 20, 21, 21, 22, 17, 18, 29, 16, 16, 18, 18, 17, 16, 16, 16, 29, 16, 17, 16, 18, 16, 29, 16, 16, 18, 18, 18, 19, 19, 16, 16, 16, 19, 16, 19, 19, 16, 16, 19, 19, 19, 19, 19, 19, 19, 19, 20, 20, 20, 20, 20, 20, 20, 20, 14, 14, 13, 14, 14, 14, 17, 17, 17, 17, 17, 17, 17, 17, 12, 12, 12, 12, 14, 14, 26, 21, 25, 19, 21, 25, 26, 19, 19, 20, 17, 16, 17, 16, 17, 16, 14, 14, 14, 14, 13, 14, 14, 14, 14, 14, 14, 18, 15, 18, 16, 18, 17, 18, 19, 19, 19, 19, 19, 19, 19, 19, 22, 21, 21, 22, 22, 21, 22, 21, 20, 21, 21, 20, 20, 20, 15, 14, 15, 15, 14, 14, 14, 16, 14, 15, 15, 15, 15, 14, 16, 14, 14, 14, 14, 14, 14, 11, 14, 11, 14, 13, 13, 12, 13, 13, 12, 13, 12, 13, 13, 12, 13, 13, 13, 13, 13, 13, 16, 13, 12, 13, 13, 12, 13, 13, 13, 12, 16, 13, 12, 13, 13, 13, 13, 13, 16, 12, 12, 13, 13, 14, 14, 13, 13, 13, 14, 13, 14, 13, 14, 13, 14, 14, 14, 14, 13, 14, 13, 13, 13, 13, 13, 14, 14, 14, 14, 14, 14, 13, 14, 14, 14, 13, 13, 14, 13, 13, 13, 13, 12, 13, 12, 13, 12, 14, 14, 13, 13, 12, 12, 13, 13, 11, 11, 12, 13, 21, 21, 21, 21, 21, 21, 21, 21, 21, 21, 21, 21, 21, 21, 21, 21, 21, 21, 21, 21, 21, 21, 21, 20, 21, 20, 21, 21, 17, 17, 17, 17, 17, 17, 17, 22, 17, 22, 24, 22, 24, 22, 24, 22, 24, 22, 24, 24, 22, 24, 22, 22, 23, 22, 22, 23, 22, 22, 23, 23, 23, 22, 22, 22, 19, 19, 19, 19, 19, 19, 19, 19, 16, 16, 16, 19, 19, 20, 20, 20, 19, 19, 20, 20, 19, 20, 20, 19, 19, 19, 20, 20, 19, 20, 19, 19, 19, 20, 20, 21, 21, 21, 21, 19, 19, 19, 19, 19, 21, 21, 19, 21, 19, 21, 19, 19, 17, 17, 16, 17, 17, 16, 17, 17, 20, 19, 20, 20, 19, 19, 19, 19, 19, 20, 20, 20, 20, 19, 19, 15, 15, 15, 15, 15, 15, 15, 15, 15, 15, 15, 18, 18, 18, 19, 19, 19, 19, 19, 18, 18, 18, 18, 27, 27, 27, 27, 27, 27, 27, 27, 27, 27, 27, 27, 27, 27, 27, 27, 27, 27, 27, 27, 27, 17, 16, 16, 16, 16, 16, 16, 16, 17, 17, 17, 17, 17, 17, 17, 17, 20, 20, 20, 20, 20, 20, 28, 20, 28, 20, 20, 20, 15, 15, 15, 15, 15, 15, 15, 15, 15, 23, 22, 22, 23, 25, 25, 25, 26, 26, 26, 25, 26, 25, 25, 25, 26, 26, 26, 26, 25, 26, 25, 25, 26, 19, 18, 19, 18, 19, 19, 18, 19, 18, 19, 18, 20, 18, 20, 20, 16, 17, 17, 16, 16, 16, 17, 17, 17, 17, 17, 17, 17, 17, 17, 17, 17, 17, 17, 17, 17, 17, 17, 17, 13, 13, 16, 16, 16, 24, 24, 22, 22, 21, 24, 22, 22, 24, 20, 24, 24, 20, 22, 22, 17, 16, 16, 17, 16, 17, 17, 16, 17, 16, 17, 16, 18, 18, 18, 18, 19, 20, 19, 19, 20, 20, 19, 27, 28, 28, 27, 27, 26, 30, 30, 30, 31, 31, 31, 15, 15, 15, 15, 15, 15, 15, 15, 15, 15, 15, 15, 15, 17, 17, 12, 15, 19, 14, 15, 17, 19, 14, 15, 14, 14, 17, 15, 17, 15, 14, 15, 19, 12, 19, 19, 14, 17, 19, 12, 17, 19, 19, 12, 19, 19, 14, 18, 18, 18, 18, 18, 18, 18, 23, 23, 23, 23, 21, 21, 18, 19, 20, 20, 21, 21, 21, 21, 18, 17, 17, 18, 17, 17, 18, 18, 18, 17, 18, 17, 18, 17, 18, 18, 18, 17, 17, 18, 18, 22, 20, 24, 20, 19, 19, 25, 25, 24, 25, 23, 18, 22, 20, 20, 22, 26, 20, 26, 20, 23, 20, 25, 18, 18, 25, 25, 25, 23, 18, 18, 17, 17, 17, 17, 19, 18, 18, 16, 17, 16, 19, 17, 19, 18, 20, 18, 19, 19, 26, 26, 25, 25, 16, 23, 22, 23, 22, 14, 15, 14, 14, 15, 14, 14, 12, 14, 12, 14, 12, 24, 24, 18, 19, 20, 19, 18, 19, 18, 20, 19, 19, 19, 20, 19, 21, 20, 20, 18, 18, 18, 18, 18, 18, 18, 18, 18, 18, 17, 17, 17, 17, 17, 18, 18, 17, 11, 13, 11, 14, 11, 11, 11, 11, 11, 11, 11, 11, 11, 11, 13, 11, 11, 13, 11, 11, 11, 11, 11, 11, 11, 11, 11, 11, 11, 11, 11, 17, 17, 17, 17, 16, 16, 16, 16, 16, 23, 23, 23, 23, 24, 24, 16, 21, 21, 21, 21, 15, 18, 21, 21, 18, 16, 21, 20, 21, 21, 16, 21, 18, 20, 21, 18, 18, 18, 17, 18, 18, 18, 17, 18, 18, 17, 18, 18, 18, 18, 30, 30, 30, 27, 30, 30, 29, 29, 27, 29, 30, 29, 29, 27, 29, 27, 29, 29, 26, 21, 21, 20, 20, 22, 22, 19, 19, 13, 13, 13, 13, 13, 13, 13, 13, 13, 13, 13, 13, 13, 13, 13, 13, 13, 13, 13, 13, 13, 13, 13, 13, 13, 13, 13, 16, 16, 16, 16, 16, 21, 23, 23, 21, 20, 21, 21, 21, 21, 20, 21, 19, 21, 19, 21, 19, 21, 21, 20, 19, 20, 20, 21, 20, 21, 20, 20, 16, 16, 16, 18, 18, 18, 18, 16, 16, 18, 18, 18, 18, 18, 18, 18, 18, 16, 18, 18, 18, 16, 18, 18, 16, 18, 18, 16, 18, 16, 18, 18, 18, 18, 19, 19, 18, 18, 19, 18, 19, 19, 19, 19, 19, 19, 19, 19, 18, 19, 18, 14, 14, 13, 13, 13, 13, 15, 15, 14, 14, 13, 14, 15, 15, 13, 14, 14, 15, 14, 14, 13, 15, 14, 14, 15, 14, 14, 13, 15, 15, 13, 14, 13, 14, 13, 14, 15, 14, 14, 14, 14, 13, 14, 14, 14, 14, 14, 13, 13, 20, 20, 20, 20, 20, 20, 20, 20, 20, 20, 20, 20, 16, 17, 16, 18, 17, 17, 16, 17, 18, 16, 16, 17, 18, 18, 18, 18, 18, 17, 17, 18, 17, 16, 16, 18, 16, 17, 17, 16, 16, 18, 16, 18, 16, 18, 16, 16, 18, 18, 17, 16, 16, 17, 17, 16, 18, 18, 18, 16, 16, 16, 18, 17, 16, 17, 16, 17, 17, 17, 16, 16, 16, 16, 16, 18, 18, 16, 17, 16, 17, 16, 16, 17, 17, 16, 18, 16, 18, 15, 17, 18, 18, 18, 17, 16, 15, 16, 17, 16, 17, 18, 13, 13, 13, 13, 13, 13, 10, 13, 12, 12, 13, 16, 17, 16, 17, 17, 17, 17, 16, 17, 16, 16, 16, 17, 17, 17, 14, 15, 14, 14, 14, 13, 14, 14, 13, 13, 13, 15, 14, 13, 14, 14, 15, 14, 15, 15, 14, 15, 13, 14, 14, 13, 13, 15, 13, 14, 14, 15, 15, 13, 14, 14, 14, 14, 14, 13, 14, 13, 14, 14, 13, 14, 14, 13, 14, 20, 20, 20, 20, 20, 20, 20, 20, 20, 20, 20, 20, 16, 17, 18, 16, 17, 17, 18, 17, 17, 16, 16, 16, 17, 17, 17, 17, 18, 16, 18, 16, 16, 17, 18, 18, 17, 18, 17, 17, 18, 16, 18, 16, 17, 17, 16, 16, 16, 16, 16, 18, 18, 18, 18, 17, 18, 17, 18, 16, 18, 18, 18, 17, 18, 18, 17, 17, 18, 16, 17, 18, 17, 18, 17, 17, 16, 18, 16, 16, 16, 18, 16, 17, 16, 18, 17, 18, 16, 17, 16, 18, 17, 16, 17, 16, 16, 17, 17, 16, 16, 18, 17, 16, 17, 17, 16, 16, 16, 17, 16, 17, 16, 18, 18, 18, 18, 17, 18, 18, 16, 18, 18, 16, 17, 17, 16, 15, 17, 17, 15, 15, 17, 17, 17, 18, 16, 16, 17, 15, 18, 18, 18, 15, 16, 16, 15, 16, 18, 16, 18, 16, 17, 17, 17, 15, 17, 17, 16, 15, 17, 17, 18, 16, 18, 17, 17, 18, 19, 19, 19, 18, 18, 19, 19, 19, 20, 25, 21, 19, 22, 22, 21, 19, 21, 25, 19, 13, 13, 13, 13, 17, 19, 19, 19, 19, 19, 19, 19, 19, 19, 19, 24, 24, 23, 24, 24, 24, 21, 25, 21, 23, 25, 24, 28, 23, 25, 25, 25, 25, 21, 23, 28, 25, 25, 28, 25, 25, 25, 22, 25, 28, 25, 25, 22, 22, 25, 25, 25, 25, 25, 29, 25, 26, 29, 25, 25, 27, 27, 26, 27, 27, 26, 26, 26, 27, 24, 24, 27, 26, 27, 27, 25, 26, 24, 26, 24, 25, 24, 27, 25, 24, 24, 27, 28, 28, 28, 25, 15, 19, 14, 17, 19, 14, 17, 17, 12, 19, 19, 14, 12, 19, 17, 12, 17, 19, 18, 20, 18, 18, 18, 18, 18, 19, 18, 18, 18, 21, 18, 18, 17, 19, 21, 17, 18, 21, 18, 20, 18, 20, 19, 21, 18, 18, 17, 20, 18, 17, 18, 18, 21, 18, 21, 19, 24, 23, 23, 24, 24, 24, 23, 23, 24, 24, 24, 24, 31, 30, 31, 31, 30, 30, 30, 31, 31, 31, 30, 30, 29, 29, 30, 30, 29, 30, 23, 23, 23, 23, 23, 23, 23, 24, 24, 23, 23, 23, 24, 24, 23, 23, 23, 24, 23, 24, 23, 24, 24, 19, 19, 21, 20, 21, 19, 19, 19, 19, 21, 19, 21, 20, 19, 21, 21, 22, 20, 22, 21, 11, 11, 11, 11, 14, 14, 13, 13, 17, 17, 17, 17, 17, 17, 16, 16, 17, 17, 17, 16, 17, 17, 16, 17, 16, 17, 16, 17, 17, 16, 16, 17, 16, 17, 17, 14, 14, 14, 14, 14, 14, 16, 17, 17, 17, 17, 16, 17, 17, 17, 16, 19, 19, 18, 18, 19, 20, 19, 17, 21, 19, 19, 19, 18, 19, 21, 19, 20, 15, 17, 18, 15, 18, 18, 15, 18, 18, 18, 16, 16, 15, 15, 15, 16, 16, 15, 16, 15, 16, 15, 15, 16, 15, 15, 16, 16, 12, 11, 12, 12, 12, 12, 22, 22, 22, 17, 21, 21, 23, 23, 22, 23, 23, 23, 23, 16, 16, 15, 16, 17, 15, 15, 15, 15, 15, 15, 15, 15, 15, 31, 31, 26, 26, 31, 31, 22, 23, 23, 22, 23, 23, 23, 22, 23, 23, 23, 23, 22, 23, 22, 23, 23, 23, 25, 25, 23, 23, 23, 22, 22, 22, 22, 23, 25, 23, 23, 23, 23, 15, 15, 15, 18, 15, 15, 15, 17, 15, 15, 17, 15, 15, 15, 15, 15, 19, 16, 18, 19, 15, 21, 19, 16, 17, 17, 15, 16, 15, 16, 16, 19, 17, 18, 19, 18, 19, 18, 18, 18, 19, 18, 19, 17, 17, 18, 19, 18, 19, 18, 18, 19, 19, 19, 19, 19, 17, 19, 18, 19, 19, 19, 18, 18, 17, 17, 19, 19, 18, 18, 18, 19, 18, 18, 18, 19, 19, 19, 17, 19, 19, 18, 19, 18, 19, 19, 19, 17, 19, 18, 19, 18, 18, 19, 19, 20, 20, 20, 20, 20, 20, 11, 12, 16, 16, 16, 16, 16, 16, 16, 16, 16, 16, 16, 16, 16, 16, 16, 16, 16, 16, 23, 23, 23, 23, 23, 23, 23, 23, 23, 23, 23, 23, 23, 23, 27, 27, 29, 28, 28, 28, 27, 22, 20, 22, 22, 20, 22, 20, 22, 20, 22, 20, 22, 22, 22, 20, 22, 20, 22, 20, 20, 20, 21, 20, 21, 21, 20, 21, 21, 20, 15, 16, 16, 15, 15, 16, 16, 15, 16, 16, 16, 19, 17, 16, 21, 17, 17, 17, 16, 17, 20, 17, 17, 20, 20, 20, 17, 17, 17, 20, 17, 20, 20, 20, 21, 20, 21, 20, 21, 21, 21, 21, 20, 20, 21, 20, 21, 21, 20, 20, 20, 20, 20, 20, 20, 20, 20, 12, 13, 12, 13, 12, 13, 13, 12, 12, 12, 13, 12, 13, 12, 13, 12, 13, 12, 13, 12, 13, 12, 12, 12, 13, 12, 15, 15, 15, 15, 15, 15, 15, 15, 15, 18, 20, 18, 18, 20, 17, 20, 20, 18, 18, 17, 20, 18, 20, 20, 20, 20, 17, 18, 20, 18, 18, 20, 21, 24, 21, 21, 21, 24, 21, 21, 21, 21, 24, 21, 21, 24, 21, 24, 21, 24, 21, 21, 21, 17, 17, 16, 17, 17, 16, 17, 17, 16, 17, 12, 14, 17, 14, 13, 20, 20, 17, 17, 17, 17, 20, 20, 17, 17, 21, 17, 21, 17, 21, 17, 17, 17, 17, 17, 17, 17, 17, 17, 17, 17, 17, 17, 17, 17, 17, 17, 17, 17, 17, 16, 16, 16, 16, 16, 16, 16, 16, 20, 20, 20, 16, 20, 16, 20, 17, 16, 17, 20, 20, 20, 20, 16, 20, 17, 17, 17, 17, 17, 14, 14, 13, 13, 12, 13, 12, 13, 14, 14, 14, 14, 14, 13, 12, 14, 12, 13, 14, 14, 14, 14, 14, 14, 14, 14, 12, 14, 12, 12, 14, 12, 14, 14, 14, 14, 12, 14, 14, 12, 14, 14, 17, 16, 16, 16, 16, 16, 16, 16, 17, 16, 16, 17, 16, 17, 17, 15, 15, 15, 15, 15, 15, 15, 15, 15, 15, 15, 15, 15, 15, 15, 15, 15, 15, 26, 24, 24, 26, 24, 26, 26, 24, 24, 24, 26, 24, 26, 26, 24, 26, 24, 25, 24, 25, 24, 25, 16, 16, 16, 16, 16, 29, 29, 29, 29, 19, 22, 18, 20, 17, 19, 19, 17, 20, 20, 18, 18, 17, 20, 20, 21, 21, 22, 21, 19, 18, 20, 21, 20, 21, 18, 21, 20, 23, 20, 19, 21, 16, 17, 14, 17, 16, 14, 14, 17, 17, 21, 15, 17, 21, 14, 19, 16, 19, 19, 16, 16, 14, 14, 16, 19, 19, 15, 15, 15, 19, 19, 15, 19, 15, 19, 15, 19, 19, 22, 22, 22, 22, 22, 22, 22, 19, 19, 22, 22, 21, 22, 22, 21, 22, 19, 21, 22, 19, 22, 22, 18, 18, 22, 22, 23, 23, 23, 23, 22, 22, 23, 23, 21, 23, 20, 21, 20, 21, 20, 20, 26, 25, 25, 21, 24, 24, 25, 23, 23, 21, 25, 25, 24, 24, 26, 25, 14, 13, 13, 13, 13, 13, 13, 13, 13, 13, 15, 13, 13, 14, 13, 13, 13, 13, 13, 14, 13, 13, 13, 13, 13, 13, 13, 13, 13, 15, 13, 15, 13, 13, 13, 13, 13, 13, 13, 13, 13, 13, 14, 13, 13, 13, 14, 13, 13, 13, 13, 13, 13, 13, 13, 13, 13, 13, 13, 13, 15, 13, 15, 13, 13, 13, 14, 13, 13, 13, 13, 13, 13, 13, 13, 13, 13, 13, 15, 13, 13, 13, 13, 13, 13, 13, 13, 13, 13, 13, 13, 13, 13, 13, 15, 13, 13, 13, 13, 13, 14, 13, 13, 13, 13, 13, 13, 13, 15, 13, 13, 13, 13, 13, 13, 13, 13, 13, 13, 14, 13, 13, 13, 13, 13, 13, 13, 13, 15, 14, 13, 13, 13, 13, 13, 13, 13, 13, 13, 13, 16, 16, 16, 16, 16, 16, 16, 16, 15, 16, 16, 16, 16, 16, 16, 16, 16, 16, 16, 16, 16, 16, 16, 19, 19, 19, 19, 20, 18, 20, 21, 21, 21, 20, 20, 20, 20, 22, 22, 19, 20, 25, 19, 20, 25, 22, 20, 18, 20, 22, 25, 25, 18, 18, 25, 20, 23, 25, 25, 25, 16, 16, 18, 18, 13, 16, 15, 15, 15, 15, 12, 15, 15, 13, 15, 15, 15, 24, 28, 28, 28, 24, 24, 26, 26, 28, 26, 24, 24, 28, 27, 24, 27, 27, 26, 24, 24, 28, 27, 25, 25, 28, 27, 27, 25, 27, 25, 16, 16, 17, 17, 17, 16, 17, 17, 17, 17, 17, 17, 17, 16, 17, 17, 17, 17, 17, 17, 17, 17, 20, 18, 18, 19, 19, 19, 20, 20, 18, 20, 19, 18, 20, 19, 18, 18, 20, 19, 20, 20, 18, 20, 18, 20, 20, 19, 20, 16, 17, 17, 16, 17, 17, 16, 16, 16, 16, 17, 17, 21, 21, 21, 21, 21, 21, 21, 21, 21, 21, 21, 21, 21, 21, 17, 17, 17, 18, 18, 18, 18, 17, 17, 31, 31, 31, 31, 31, 27, 31, 31, 27, 31, 31, 31, 31, 31, 31, 31, 31, 31, 31, 27, 31, 26, 31, 26, 31, 31, 27, 31, 26, 27, 31, 31, 26, 26, 21, 21, 20, 20, 26, 21, 21, 18, 18, 20, 20, 20, 20, 20, 20, 20, 20, 20, 20, 20, 20, 17, 17, 17, 17, 16, 18, 16, 17, 17, 18, 17, 18, 17, 17, 16, 16, 18, 16, 18, 17, 19, 17, 17, 21, 19, 21, 21, 17, 17, 20, 17, 20, 17, 18, 18, 20, 17, 20, 18, 17, 20, 18, 20, 17, 22, 22, 22, 22, 22, 22, 22, 23, 22, 18, 22, 23, 22, 19, 21, 27, 21, 21, 19, 21, 27, 27, 19, 21, 21, 20, 19, 18, 20, 19, 19, 20, 24, 19, 18, 15, 18, 15, 23, 18, 18, 18, 23, 15, 18, 15, 19, 18, 18, 18, 18, 27, 27, 27, 27, 27, 27, 22, 22, 22, 22, 22, 22, 22, 22, 22, 22, 17, 17, 22, 17, 17, 17, 24, 24, 17, 17, 24, 18, 22, 22, 24, 17, 24, 24, 17, 18, 18, 22, 24, 17, 17, 18, 22, 18, 22, 18, 17, 22, 18, 22, 19, 19, 17, 17, 20, 17, 23, 23, 20, 17, 19, 20, 20, 22, 23, 23, 20, 20, 20, 23, 18, 17, 17, 18, 24, 17, 18, 24, 23, 19, 19, 23, 19, 19, 23, 23, 19, 23, 16, 16, 22, 20, 22, 20, 20, 22, 20, 22, 22, 22, 22, 20, 20, 22, 20, 17, 27, 27, 27, 27, 27, 27, 27, 27, 27, 27, 17, 17, 15, 15, 15, 15, 16, 16, 16, 15, 15, 16, 16, 15, 15, 15, 15, 16, 15, 15, 15, 16, 15, 15, 16, 15, 16, 16, 16, 15, 16, 15, 15, 15, 16, 16, 16, 16, 16, 16, 16, 16, 16, 16, 16, 16, 16, 16, 16, 16, 16, 16, 16, 16, 16, 15, 15, 15, 16, 16, 16, 16, 16, 16, 15, 15, 16, 15, 17, 16, 17, 16, 17, 17, 16, 16, 18, 19, 19, 18, 19, 18, 15, 16, 16, 15, 16, 15, 16, 15, 16, 15, 15, 16, 16, 16, 15, 15, 15, 15, 16, 15, 16, 17, 18, 18, 16, 17, 17, 18, 16, 18, 18, 18, 18, 17, 16, 17, 16, 18, 17, 18, 17, 18, 17, 17, 16, 16, 18, 18, 23, 25, 25, 29, 29, 25, 25, 23, 26, 30, 30, 23, 23, 26, 30, 30, 30, 30, 30, 30, 30, 30, 30, 30, 30, 30, 30, 30, 30, 30, 30, 30, 30, 30, 30, 30, 11, 20, 20, 20, 20, 20, 20, 20, 20, 20, 20, 20, 20, 15, 16, 15, 15, 14, 16, 16, 16, 15, 15, 15, 14, 15, 15, 14, 15, 16, 16, 16, 16, 16, 16, 15, 14, 15, 16, 15, 16, 16, 16, 15, 16, 16, 15, 16, 16, 17, 17, 17, 19, 18, 19, 19, 18, 19, 15, 15, 15, 15, 22, 19, 17, 22, 17, 17, 17, 22, 17, 16, 16, 16, 16, 16, 16, 16, 17], \"z\": [46135, 40650, 36350, 29450, 34500, 31200, 44100, 39300, 36900, 37200, 39600, 31500, 44400, 37200, 31500, 48250, 43550, 2000, 2000, 2000, 2000, 2000, 27495, 24995, 28195, 32850, 38650, 48750, 34850, 40650, 44150, 32850, 46150, 50750, 46450, 49050, 51050, 44450, 38950, 33150, 35150, 40950, 25170, 23950, 29370, 21995, 26625, 30825, 21995, 27795, 31785, 29905, 22490, 27570, 25690, 24490, 29905, 31785, 26685, 22490, 25690, 30900, 27795, 21995, 24490, 2000, 2000, 2000, 2000, 2000, 2000, 2000, 2000, 2073, 3713, 3520, 3910, 4182, 4107, 4299, 4693, 4107, 16020, 14530, 16860, 15370, 17050, 15560, 16210, 14720, 17050, 15560, 16210, 14720, 47250, 41850, 41850, 43000, 49200, 49650, 43950, 41950, 50150, 37500, 43750, 39500, 39500, 34950, 45750, 37500, 32950, 41850, 47800, 38350, 40350, 38350, 42650, 33150, 35150, 44150, 45800, 38750, 35450, 33450, 40750, 42250, 42950, 49900, 47900, 44450, 3941, 3295, 6008, 6710, 3701, 4671, 5306, 7600, 4090, 37570, 31695, 38070, 44895, 35070, 42395, 34195, 40570, 38095, 35595, 45190, 32260, 37755, 41055, 36090, 42690, 38555, 35255, 38590, 34760, 41135, 45270, 38670, 38635, 36170, 38175, 32340, 42770, 34840, 35675, 32065, 28540, 32315, 28885, 29185, 32615, 2847, 2488, 2683, 2553, 3049, 2774, 2702, 3101, 3510, 3107, 3624, 3185, 2000, 36550, 41250, 30600, 37100, 27900, 32700, 40250, 35550, 36100, 33200, 37900, 29600, 38070, 38900, 33840, 38630, 39630, 37740, 41980, 36280, 36740, 40980, 38680, 28510, 30210, 31210, 33340, 37280, 41570, 36870, 42570, 37870, 39220, 40220, 46790, 48100, 29990, 41820, 31290, 34870, 33570, 46570, 37970, 37070, 49400, 45270, 39270, 45490, 41990, 38370, 43290, 41820, 48100, 43290, 39270, 34870, 41990, 38370, 45270, 45490, 29990, 46570, 46790, 49400, 37070, 31290, 37970, 33570, 37970, 38370, 34870, 29990, 45490, 41990, 45270, 33570, 48100, 39270, 46570, 49400, 37070, 41820, 46790, 43290, 31290, 25045, 26095, 23795, 19595, 18445, 23845, 25395, 24895, 25545, 24295, 19495, 20095, 19995, 21145, 23245, 16945, 24345, 20645, 18945, 26595, 22745, 17995, 22545, 21095, 25495, 20745, 24295, 23595, 21795, 17845, 26495, 24745, 18895, 19595, 23245, 18545, 25795, 20045, 25445, 24795, 21495, 17845, 23145, 24195, 20145, 24945, 23895, 19095, 23445, 18895, 22245, 22395, 20445, 42300, 40300, 40300, 42300, 45800, 47800, 43650, 49950, 47950, 41650, 48300, 50300, 43950, 41950, 56900, 46250, 50750, 42750, 48750, 48250, 42750, 50750, 40750, 54900, 48750, 40750, 52000, 50000, 41850, 50150, 41850, 58950, 43850, 48150, 56950, 50300, 52300, 50500, 44150, 42150, 59300, 57300, 48500, 63900, 68400, 53900, 55900, 65900, 41365, 35740, 37615, 34695, 35725, 43400, 32820, 38645, 37825, 43620, 36115, 35950, 33210, 38855, 41585, 35085, 41310, 36690, 44360, 39595, 41850, 42325, 35885, 38565, 36915, 34010, 60700, 71400, 63000, 69100, 63200, 72500, 60900, 63200, 60900, 72500, 67200, 57900, 57100, 52250, 59400, 64900, 49950, 55600, 57350, 58150, 55850, 52500, 50200, 68600, 66300, 59650, 26595, 18700, 19700, 22800, 24700, 22495, 17495, 20345, 17700, 20400, 16845, 26695, 21295, 20395, 17745, 22575, 24495, 16995, 20395, 19700, 17900, 21395, 19995, 19390, 17485, 20885, 21490, 15990, 19345, 23095, 24695, 21695, 20695, 21880, 23395, 24795, 20795, 19495, 23695, 20995, 22995, 24635, 25135, 29235, 23335, 22735, 27035, 20000, 27335, 25235, 27035, 25135, 25235, 23890, 23335, 19995, 24470, 20940, 19940, 22070, 20140, 24670, 21140, 22270, 24770, 22370, 21240, 2080, 2234, 2000, 2146, 22935, 19935, 20935, 18735, 19985, 18785, 21885, 24895, 22895, 23845, 21190, 29895, 22995, 24995, 21495, 30195, 23945, 30695, 21945, 24195, 22995, 25245, 74000, 53900, 66300, 4784, 5680, 6693, 2000, 2000, 2000, 2000, 2000, 2000, 2000, 2000, 2000, 2000, 2000, 2000, 2000, 2000, 2000, 2000, 2000, 2000, 2000, 2000, 2000, 2000, 2091, 2000, 2000, 2000, 26255, 26975, 26950, 22990, 26950, 22990, 28900, 44080, 46080, 37115, 39490, 34340, 44080, 40840, 31180, 32395, 34340, 34975, 37115, 34975, 30250, 32395, 29830, 46080, 37810, 51330, 38305, 44885, 30360, 42130, 43605, 31790, 35315, 37140, 34150, 44455, 36395, 47345, 32395, 28900, 30330, 39990, 38115, 45080, 35340, 36975, 37020, 28900, 38115, 32395, 39990, 30330, 37020, 35340, 36975, 45080, 37250, 35875, 33380, 40245, 48010, 39400, 43270, 39650, 38380, 40765, 42000, 49165, 38525, 49565, 43435, 48030, 39190, 41190, 42770, 40400, 46530, 49105, 42615, 45345, 2000, 2000, 2000, 2000, 2122, 2000, 2145, 2084, 2063, 2172, 2000, 2000, 2000, 2000, 2000, 2000, 2000, 2000, 2000, 2000, 2000, 2000, 2078, 2000, 2000, 2000, 2117, 2000, 2115, 2000, 2000, 2268, 2000, 2000, 2000, 2000, 2000, 2000, 2000, 7419, 9400, 2000, 2000, 2000, 2000, 2000, 2000, 2000, 2000, 2000, 2000, 2000, 2000, 2000, 2000, 2000, 2000, 4191, 4878, 4723, 5576, 33200, 44050, 29900, 41650, 38150, 35750, 47050, 38350, 35600, 38600, 41150, 32450, 34200, 39600, 37700, 43050, 39300, 36600, 39750, 45450, 48450, 34400, 43100, 36900, 33600, 30900, 40100, 42300, 43150, 40150, 37450, 37600, 34450, 40300, 49250, 43550, 31200, 40850, 46550, 34200, 51400, 44000, 47000, 45000, 39700, 43800, 35500, 38500, 37600, 36400, 42900, 37600, 37000, 38000, 38000, 35900, 40100, 39100, 37300, 34900, 48000, 43200, 41100, 45900, 39400, 38700, 37850, 42350, 43800, 41500, 47900, 50200, 40500, 42800, 41200, 48600, 42200, 58700, 50450, 44800, 60100, 48350, 56300, 46900, 62500, 52100, 49900, 46200, 59500, 61600, 57400, 63700, 48400, 53800, 61600, 67600, 58600, 49800, 47600, 65900, 69750, 68300, 72150, 70400, 68300, 73050, 70950, 68800, 71350, 43850, 45850, 33975, 40820, 42820, 42095, 44095, 38555, 47690, 35975, 49690, 36555, 36755, 44295, 42295, 30975, 36175, 49890, 41020, 34175, 47890, 38755, 43020, 38350, 43750, 35070, 32450, 37070, 41450, 34450, 29070, 44920, 46920, 41750, 17395, 14895, 15645, 16095, 14645, 16395, 14745, 14995, 15745, 17495, 16495, 16195, 15745, 17495, 16195, 16495, 14745, 14995, 2000, 2000, 34020, 36220, 29670, 34770, 32570, 29990, 32890, 36540, 34340, 35090, 30775, 32270, 32550, 23775, 26300, 30195, 25450, 32550, 24665, 25030, 30270, 25830, 28495, 30495, 30775, 22105, 28420, 33630, 24625, 23865, 22905, 32745, 28670, 26850, 25065, 30745, 27380, 34680, 27850, 24725, 24265, 26380, 30845, 25580, 23005, 23875, 28845, 26065, 26000, 25725, 24005, 31025, 34225, 33025, 22205, 31025, 30670, 26215, 24025, 30995, 22355, 34830, 26150, 32895, 25215, 27530, 28820, 24155, 34375, 30895, 33175, 31175, 27000, 28000, 24415, 28995, 30820, 31175, 25875, 26530, 23155, 26215, 25730, 25415, 24875, 2000, 2000, 2000, 2000, 2000, 61400, 61900, 62100, 17049, 16349, 15949, 13449, 15449, 17349, 15649, 16849, 15149, 16049, 16549, 17849, 14349, 17549, 16599, 15499, 15999, 14099, 16099, 15299, 14599, 16999, 17099, 14999, 16199, 15099, 14299, 16299, 17199, 15299, 16199, 22395, 21080, 19605, 21080, 17805, 17805, 19855, 22145, 21585, 18085, 21585, 20035, 22935, 22685, 18085, 20035, 23335, 18485, 21985, 20435, 18485, 20435, 23085, 21985, 39950, 41000, 46950, 39950, 39950, 40250, 47250, 40250, 40700, 43300, 49200, 44500, 42400, 49800, 42700, 44800, 22560, 28150, 31950, 22300, 29830, 32350, 26450, 24720, 32090, 27390, 22500, 22900, 24470, 25460, 28570, 27990, 32690, 25460, 22500, 32690, 22900, 27990, 24470, 28570, 25495, 25495, 26045, 37590, 52860, 42680, 45580, 42890, 49960, 50780, 53680, 43810, 46500, 49880, 43600, 38510, 52780, 49650, 57590, 60490, 52550, 44900, 47800, 30935, 33810, 32905, 35780, 45270, 37115, 34730, 22050, 24450, 25195, 22695, 22930, 25430, 25690, 23690, 26195, 24195, 24430, 26430, 48165, 50165, 37995, 40445, 46935, 51435, 45150, 47095, 48205, 47750, 50325, 41920, 44935, 44520, 47605, 41920, 48675, 48715, 45445, 45150, 40445, 47750, 47445, 50675, 37995, 51945, 44520, 50835, 43395, 37595, 39995, 49495, 41395, 46995, 48995, 62665, 60465, 62895, 60695, 41340, 39340, 33215, 45615, 47615, 44660, 46715, 37245, 41340, 46660, 48715, 44660, 35245, 42660, 37340, 43340, 41340, 46110, 45155, 39340, 47155, 43155, 37245, 48110, 37340, 35245, 43340, 33215, 47210, 41340, 45155, 49210, 46995, 40395, 43995, 45995, 34595, 36595, 38395, 34794, 30619, 31615, 35085, 34725, 45815, 35725, 38830, 39405, 46195, 39350, 49500, 42455, 36300, 40195, 43245, 47000, 39850, 36800, 50305, 37170, 32285, 39980, 36080, 34140, 37050, 35850, 40450, 32650, 34400, 41050, 37650, 33250, 36450, 35000, 25995, 21495, 23995, 18995, 25695, 19795, 22595, 20595, 25795, 23295, 11965, 15365, 14100, 11965, 14100, 15365, 15365, 11965, 14100, 12115, 15365, 14250, 15365, 12115, 11965, 14250, 15365, 14100, 45125, 42175, 39485, 42435, 45705, 42755, 40290, 43240, 40635, 43585, 38200, 34000, 34100, 39300, 34100, 39300, 23820, 20870, 24190, 21275, 24445, 21530, 2179, 3323, 2915, 2756, 2692, 2930, 2717, 3033, 2713, 2432, 3514, 3696, 2593, 3538, 2870, 2211, 3206, 3119, 3214, 2853, 3221, 2493, 2946, 3011, 2857, 3229, 2801, 2637, 2961, 3107, 3394, 2689, 3768, 2350, 3289, 2413, 3928, 3579, 3032, 3190, 26590, 19675, 15535, 19040, 21430, 22045, 26590, 22045, 15535, 16060, 22150, 20030, 14990, 17225, 18485, 14545, 12345, 18360, 19340, 17545, 12495, 22085, 14695, 15125, 30695, 32395, 34195, 34295, 37695, 35895, 33895, 32295, 35895, 32295, 34195, 32395, 33895, 35695, 34295, 35695, 37695, 30695, 29995, 37295, 35495, 37295, 33495, 33495, 31995, 34495, 35495, 32495, 32495, 34495, 22795, 23995, 24995, 21995, 26295, 22345, 24345, 25345, 27245, 23145, 24595, 22495, 25595, 27495, 23295, 27295, 31795, 34895, 27295, 32755, 29395, 29395, 25170, 30495, 30695, 29395, 31195, 30695, 30755, 34895, 27295, 33795, 30095, 30495, 27295, 29395, 33795, 29395, 29995, 25170, 25170, 31795, 25170, 29395, 28895, 30295, 31995, 33995, 30195, 32595, 29595, 35095, 30425, 29595, 27475, 30895, 31125, 29675, 30995, 34875, 32595, 29895, 29095, 31395, 29895, 27475, 25595, 30425, 25595, 25995, 30995, 30895, 35975, 30775, 33995, 32225, 35975, 31495, 27995, 35095, 31995, 31495, 27995, 34875, 29790, 28070, 34950, 32670, 28070, 31570, 30500, 25995, 36050, 30890, 36050, 32670, 25490, 34950, 29790, 30890, 30500, 31570, 25490, 25995, 25895, 31625, 20195, 24185, 26985, 30525, 26195, 30525, 31625, 26195, 23085, 21795, 28115, 32475, 28675, 20695, 25450, 27710, 25450, 26550, 25885, 29215, 25095, 26430, 25885, 29625, 31375, 25095, 20695, 28525, 23085, 28810, 24705, 29215, 21795, 32475, 28115, 28675, 31375, 26550, 23605, 25330, 29775, 29775, 24705, 24185, 24795, 23605, 26985, 25995, 27095, 22450, 19795, 25975, 21350, 27095, 19595, 31450, 31450, 22450, 32550, 25975, 23995, 32550, 21350, 19795, 25995, 23995, 20475, 19995, 23995, 21890, 32550, 25975, 22450, 2000, 2000, 2000, 2000, 2000, 2000, 39030, 41675, 44580, 38625, 47885, 35980, 51785, 20745, 23745, 24695, 26695, 22845, 25230, 27230, 24055, 23255, 21055, 24305, 21305, 25480, 27480, 26695, 29670, 34020, 27185, 35270, 30035, 35585, 30350, 27965, 30995, 27995, 29995, 26245, 39995, 37995, 32995, 30995, 28295, 62100, 50400, 73500, 63300, 51400, 63900, 52100, 34745, 32215, 32660, 33395, 35345, 33920, 35870, 2000, 2000, 2000, 2000, 2000, 29490, 28795, 25695, 27695, 27395, 27690, 28495, 25395, 28745, 29695, 25495, 27645, 40400, 46050, 42575, 62950, 38400, 44050, 41050, 48590, 39050, 40575, 63900, 39400, 43125, 50800, 41125, 41275, 65250, 38950, 39275, 40950, 39850, 39500, 52000, 67000, 41675, 44650, 42650, 43675, 65200, 41500, 41850, 52900, 50900, 24700, 27100, 27450, 24950, 25500, 27850, 3555, 3996, 4330, 4472, 4661, 5739, 39950, 40450, 41200, 2631, 2837, 3137, 2473, 2568, 19600, 23175, 22300, 20475, 21475, 20600, 21475, 23175, 22300, 20600, 19600, 20475, 34900, 43800, 44090, 35990, 32990, 38990, 31990, 44390, 18740, 20555, 16880, 19995, 18060, 16975, 17995, 19995, 18620, 20585, 17380, 20585, 18585, 18730, 17380, 18765, 29205, 31205, 42405, 39505, 33505, 37305, 26005, 35105, 23705, 25145, 48300, 36800, 41300, 32700, 25700, 29800, 43300, 36300, 42905, 47905, 35605, 32600, 41905, 36905, 30405, 26600, 25905, 31905, 21855, 26940, 23355, 30210, 21025, 21860, 20360, 19530, 26405, 23405, 19930, 29460, 27190, 20760, 23030, 24530, 23905, 26905, 30460, 22260, 22200, 27440, 24155, 22450, 27155, 22510, 30710, 21010, 24780, 23280, 29710, 20180, 26150, 26150, 31370, 31370, 22970, 23840, 26310, 23840, 26310, 25715, 23070, 31370, 31370, 23070, 23840, 26310, 31370, 31370, 26310, 24685, 22385, 23040, 31790, 28610, 20840, 17490, 29145, 29125, 20455, 24435, 25305, 26485, 26470, 29730, 27935, 37250, 22650, 26595, 20995, 26725, 25205, 31650, 33855, 36950, 28535, 34310, 33420, 31145, 30055, 34010, 34280, 35020, 38110, 37810, 35665, 31540, 20955, 28595, 27385, 29245, 25865, 23310, 30765, 31855, 33460, 34720, 27305, 2000, 2000, 2000, 2000, 2000, 2000, 2000, 24155, 29615, 25770, 24940, 25145, 24360, 25975, 29495, 25985, 29505, 25155, 24370, 18380, 19835, 22225, 20130, 18630, 22520, 22995, 20555, 19055, 33065, 36065, 36065, 33065, 37065, 2066, 2103, 2241, 31305, 14230, 14030, 15730, 17030, 16830, 15530, 17410, 16105, 14435, 15905, 14235, 17610, 10135, 16290, 14610, 16090, 17510, 17710, 14410, 10325, 61700, 58300, 62300, 59600, 58900, 52600, 63800, 63800, 52600, 64100, 52600, 34275, 34095, 32995, 43575, 32995, 38085, 35375, 35375, 38085, 34095, 34275, 32670, 34655, 35755, 37820, 44355, 37820, 37820, 34475, 34475, 37820, 31570, 32670, 34655, 31570, 35755, 37820, 37820, 34475, 37820, 37820, 34475, 18140, 22005, 22705, 17340, 19535, 22935, 24810, 22235, 18370, 17570, 20335, 24110, 17670, 22335, 23035, 18470, 21235, 21815, 22040, 31995, 42595, 35795, 37995, 29995, 38795, 45695, 34995, 26995, 31995, 49195, 29995, 37995, 34995, 38995, 26995, 42795, 35995, 35890, 37995, 49195, 36890, 32890, 26995, 39890, 42795, 29995, 43995, 37390, 40140, 47995, 39995, 33595, 27995, 36595, 32995, 30995, 29995, 27995, 29995, 39995, 50995, 36895, 31995, 33895, 30245, 27995, 34790, 51145, 30245, 29995, 39890, 44995, 31995, 39995, 2000, 2000, 2000, 2000, 2000, 2000, 2050, 2052, 2116, 2000, 2000, 2000, 2107, 2202, 2373, 23515, 21955, 23515, 21955, 22405, 23515, 2000, 2000, 2033, 2000, 2213, 2108, 2410, 2142, 2322, 24340, 20040, 19990, 24590, 23090, 20390, 22890, 21190, 24390, 22840, 23290, 26740, 19290, 21190, 24140, 18290, 18490, 24590, 29390, 22640, 23090, 19090, 26125, 23425, 26500, 22300, 18640, 22040, 22200, 21040, 20850, 24700, 19050, 19440, 23700, 23200, 20440, 24700, 19850, 19700, 21300, 25300, 22800, 20500, 22100, 26225, 23525, 21500, 20540, 18740, 20950, 22400, 19540, 21140, 19150, 22140, 19950, 21600, 2949, 2992, 2529, 2580, 2668, 2583, 2637, 2517, 3046, 2265, 3046, 2896, 2891, 2713, 3120, 2653, 2541, 2486, 2268, 2207, 2925, 2242, 2554, 3088, 2749, 3220, 2996, 2366, 3265, 3676, 3427, 3470, 2898, 2920, 2580, 3357, 2996, 2883, 3094, 2885, 3419, 2668, 2789, 3321, 3342, 3025, 2653, 2740, 2639, 3067, 2817, 3350, 3282, 2430, 3696, 4098, 2949, 3345, 3034, 2697, 3360, 3068, 3090, 2847, 31500, 33500, 48500, 32050, 49500, 34050, 32400, 34400, 49950, 29980, 27980, 28030, 30030, 32700, 30550, 30350, 28200, 30550, 19505, 19690, 54200, 46200, 62900, 54900, 46450, 55150, 63200, 54500, 56100, 64800, 56800, 48100, 73200, 65990, 68490, 66900, 69400, 14410, 15120, 22335, 14410, 19695, 15120, 19695, 16460, 15660, 23425, 15660, 23425, 14990, 14990, 16460, 15670, 24535, 14990, 16470, 14990, 16470, 15670, 28340, 29480, 23030, 20980, 30320, 26160, 27490, 22955, 19730, 24440, 17475, 24285, 26620, 20370, 27010, 28460, 29220, 29550, 25850, 28630, 27110, 24330, 26885, 30005, 34415, 21775, 32085, 30785, 32385, 34115, 25170, 20120, 27630, 29705, 31555, 30665, 32895, 35000, 30365, 28515, 33195, 30030, 20100, 32440, 31670, 26510, 30435, 27545, 24990, 35300, 27920, 22435, 25980, 29440, 2000, 2000, 2000, 2000, 2000, 2000, 2000, 2000, 2000, 2000, 2000, 25520, 22790, 28415, 23180, 25910, 28805, 23480, 26210, 29105, 39660, 39895, 38185, 38790, 39775, 44560, 46560, 49515, 47515, 18750, 19490, 18965, 18965, 19665, 19895, 17550, 16950, 21495, 22025, 22955, 19195, 22725, 18565, 19135, 19135, 20065, 17300, 23125, 21665, 22195, 19835, 20635, 22895, 17900, 18735, 19365, 22680, 21300, 18500, 21665, 19335, 21900, 21825, 18935, 20445, 2000, 2000, 2000, 53000, 57000, 62000, 58000, 68160, 64160, 63160, 64000, 55000, 73450, 64450, 69450, 60000, 59000, 68450, 59160, 70145, 65145, 68855, 59855, 64400, 63855, 59400, 60400, 64855, 69145, 55400, 59905, 65195, 59450, 55450, 70195, 68905, 65450, 69905, 69195, 63905, 69450, 60450, 73905, 64450, 64905, 26470, 23120, 30620, 29370, 24370, 29120, 29820, 28570, 25220, 27870, 32895, 23445, 30895, 25545, 29395, 24695, 26795, 28145, 31645, 29645, 27295, 31245, 32095, 25845, 28445, 29945, 25045, 24545, 25995, 33395, 23745, 29745, 19995, 23340, 21840, 21990, 23490, 20145, 22140, 24440, 20295, 29145, 38545, 49470, 34195, 45170, 34185, 38955, 34595, 29510, 34560, 39130, 34735, 33540, 37090, 30890, 33015, 35640, 27230, 34990, 30915, 33690, 33165, 31065, 27380, 35790, 35140, 37240, 31040, 33315, 37390, 35940, 31190, 31215, 35290, 27530, 33840, 26395, 22395, 25095, 23395, 21595, 29995, 22495, 23495, 25195, 21695, 20195, 17845, 24370, 23370, 19165, 21470, 16120, 20195, 18970, 16170, 23270, 20095, 17745, 20095, 24270, 18870, 19065, 21370, 19120, 18120, 16620, 21120, 19820, 23120, 21920, 21240, 21450, 16975, 18525, 23475, 20150, 19525, 23945, 58395, 67570, 60395, 55495, 63570, 53495, 64395, 64395, 63595, 53495, 60395, 58395, 67595, 55495, 40615, 48150, 38715, 43950, 45850, 50050, 40805, 43950, 50050, 45850, 38905, 48150, 39495, 49995, 47995, 45795, 41495, 43795, 39015, 44190, 40915, 44050, 51650, 42150, 49750, 46090, 44190, 42150, 41105, 49750, 46090, 39205, 51650, 44050, 49795, 44095, 42195, 46095, 44195, 51695, 54970, 51270, 53270, 62070, 63770, 61770, 69340, 47345, 59370, 45345, 55670, 57670, 60070, 52970, 57370, 59340, 58285, 45560, 60685, 59955, 51285, 69955, 53285, 60285, 53285, 62685, 58285, 64685, 62685, 56285, 55285, 47560, 61195, 51695, 70795, 47995, 55695, 59195, 53695, 53695, 60695, 45995, 14980, 18680, 16580, 17580, 16760, 18860, 17760, 19000, 16900, 17900, 2000, 2000, 2000, 2000, 2000, 2000, 2000, 2000, 2000, 2000, 2000, 2000, 2000, 2000, 2079, 2045, 2148, 19960, 21960, 26240, 23210, 21210, 24990, 24990, 19960, 21960, 23210, 26240, 21210, 22795, 24045, 24815, 26065, 29070, 21395, 27820, 27970, 29220, 26215, 21545, 24965, 22945, 24195, 24395, 21795, 26465, 24445, 21795, 23195, 24895, 29870, 28570, 29470, 25215, 25215, 23595, 28220, 26515, 25950, 27650, 31335, 33035, 21700, 22490, 33340, 31640, 21990, 27955, 22795, 26390, 26255, 26455, 31840, 26590, 22995, 28155, 33540, 22190, 31575, 29985, 32480, 36625, 35035, 34070, 35035, 36625, 31575, 34070, 32480, 29985, 35970, 33320, 41970, 40170, 31520, 44015, 37770, 26170, 27780, 22030, 27625, 25245, 26280, 27625, 24720, 30155, 30780, 23640, 25395, 28580, 26590, 24010, 30510, 26120, 22030, 26920, 26540, 32135, 24010, 27935, 22505, 26280, 24985, 26935, 30760, 28520, 29095, 20470, 20995, 28630, 31630, 23710, 25260, 29355, 31045, 23710, 29355, 27960, 30155, 28210, 27960, 26405, 29985, 26810, 27315, 26405, 22560, 26325, 27880, 25305, 28255, 23630, 27005, 23630, 29275, 22755, 33180, 27880, 29275, 31365, 26325, 30180, 16495, 18595, 22995, 19995, 20995, 21645, 19000, 20495, 23795, 16495, 19495, 18995, 19395, 17995, 24395, 19595, 16995, 21095, 22095, 20995, 21595, 27736, 30709, 36931, 39669, 49150, 49150, 44400, 50750, 50750, 45600, 51600, 46430, 46045, 51600, 28447, 26997, 25687, 25997, 28447, 27097, 24999, 26819, 27619, 2561, 36350, 33350, 34350, 33350, 37150, 37070, 45570, 41570, 41955, 45955, 37455, 46595, 42195, 37695, 34350, 40350, 38350, 38685, 40685, 34330, 51460, 46280, 49730, 54230, 49230, 47625, 46280, 51525, 54425, 59475, 59875, 51925, 54825, 46680, 36895, 42495, 39495, 40995, 33095, 43595, 39995, 30495, 41995, 39595, 30495, 43895, 33095, 44595, 42390, 36995, 41295, 44990, 37495, 42490, 40095, 42095, 29995, 44695, 41395, 43995, 45090, 32595, 55850, 53350, 57100, 54800, 59000, 54300, 67750, 52300, 52300, 64850, 54300, 59400, 61350, 51800, 59000, 54800, 51800, 62350, 63100, 59900, 59900, 55150, 53100, 65600, 53100, 55600, 54200, 60300, 62250, 55150, 55600, 68700, 52650, 52650, 56700, 62600, 54650, 54650, 57050, 52150, 52150, 54550, 60650, 69100, 5878, 6120, 10775, 11575, 10245, 11045, 10885, 11685, 11155, 10355, 10985, 11255, 11785, 10455, 27799, 32599, 32599, 27999, 28299, 32599, 27999, 24699, 20699, 29089, 21699, 28089, 24699, 19999, 18999, 29089, 19499, 20499, 24699, 29089, 24699, 2000, 2000, 2000, 2000, 2000, 2000, 2000, 2000, 2000, 2000, 2000, 2098, 2210, 2107, 2320, 18595, 18595, 19895, 20895, 20895, 17595, 19600, 19600, 19800, 18800, 18800, 19800, 18800, 19800, 17195, 19795, 15995, 18995, 15995, 19495, 17195, 20295, 17195, 15995, 19495, 20295, 22600, 21700, 18250, 17250, 22600, 21600, 21700, 21250, 18250, 21250, 21700, 20250, 17250, 21700, 19700, 18150, 22350, 18150, 17150, 22350, 22750, 21650, 20250, 2905, 3257, 44011, 40436, 47660, 45265, 42130, 22785, 25770, 23270, 23585, 20275, 24085, 25285, 21475, 24070, 22385, 23885, 22635, 24335, 25585, 20525, 21775, 24320, 24185, 22075, 20825, 22935, 43995, 54990, 47250, 47250, 54990, 51845, 54990, 57950, 49305, 39050, 43450, 45450, 47305, 43660, 49515, 39065, 47515, 45660, 39065, 45765, 47625, 43765, 49625, 29450, 27655, 25565, 29435, 27950, 24065, 26155, 30935, 31285, 25565, 28300, 29785, 28850, 24065, 27350, 29800, 26355, 27855, 31965, 26865, 30565, 25565, 27065, 28365, 30465, 24365, 25865, 29065, 29099, 29099, 27599, 27599, 29999, 31499, 27999, 28299, 32099, 33599, 26395, 28895, 23895, 29895, 23995, 42070, 44710, 39570, 44960, 35870, 42320, 37720, 37720, 33570, 38120, 31320, 35870, 33810, 36060, 38160, 31945, 40235, 29695, 33160, 37600, 29630, 30910, 35350, 27380, 36115, 29780, 33865, 32030, 32960, 26760, 30770, 34990, 28950, 37190, 34020, 27980, 37105, 34970, 30115, 31885, 35615, 36535, 30625, 32760, 38670, 33480, 38325, 42095, 35595, 39545, 42745, 36145, 31995, 22075, 25645, 24775, 28850, 30900, 17520, 25125, 23245, 27825, 18825, 25979, 25279, 28279, 17595, 29150, 22479, 19299, 17899, 28699, 25699, 22799, 29550, 26299, 26270, 26170, 27920, 28170, 31920, 33670, 24520, 22120, 29920, 22600, 31490, 29740, 26960, 28200, 25210, 26450, 25510, 27260, 26750, 23100, 31790, 30040, 28500, 61250, 68500, 61500, 68750, 68750, 61500, 31505, 31505, 31725, 31725, 32175, 32300, 37700, 40440, 38100, 38900, 67350, 69740, 62160, 69640, 63060, 67250, 69640, 63060, 67250, 73850, 71695, 72970, 72970, 73395, 2000, 2000, 2000, 2000, 14199, 16499, 15499, 14999, 16699, 15699, 13699, 15799, 13199, 14699, 15899, 14199, 14899, 14699, 13999, 14499, 15199, 13299, 16799, 14799, 14299, 13799, 14799, 16599, 15299, 14299, 15799, 27700, 26200, 26200, 27700, 26200, 27700, 64000, 65500, 66800, 68300, 68750, 69980, 31900, 36850, 33300, 35450, 35200, 37400, 36000, 33800, 33800, 37400, 35200, 36000, 2000, 2000, 2000, 65690, 65690, 65690, 70750, 35200, 36600, 37400, 38800, 38100, 37200, 35800, 39500, 36900, 38300, 39250, 40650, 2000, 2000, 2000, 2000, 2000, 2000, 2000, 32760, 27710, 34525, 34160, 30970, 36030, 31865, 32190, 34485, 35915, 36700, 36355, 34015, 37500, 32990, 35285, 36715, 34815, 37155, 4677, 6175, 8548, 9567, 5844, 24035, 25475, 31215, 18855, 27145, 32095, 25995, 28025, 20050, 26965, 15650, 17560, 17800, 15890, 17900, 15990, 27705, 27295, 26115, 27030, 28620, 28210, 29270, 27680, 28860, 2000, 2000, 2158, 16699, 13799, 14499, 15099, 15999, 15399, 14699, 15799, 16349, 14899, 15399, 15099, 16499, 15449, 13999, 14349, 16049, 14499, 14949, 15999, 16949, 15249, 15849, 15599, 15589, 16489, 17689, 16989, 16089, 16789, 14489, 15889, 14989, 15389, 33095, 25095, 24595, 28095, 30095, 22195, 28495, 23195, 28795, 25295, 23395, 29195, 22395, 33795, 25795, 30795, 34295, 25995, 29295, 25495, 29195, 31295, 23595, 22595, 19590, 19390, 18590, 20890, 21890, 17490, 15890, 19690, 20590, 21590, 20690, 15990, 21990, 21690, 18090, 20390, 19890, 17700, 20990, 19990, 17500, 19200, 21200, 16490, 18090, 25890, 23690, 21990, 24700, 28500, 27400, 25800, 31090, 26000, 24900, 29990, 25305, 30610, 29510, 26405, 24975, 26370, 31575, 27775, 26330, 28330, 25330, 26830, 26830, 32560, 20660, 25510, 34010, 31510, 32560, 25860, 26450, 23020, 27240, 17990, 30550, 24190, 23750, 28050, 21970, 31360, 24540, 25400, 25350, 23610, 28560, 26310, 22700, 35260, 24630, 27630, 31750, 26750, 25840, 32890, 24050, 31840, 24960, 26640, 35590, 23000, 32080, 34360, 28380, 25680, 23940, 24520, 31690, 28910, 35610, 18290, 23230, 34340, 28890, 31710, 27960, 20960, 22180, 25750, 32340, 27320, 26470, 27650, 29170, 18390, 22160, 24950, 26630, 33390, 35160, 28750, 23910, 32580, 29700, 36410, 25200, 23900, 24620, 32510, 22860, 39550, 38050, 42150, 43600, 42850, 44300, 49750, 49850, 50100, 58400, 59000, 44050, 42600, 57600, 43700, 59800, 52000, 45150, 53400, 44950, 61500, 46400, 50200, 45750, 58000, 51300, 46650, 61450, 47900, 52750, 38600, 43350, 48900, 40250, 50800, 37150, 51700, 37800, 49800, 40900, 39250, 44200, 45500, 42050, 40400, 53100, 51200, 41550, 44150, 39950, 35800, 37400, 32000, 40200, 35000, 33400, 44750, 41500, 36900, 33100, 38500, 41850, 46050, 45450, 36100, 40250, 34500, 37150, 34550, 32950, 2251, 2449, 22195, 21395, 24895, 24095, 22195, 21395, 33250, 33800, 33200, 31450, 31200, 33450, 33450, 33950, 34050, 31900, 31450, 32250, 32250, 34750, 32700, 33050, 46950, 54900, 44350, 37500, 36050, 39150, 50550, 40400, 43350, 33250, 36050, 43550, 37000, 34450, 35650, 36200, 34900, 33700, 33250, 34250, 43850, 35750, 38700, 37000, 35900, 43900, 36650, 14335, 14775, 18425, 19850, 15675, 16980, 20280, 30210, 26755, 23100, 26960, 18765, 20290, 23100, 28580, 19275, 24180, 28960, 24710, 22220, 32300, 20490, 21165, 29060, 24080, 28480, 24610, 31870, 21275, 41400, 54550, 43900, 29310, 26910, 31755, 28250, 37610, 21599, 23999, 21599, 23999, 21899, 24299, 29350, 32150, 26350, 32150, 34600, 29300, 33400, 27200, 27950, 26750, 34600, 33400, 29500, 26950, 34950, 28150, 29900, 33750, 35200, 47400, 51500, 38000, 40500, 41250, 38750, 53850, 69800, 70600, 71600, 63000, 64550, 65200, 63600, 63600, 65200, 31300, 33300, 48300, 49580, 32500, 34500, 49900, 32850, 34850, 38950, 40950, 39150, 41150, 65100, 69650, 64600, 51100, 52500, 53600, 65650, 52000, 54500, 25375, 25375, 24300, 24300, 24300, 25375, 24770, 24770, 25870, 25870, 26895, 25795, 26695, 24845, 26895, 25795, 27795, 24845, 27795, 26695, 23745, 23745, 37090, 39090, 38590, 38980, 39480, 37480, 37900, 39900, 39400, 68700, 26950, 32890, 30530, 25850, 29430, 29280, 32640, 24785, 28885, 26280, 25885, 30380, 29880, 27380, 30980, 27980, 29485, 31540, 25385, 30045, 26880, 31145, 27785, 26485, 28385, 30620, 26095, 25595, 29125, 31220, 27090, 27590, 31630, 24995, 30135, 31235, 32730, 29725, 28025, 26490, 30120, 28625, 26695, 29520, 28190, 35195, 25595, 27995, 34095, 26095, 26695, 31990, 30890, 24995, 29095, 39090, 36595, 36750, 38995, 35650, 37895, 36755, 35655, 39375, 40475, 31445, 22495, 21395, 29345, 26995, 25695, 29095, 24995, 27025, 29385, 22725, 21625, 22680, 27030, 21580, 29970, 19295, 21295, 17995, 24895, 20995, 27395, 22395, 20395, 20675, 27425, 19595, 22625, 18495, 25225, 20175, 19575, 21275, 20995, 22695, 21595, 19895, 22940, 21690, 17070, 21240, 22940, 21690, 18890, 17070, 23530, 22280, 23530, 21830, 19555, 22280, 23750, 22500, 20090, 30995, 27395, 21795, 24245, 28395, 25245, 25095, 22595, 28295, 31495, 26195, 29395, 29395, 26695, 32395, 23995, 24330, 27330, 21330, 28815, 24735, 21815, 22210, 29325, 23449, 24949, 19299, 22549, 22899, 21099, 23949, 21399, 25249, 22299, 19499, 22849, 23749, 23799, 25949, 22349, 19949, 24449, 2169, 2266, 2000, 2048, 2000, 2055, 2152, 2234, 2331, 2267, 53285, 45615, 46310, 53980, 38875, 38875, 43150, 45100, 55070, 48600, 57330, 50850, 50000, 54115, 50470, 50695, 54810, 50365, 56555, 3542, 3741, 3965, 47975, 51375, 52375, 60430, 61330, 63080, 53470, 54070, 55370, 26275, 31695, 24595, 25095, 27375, 31695, 29995, 29545, 27845, 31095, 28445, 27845, 25095, 24595, 28945, 23995, 27375, 29545, 29995, 23995, 25695, 26875, 30595, 30595, 27975, 26875, 28445, 25695, 26275, 28945, 31095, 27975, 29895, 29695, 30795, 25300, 24200, 25895, 30995, 30395, 24200, 28795, 25095, 28395, 27295, 28195, 31495, 28195, 24795, 26195, 31495, 24795, 32095, 25300, 27895, 30995, 29295, 29695, 26195, 32095, 26795, 25895, 25095, 26795, 28395, 27895, 29295, 27295, 30795, 30395, 29895, 28795, 26195, 29695, 25095, 30795, 31795, 32295, 31290, 49485, 61115, 50780, 62155, 51280, 62980, 46635, 47315, 47615, 39290, 30995, 39560, 33390, 43130, 41705, 41705, 33390, 38365, 35960, 30750, 36015, 39205, 30915, 36355, 35680, 33485, 20720, 25135, 18720, 24815, 19030, 21030, 20030, 18720, 26255, 19720, 19030, 18720, 19030, 19720, 47300, 49790, 47850, 50340, 50485, 47870, 34750, 31070, 44140, 38050, 41650, 42680, 32530, 29765, 33290, 36590, 40190, 34395, 38775, 30490, 42375, 44990, 33475, 43530, 32015, 40915, 35855, 37315, 22065, 23365, 20015, 25990, 21315, 24690, 19215, 21265, 22215, 23515, 20165, 26140, 24840, 19365, 21465, 21415, 2288, 2433, 2648, 2552, 31790, 29715, 28750, 29100, 30600, 15700, 29350, 31750, 29350, 27050, 34890, 29900, 29200, 31890, 32900, 27900, 32990, 29290, 31980, 34980, 27990, 29990, 26840, 25830, 30535, 26840, 25830, 30535, 26840, 30535, 25830, 34465, 27060, 35440, 30285, 29310, 27060, 35540, 30435, 27095, 29460, 27095, 35645, 28295, 29295, 36295, 37645, 34295, 25795, 29295, 28295, 25795, 28495, 29495, 34495, 25995, 36495, 25995, 37845, 28495, 29495, 21495, 23295, 20995, 20995, 22795, 19695, 18695, 18195, 22295, 21995, 19195, 18295, 21095, 22095, 21095, 21595, 19795, 23595, 19295, 18795, 22595, 23095, 18395, 18895, 21695, 21195, 24595, 24095, 22795, 21995, 19895, 23295, 19395, 22495, 18460, 19200, 2827, 3000, 2912, 3381, 3355, 2799, 3130, 3012, 3622, 3652, 3222, 7398, 3086, 22600, 21050, 19400, 20200, 21600, 21850, 21000, 22400, 24450, 20200, 22300, 27055, 20810, 22970, 24875, 21155, 25415, 25105, 21385, 2233, 2484, 2290, 22515, 26635, 24270, 28070, 24580, 23160, 37325, 37825, 42610, 42860, 43360, 35065, 37525, 36100, 38635, 36550, 41440, 39085, 43690, 31105, 31105, 29735, 39700, 40200, 46890, 47140, 47640, 39615, 41850, 40065, 42300, 43035, 40870, 61300, 61750, 63600, 2000, 2000, 2000, 2081, 2032, 2081, 2000, 25270, 26195, 24170, 29525, 27295, 27295, 28200, 24170, 26420, 27520, 29300, 25045, 29300, 26195, 28425, 28200, 23945, 27520, 28425, 25045, 23945, 25270, 29525, 26420, 24535, 30875, 28555, 29775, 28855, 27925, 27455, 30875, 25635, 29775, 27455, 28855, 25635, 24535, 26825, 28555, 27925, 29955, 29955, 26825, 24210, 21295, 28120, 24210, 21295, 20195, 20195, 28390, 29220, 25960, 26640, 25960, 25540, 27290, 21695, 21695, 29495, 20595, 28395, 26895, 20595, 28695, 24395, 26195, 26195, 24395, 27595, 25795, 20995, 27665, 30265, 29165, 26685, 24885, 22095, 26685, 20995, 26565, 24885, 22095, 29465, 28365, 22325, 29280, 23650, 25380, 26920, 20895, 26920, 28020, 30380, 29280, 30380, 16215, 28020, 17325, 20095, 23650, 18995, 22325, 20095, 25380, 18425, 19420, 18320, 18995, 21995, 22325, 23650, 29280, 19775, 25380, 28020, 26920, 18675, 26920, 23650, 21995, 18995, 20095, 20895, 17680, 28020, 18780, 30380, 30380, 29280, 25380, 28995, 21995, 20895, 18995, 17895, 24995, 27895, 2347, 2554, 2590, 2182, 2691, 2317, 2368, 2377, 2251, 2038, 2407, 2463, 2773, 2756, 2590, 2916, 2322, 2623, 2655, 2578, 26770, 22270, 25170, 31925, 19270, 22170, 30225, 28225, 33920, 28770, 29925, 33295, 33295, 27395, 28695, 26595, 23495, 29995, 25195, 20695, 31395, 31395, 27395, 26295, 26595, 33695, 28395, 31795, 30895, 20995, 24895, 29795, 20995, 33695, 26295, 29795, 31795, 30995, 26595, 27495, 28395, 24895, 25240, 28020, 30020, 26940, 20250, 22300, 24150, 22100, 27230, 24830, 24830, 22100, 28020, 22300, 24150, 26940, 30020, 20250, 27230, 25240, 28020, 24830, 30020, 27230, 26940, 24400, 22100, 20250, 22550, 25240, 2000, 2000, 41250, 42650, 59900, 54500, 49000, 61900, 54900, 21049, 22049, 24149, 27299, 23399, 24849, 23049, 25949, 22099, 25499, 18999, 23899, 25249, 27549, 22299, 23649, 25749, 24399, 18999, 26199, 25099, 20999, 22249, 27549, 26199, 22349, 25799, 21749, 23249, 28999, 19999, 27199, 35725, 31065, 40500, 39970, 33635, 38025, 38730, 34065, 40145, 38905, 35900, 33810, 40675, 38200, 31065, 36065, 38665, 43265, 32065, 41065, 37895, 34695, 38195, 34995, 37995, 34495, 38995, 21345, 18395, 18495, 21495, 21945, 18595, 17395, 29495, 20595, 21595, 20995, 18295, 18595, 20995, 17595, 23495, 22495, 19995, 21995, 20295, 21095, 18795, 17795, 22095, 2000, 2000, 2000, 2000, 2000, 2000, 2000, 2000, 26495, 29595, 26795, 23495, 21995, 23795, 21695, 21745, 26845, 29945, 23845, 22045, 27145, 24145, 31640, 23995, 21995, 25995, 28840, 2181, 2028, 2063, 2066, 2384, 2356, 2506, 2265, 2144, 2135, 2066, 25645, 31420, 26040, 32085, 26725, 32385, 72000, 2000, 2087, 28680, 2000, 36400, 41500, 38900, 36600, 39100, 41700, 36600, 39100, 41700, 48525, 54025, 45975, 49700, 59900, 54600, 69279, 60600, 50400, 55300, 50400, 55300, 60600, 4207, 4556, 5035, 55375, 56225, 56525, 72520, 72520, 72520, 36770, 43370, 36140, 39970, 32370, 43590, 32640, 36360, 36990, 40190, 39285, 2136, 2080, 2283, 2444, 2681, 2356, 40205, 32520, 29265, 35770, 33120, 35270, 30770, 34670, 35730, 30930, 34830, 33230, 32730, 42515, 29230, 35625, 36230, 29730, 35675, 33130, 44460, 2000, 2000, 2000, 2000, 2000, 2000, 2000, 2000, 2044, 2100, 18890, 3667, 4282, 65225, 67395, 67395, 51270, 58800, 49770, 47270, 51790, 50290, 59450, 47790, 62900, 48300, 50800, 51700, 51700, 43900, 45650, 45800, 47950, 45800, 47950, 49200, 47050, 62000, 63500, 64000, 50250, 52750, 52150, 54650, 54650, 52150, 64200, 72500, 65700, 66200, 60950, 58450, 72300, 49900, 52600, 73900, 67200, 54400, 47500, 32855, 30855, 22680, 29100, 37320, 29860, 23370, 31515, 33615, 37795, 38105, 33880, 27225, 29855, 31780, 23420, 20320, 17935, 19695, 23640, 25555, 25925, 23835, 22565, 28420, 22565, 24610, 21465, 20965, 23465, 20165, 23265, 19565, 20575, 19795, 23710, 23915, 28195, 25470, 30355, 22340, 27005, 23610, 22340, 21625, 28620, 30920, 23120, 25020, 23120, 25125, 21680, 30975, 23225, 38680, 42235, 41225, 41525, 38425, 38125, 38915, 42015, 41715, 38615, 2000, 2000, 2263, 2209, 2411, 2459, 19685, 20755, 19565, 21715, 18845, 21715, 18845, 20755, 19685, 19565, 20115, 22415, 20265, 21455, 19275, 34380, 31290, 36990, 34490, 32510, 39960, 37770, 34590, 37090, 40040, 32610, 37870, 23700, 24000, 24200, 27995, 29925, 29925, 27995, 25730, 25780, 26580, 20480, 19980, 44990, 45990, 44990, 49300, 51300, 44565, 48840, 50840, 42565, 48840, 46840, 56780, 54780, 43015, 49440, 46515, 44515, 55230, 45015, 53230, 52640, 51440, 50640, 55230, 49440, 47440, 48640, 50640, 57230, 56400, 48360, 50360, 52360, 58400, 56400, 43950, 50360, 45950, 54400, 32500, 28950, 2000, 2000, 12515, 2000, 2000, 2000, 2000, 2000, 2381, 2337, 2138, 31025, 28025, 28075, 31075, 31675, 28875, 49850, 47700, 53700, 59200, 61700, 61200, 54750, 48700, 63700, 50850, 46030, 35595, 33100, 48525, 46455, 42955, 48950, 40460, 33260, 39585, 37090, 35755, 41895, 35720, 35130, 32720, 39485, 38125, 45475, 47880, 38850, 40845, 45840, 45840, 38850, 40845, 41005, 39010, 46000, 45205, 43210, 43370, 45365, 43530, 49025, 40850, 38900, 44045, 47810, 53475, 38260, 55970, 45315, 40755, 41550, 38260, 44045, 48055, 45560, 53475, 40755, 41550, 55970, 45555, 35190, 37080, 47445, 37080, 45605, 47495, 35190, 36900, 39510, 49560, 35010, 41400, 47670, 36760, 38650, 5650, 24250, 27750, 26140, 33790, 25815, 30540, 27590, 24165, 29740, 23335, 31035, 25885, 30235, 30210, 26040, 24520, 27890, 30420, 27700, 22280, 24690, 28355, 24930, 20830, 26330, 20330, 23430, 27740, 22625, 21015, 27607, 27777, 29627, 22777, 32887, 31317, 25087, 25637, 27777, 25217, 27607, 22907, 32887, 29627, 25637, 31317, 26199, 25999, 28199, 23999, 34999, 35799, 36159, 28460, 23490, 28515, 22115, 22950, 28515, 22950, 22115, 25645, 24645, 25895, 24895, 26145, 25145, 2254, 2000, 2038, 2462, 44540, 44540, 41995, 39000, 38550, 40600, 36950, 34220, 29560, 32620, 31160, 34400, 39180, 41730, 32800, 38730, 29740, 40780, 31340, 42180, 37130, 40130, 43780, 29740, 31340, 37130, 38730, 34400, 32800, 40780, 39180, 2000, 2000, 2000, 27505, 30550, 29265, 26905, 28665, 25980, 27550, 23720, 28650, 29450, 28650, 27550, 29265, 23970, 29450, 30550, 27505, 26905, 26230, 32205, 32655, 28665, 28600, 26395, 29330, 31270, 30065, 24915, 2000, 2000, 2000, 2000, 2000, 2000, 2000, 2000, 2000, 2000, 2000, 65055, 67220, 61480, 63645, 63195, 69135, 65560, 73645, 66770, 71260, 65560, 71260, 66770, 63195, 69135, 73650, 19450, 13030, 17085, 15340, 14315, 17640, 15800, 20450, 13490, 16625, 16110, 13800, 20700, 2000, 2000, 2000, 2000, 2000, 2000, 2000, 2044, 12715, 20990, 20525, 20525, 24315, 17475, 20990, 18550, 24315, 18550, 23240, 25740, 20990, 25740, 17475, 20990, 23240, 25990, 25990, 18290, 18290, 26990, 19390, 19390, 26990, 18690, 27390, 18690, 20390, 19790, 20390, 27390, 20390, 26390, 19790, 20390, 26390, 2000, 2000, 2000, 2000, 2000, 2000, 2000, 2000, 2000, 2000, 26220, 24560, 22240, 23900, 23250, 25750, 23235, 26750, 21590, 27410, 28410, 24895, 21590, 23250, 28995, 27245, 27995, 23995, 21590, 26245, 23235, 22245, 24985, 23340, 21710, 20720, 21760, 20870, 22230, 21330, 35880, 36580, 37980, 34480, 34965, 37065, 36365, 38465, 38585, 36485, 37185, 35085, 37775, 35775, 28975, 37375, 42030, 44600, 32275, 37650, 32550, 36050, 42305, 44875, 29400, 38050, 33500, 27500, 25500, 21500, 35300, 23950, 25790, 21840, 27700, 35500, 24340, 29940, 24140, 25140, 22140, 36040, 30295, 24895, 25195, 29995, 32995, 26995, 27295, 30695, 33395, 25295, 27695, 27395, 24995, 30395, 35995, 25645, 34995, 27695, 38195, 32390, 22195, 21295, 22695, 24995, 22795, 24195, 19595, 20795, 23595, 23995, 22195, 22695, 25395, 23895, 22495, 21295, 20795, 19595, 27395, 25995, 24195, 22495, 25695, 20995, 27695, 24195, 22695, 19795, 26195, 24195, 28195, 23195, 30995, 24995, 26995, 22995, 23995, 25995, 24995, 31695, 24495, 24995, 27495, 25495, 26495, 23495, 24460, 33775, 27600, 27550, 35825, 30250, 30310, 27225, 34150, 36195, 28265, 24635, 42495, 30495, 28595, 37895, 34495, 39725, 34600, 40425, 35250, 40730, 35555, 2000, 2000, 2000, 2178, 26280, 29125, 22440, 22440, 23995, 30850, 31790, 24375, 21340, 31790, 26280, 33925, 28105, 24375, 26915, 28115, 23995, 35995, 26915, 28105, 28115, 21340, 26280, 34270, 30495, 24750, 24750, 28410, 23975, 36835, 22440, 23975, 22440, 26280, 28410, 34270, 30495, 29295, 27995, 22440, 23975, 30995, 25495, 33995, 2452, 2879, 2715, 2668, 30500, 27300, 23000, 24150, 28050, 26800, 29250, 26150, 30900, 26450, 24450, 28450, 23300, 29550, 27600, 27100, 29510, 29780, 37900, 41560, 34830, 31200, 34500, 32810, 36210, 33140, 43250, 31470, 33150, 38100, 41610, 43300, 29830, 36410, 34840, 31520, 37790, 32980, 36100, 30290, 42070, 34670, 43760, 31980, 64600, 66950, 66700, 2293, 2281, 2000, 2000, 2115, 2000, 2040, 2423, 2188, 2699, 2311, 2691, 2197, 2553, 2409, 2912, 2000, 2498, 2539, 2000, 33720, 40020, 36970, 33120, 41620, 38970, 31470, 34720, 36970, 35370, 29870, 32120, 37370, 38570, 39455, 46570, 38855, 38855, 37855, 33580, 36055, 31945, 37055, 30145, 34380, 32580, 35380, 41170, 42970, 37055, 37655, 39255, 36455, 39855, 38055, 47070, 39255, 33030, 37455, 38255, 34830, 32395, 41670, 35830, 43470, 34030, 30595, 37455, 3065, 3367, 3843, 3407, 26100, 23600, 24600, 2000, 2000, 2000, 2194, 2000, 2088, 2000, 2000, 2064, 2304, 2419, 2196, 2388, 2242, 2728, 2580, 2130, 2003, 14155, 16220, 14330, 16395, 16455, 16895, 13885, 12765, 13485, 18020, 15535, 15700, 14975, 13075, 16140, 15415, 13680, 44625, 44625, 20105, 20901, 44625, 19785, 23515, 18430, 15970, 18000, 20780, 24510, 18275, 32500, 36400, 38500, 34600, 38600, 40700, 33700, 35800, 34500, 41300, 36600, 33900, 31800, 39200, 33950, 35550, 61600, 52400, 56400, 58100, 38950, 46200, 37150, 45450, 43650, 41800, 48600, 44400, 46800, 40000, 33950, 49950, 47950, 41900, 45900, 49050, 43900, 39650, 47050, 39900, 37650, 35950, 33950, 44650, 50700, 44300, 48700, 49800, 38400, 40650, 42650, 40400, 35950, 42300, 46650, 47800, 52900, 47500, 51900, 42200, 39300, 55000, 45400, 53500, 40900, 42750, 52500, 46000, 48100, 57700, 50200, 55600, 53200, 40900, 46400, 43150, 53400, 48550, 62100, 62100, 53400, 48550, 51750, 40950, 42600, 46050, 53650, 40950, 46050, 49650, 42600, 47700, 53300, 46300, 44300, 38950, 51300, 40950, 43300, 41300, 51750, 49600, 55650, 64600, 62100, 51350, 49850, 52000, 67050, 62850, 65350, 55900, 64550, 53500, 67050, 52000, 62850, 55900, 65350, 64550, 51350, 53500, 49850, 64900, 52900, 60900, 47700, 53700, 58900, 61900, 53400, 59900, 54800, 48300, 65400, 58800, 64300, 54800, 33750, 42870, 26220, 29970, 30280, 34060, 43180, 26530, 26580, 34110, 30540, 43230, 34150, 35550, 35550, 34150, 34750, 36150, 36400, 37200, 35000, 38600, 34450, 35850, 36250, 34450, 58150, 55050, 56050, 59150, 61800, 58700, 45400, 42400, 46800, 43800, 42600, 53450, 52050, 44400, 44900, 43100, 45850, 47300, 45850, 47300, 45850, 47650, 62700, 65800, 63250, 66350, 66350, 63250, 60000, 63100, 64450, 61350, 49300, 50800, 50240, 51740, 52690, 53840, 29100, 32990, 17110, 17110, 18185, 18185, 14990, 16065, 16065, 14990, 17575, 16675, 18650, 15600, 15600, 18650, 17575, 16675, 19340, 16300, 16300, 19340, 17400, 17400, 24005, 24005, 23020, 26750, 19890, 26855, 28445, 20490, 28780, 25650, 23590, 24235, 26295, 29425, 21135, 35610, 33785, 32580, 30580, 33570, 31550, 2000, 2000, 2000, 2000, 2000, 2000, 20240, 18740, 18695, 22305, 20850, 22885, 21430, 19275, 20820, 19320, 22190, 20035, 20080, 23645, 21580, 22150, 38100, 29395, 28755, 36230, 26705, 30775, 25435, 34865, 30655, 26320, 33730, 27045, 32155, 41350, 25720, 36980, 39780, 22435, 34275, 29055, 31445, 43490, 31880, 38120, 32750, 26275, 29985, 25575, 29285, 29530, 35100, 26015, 29585, 29725, 40270, 21820, 21520, 25975, 25715, 32945, 41340, 31730, 25065, 28725, 24665, 25155, 24855, 28865, 20610, 28510, 25365, 36880, 20910, 39035, 28425, 40495, 31020, 34240, 32085, 42650, 29075, 2245, 2034, 2239, 2000, 2316, 2118, 2041, 2237, 2348, 2320, 2422, 2087, 2326, 2332, 23360, 21345, 21345, 60000, 57600, 48300, 48300, 41100, 45100, 44100, 49900, 48300, 56600, 55700, 48900, 48300, 50475, 53775, 46675, 53775, 41475, 60775, 45675, 51000, 45700, 45800, 57700, 62500, 51100, 41800, 54200, 67600, 62600, 67600, 62600, 63350, 68295, 64950, 66450, 69950, 71450, 25240, 29850, 28450, 26640, 23680, 25080, 29265, 25750, 26270, 24350, 30665, 31510, 32910, 27670, 31830, 28230, 26310, 24910, 36150, 33230, 34750, 26830, 29985, 31385, 39995, 40155, 42610, 42770, 42790, 45025, 45015, 42780, 45175, 43010, 62400, 62805, 64165, 36495, 40195, 38795, 35095, 36670, 36870, 41870, 39070, 35370, 38170, 40370, 42020, 40570, 43520, 38370, 39270, 42220, 42070, 36870, 37070, 43720, 40770, 40570, 35570, 28565, 34065, 31565, 28990, 36490, 31415, 33990, 27065, 34325, 31900, 31615, 36540, 34115, 34040, 28615, 27065, 31465, 2000, 2084, 29970, 26780, 24280, 27780, 28765, 25190, 15399, 16299, 14249, 13299, 15149, 14199, 14699, 15049, 15199, 13599, 14099, 13839, 14339, 15349, 14939, 37380, 30195, 32155, 35030, 29450, 37505, 37505, 30720, 35155, 29575, 32380, 37730, 42870, 33315, 35930, 33015, 31515, 33780, 29475, 35580, 31275, 41370, 34815, 15190, 18290, 13990, 18090, 17190, 16990, 15290, 13990, 20755, 15395, 14165, 17755, 17905, 15495, 20905, 17755, 15495, 17905, 14165, 20905, 15395, 2000, 2000, 2155, 2379, 54250, 50450, 50450, 46830, 51350, 51350, 55150, 47200, 48200, 52350, 56150, 52350, 50950, 60450, 48450, 54450, 56950, 54450, 59950, 60450, 65950, 50950, 54450, 60450, 2000, 2000, 2000, 2000, 2000, 2000, 2190, 2000, 2212, 20150, 21500, 21500, 20150, 24140, 29630, 24390, 28280, 24490, 22790, 25840, 23040, 30080, 24680, 26130, 28730, 24780, 23330, 23820, 26590, 25240, 25170, 31310, 29960, 19195, 20195, 16395, 18895, 17895, 16395, 18895, 19195, 20195, 17895, 19495, 21295, 22295, 18495, 17495, 33600, 42500, 38600, 25900, 30600, 32600, 38600, 36600, 42500, 36600, 43240, 34750, 37390, 33790, 26930, 39390, 31770, 34490, 39890, 32010, 33490, 37890, 44280, 27020, 66000, 66910, 68900, 69600, 70900, 21100, 20025, 22000, 20925, 23320, 20275, 22250, 21175, 21350, 23670, 20325, 21475, 23845, 21225, 22375, 33955, 35705, 35705, 33955, 36925, 35125, 35275, 36675, 36025, 37425, 36370, 37770, 40970, 50220, 48710, 42370, 49125, 41900, 43300, 50320, 48920, 43020, 44420, 46060, 44660, 41180, 42580, 42080, 43480, 49020, 57045, 53635, 52235, 53035, 56495, 2000, 2000, 2000, 2000, 2000, 2000, 2000, 2000, 2000, 2000, 2000, 2000, 20984, 15406, 21474, 19757, 23539, 15943, 17284, 18169, 19434, 13961, 24063, 18519, 24462, 25990, 17169, 20209, 19209, 21499, 14961, 18944, 20780, 20270, 16905, 18780, 24370, 17570, 16570, 23985, 16220, 18905, 16120, 21820, 14770, 18120, 24660, 34250, 37300, 36300, 34300, 36995, 34995, 37995, 41100, 47000, 42500, 48650, 48400, 42900, 33800, 32350, 28550, 31350, 26200, 31150, 27750, 31150, 49500, 54000, 48100, 55400, 48400, 54300, 55700, 49800, 56100, 55100, 50200, 49200, 67350, 59350, 61100, 54100, 60350, 53100, 53100, 61100, 54100, 44200, 35450, 39250, 34800, 43800, 42700, 33950, 33300, 38150, 38900, 39450, 59700, 44400, 35650, 40400, 47900, 34150, 38300, 36800, 43700, 43300, 43400, 41900, 44200, 47700, 33950, 40800, 36800, 47400, 70900, 70900, 2000, 2000, 2112, 2232, 2172, 2286, 2382, 2384, 2430, 2637, 2305, 2500, 2403, 2608, 39900, 43950, 45100, 43950, 41700, 40500, 48375, 43450, 2269, 46950, 52950, 50450, 56250, 24450, 22050, 22695, 25195, 22930, 25430, 23690, 25690, 24195, 26195, 24430, 26430, 2000, 2000, 33000, 31250, 24950, 26700, 33000, 31250, 33000, 24950, 26700, 31250, 33450, 31700, 38250, 25350, 27100, 36500, 30150, 36000, 31900, 34250, 34250, 36000, 32150, 30400, 36250, 34500, 36700, 38700, 40450, 34950, 41150, 30800, 32550, 39400, 29215, 32760, 33420, 27710, 32535, 31075, 32875, 31415, 29555, 33760, 32455, 33915, 34800, 30595, 30970, 36030, 31865, 34525, 34160, 36355, 34015, 35915, 36700, 32190, 34485, 32990, 37155, 37500, 35285, 36715, 34815, 3211, 3665, 4024, 3442, 4031, 4404, 66355, 66805, 68405, 2000, 2000, 2000, 2000, 2000, 2000, 32715, 26600, 24415, 20865, 19840, 28415, 29275, 25920, 20915, 30270, 35125, 20515, 27790, 21810, 23040, 32710, 22115, 29210, 27850, 20120, 36300, 26100, 32300, 39700, 28300, 28500, 26400, 39900, 32700, 36400, 41900, 28850, 33600, 36900, 26800, 20720, 17780, 18350, 16530, 17380, 19960, 22170, 20410, 16780, 18550, 18160, 17760, 21500, 21990, 18790, 16990, 19990, 17990, 21990, 2000, 2000, 2000, 2000, 10845, 12445, 11820, 13420, 64320, 47620, 56580, 61095, 47620, 53355, 56580, 64320, 44395, 61855, 57340, 45325, 65080, 65080, 57340, 48550, 54115, 48550, 48685, 65215, 45460, 57475, 57475, 54250, 48685, 65215, 61990, 44399, 49705, 51650, 45535, 45975, 2000, 2000, 2000, 2000, 2000, 2000, 2000, 2000, 2000, 2000, 2000, 2000, 2000, 2002, 2000, 2000, 2000, 2000, 2000, 2107, 2125, 2078, 2000, 2019, 2000, 2027, 2153, 42880, 37400, 40655, 37445, 35200, 41035, 35000, 33960, 46250, 41750, 28700, 45120, 31630, 31430, 38455, 39780, 26595, 34180, 38605, 35410, 31840, 37620, 31640, 41245, 40815, 28850, 41900, 43040, 39930, 46410, 37655, 35210, 45270, 26745, 29750, 32740, 35080, 43940, 42800, 41715, 38555, 32540, 42145, 39505, 36310, 36110, 40830, 27645, 38520, 46170, 47310, 30930, 24515, 30550, 33935, 32025, 31735, 20310, 23850, 29355, 20960, 31965, 27730, 25215, 15840, 27060, 32690, 29380, 26820, 30825, 21465, 28790, 26555, 28915, 30675, 16115, 27850, 29065, 35520, 24140, 25325, 30255, 29015, 33755, 20715, 33495, 27580, 20750, 25845, 28845, 27430, 31115, 33785, 26245, 30340, 27560, 26295, 25850, 39125, 32170, 45425, 48575, 39095, 42245, 46790, 40010, 43210, 49990, 51935, 48335, 41555, 45155, 43360, 38540, 49965, 36200, 38840, 42635, 43660, 30610, 35390, 46510, 53115, 40045, 27060, 26670, 38665, 30695, 38965, 37800, 42935, 33595, 34675, 40900, 44150, 35690, 46810, 30910, 37500, 52815, 49665, 33720, 54240, 36230, 47570, 34590, 51390, 44910, 34465, 27715, 43505, 47270, 41660, 39380, 31955, 44900, 39535, 28105, 37070, 40930, 54540, 44420, 31390, 40915, 40775, 31655, 51090, 38370, 38670, 35370, 37625, 44120, 44840, 52155, 45330, 32230, 28205, 45390, 39160, 41420, 41405, 44540, 38115, 32145, 43995, 52455, 37560, 47690, 28595, 55605, 36210, 34955, 36720, 40025, 38860, 41265, 55305, 47990, 32445, 42080, 39870, 35080, 34640, 31405, 33330, 36525, 33115, 29745, 38370, 4439, 4827, 4715, 4287, 35970, 26995, 33925, 31355, 33400, 33740, 28040, 36340, 31690, 34290, 36795, 34740, 32125, 34185, 28465, 26685, 23350, 26930, 27135, 25845, 31375, 24020, 28515, 31810, 29580, 31465, 20515, 19865, 29380, 26975, 23940, 25960, 30755, 26460, 20075, 32330, 24965, 27060, 24515, 23575, 33425, 33395, 15840, 33135, 28410, 28705, 23640, 16115, 28460, 30570, 25915, 28995, 30315, 30465, 33280, 21465, 31665, 29980, 19620, 33575, 27250, 28485, 35160, 28555, 48205, 45055, 38725, 41875, 42840, 49620, 39640, 46420, 51490, 47915, 41135, 44710, 46110, 35920, 28545, 43450, 37680, 35435, 33340, 42010, 42310, 47875, 42270, 51150, 34110, 35135, 30345, 32095, 30130, 41970, 34530, 45420, 42760, 40620, 36090, 26495, 40320, 31625, 30045, 37730, 34230, 45810, 38635, 50850, 39420, 37380, 40100, 42560, 42860, 45120, 47575, 31940, 38335, 35870, 28155, 36825, 26105, 37125, 33215, 39510, 36390, 36745, 34280, 32395, 31750, 37045, 39540, 39240, 35825, 39685, 31035, 32870, 43775, 35545, 36935, 38590, 41250, 31120, 47135, 48500, 44475, 33170, 46835, 33060, 53315, 38290, 31335, 33295, 38740, 41185, 43710, 27485, 36980, 44010, 33360, 45640, 45170, 35100, 39275, 49740, 50040, 29510, 36850, 48200, 38890, 38695, 40090, 41890, 43260, 41865, 53015, 36680, 36940, 32955, 29120, 37345, 27095, 40495, 36035, 37835, 39230, 38980, 36515, 43950, 31525, 33850, 44350, 47175, 44465, 42075, 47475, 46180, 33550, 39965, 35590, 27975, 41590, 44050, 37370, 54925, 27585, 33860, 33445, 48740, 45860, 40375, 54625, 42380, 29610, 51350, 30000, 37430, 40985, 39185, 37670, 44815, 31825, 37425, 51650, 49040, 37340, 39280, 33985, 40580, 31610, 39580, 42555, 33360, 2000, 2000, 2000, 2000, 2000, 2000, 2000, 2000, 60300, 47950, 56225, 68925, 43525, 43950, 57650, 70850, 59200, 47000, 72600, 2397, 2488, 2816, 2934, 21515, 26515, 22455, 28135, 31750, 28400, 24275, 30375, 29410, 26225, 29485, 23175, 26525, 28575, 23175, 26525, 26525, 33525, 21150, 33525, 28575, 21150, 26525, 23275, 28925, 27350, 27350, 21750, 23400, 34075, 28925, 23725, 23400, 21750, 23725, 21600, 27150, 23400, 26600, 23400, 23125, 21600, 21950, 34350, 26600, 21950, 27150, 15495, 21945, 16095, 18835, 21345, 14845, 18235, 17845, 17245, 19680, 20545, 14245, 20245, 19945, 16455, 15855, 16155, 20095, 18145, 15595, 20345, 16755, 19780, 20095, 21495, 14345, 17545, 14945, 16195, 21495, 18170, 21215, 17580, 18970, 16395, 20415, 19720, 17530, 19720, 15145, 16538, 13975, 20793, 17093, 15957, 24492, 15093, 15420, 19675, 14770, 16570, 24670, 21970, 16270, 16220, 20320, 17670, 18270, 38500, 24300, 26700, 36700, 41700, 31700, 33500, 26100, 39900, 28500, 38300, 28200, 33900, 28700, 40100, 32900, 25100, 43300, 32100, 26400, 41500, 31100, 30500, 39900, 41700, 28500, 28990, 33100, 40400, 31500, 38600, 45700, 43900, 30790, 25400, 34900, 26700, 33300, 16900, 20500, 18400, 14900, 15190, 17190, 20790, 18690, 17400, 15900, 21300, 19400, 14040, 15095, 15440, 12270, 13580, 16535, 14685, 17285, 15785, 13760, 12660, 16185, 16325, 13000, 14100, 15925, 14825, 17425, 12895, 15995, 15895, 15995, 14895, 16995, 16995, 15895, 16995, 15995, 14895, 15995, 16995, 13895, 12895, 13550, 15550, 17450, 16695, 16550, 16450, 17695, 14550, 2000, 2000, 21900, 28100, 25300, 26800, 29600, 23400, 23650, 22150, 31490, 25350, 29990, 26850, 27000, 32500, 22990, 34000, 25500, 24490, 2000, 2000, 2000, 2000, 2000, 2000, 2000, 2000, 52700, 60200, 53300, 60800, 60800, 53300, 48065, 50955, 42880, 48145, 37505, 45375, 45255, 48920, 48840, 46030, 51730, 43640, 46135, 37605, 37605, 48840, 51730, 48920, 46135, 43640, 46030, 43475, 45745, 46575, 41620, 42555, 39240, 2823, 2350, 2203, 2000, 2575, 3219, 2000, 3044, 2231, 3732, 21975, 21450, 22695, 23520, 19690, 19970, 20820, 22370, 19850, 20675, 21735, 23335, 22980, 20255, 20135, 23755, 20825, 56345, 46845, 55945, 68785, 50385, 46845, 56345, 47280, 50820, 56380, 54205, 63785, 57205, 66785, 52000, 49000, 54730, 57730, 64440, 52700, 49700, 67440, 58045, 49915, 67730, 52915, 55045, 64730, 2468, 2585, 2790, 3420, 3051, 3372, 2000, 2000, 2000, 2000, 2000, 2000, 2000, 2000, 14930, 10895, 14930, 15205, 10895, 18255, 14977, 22001, 17320, 20596, 25279, 2000, 2000, 2230, 2000, 2472, 2283, 2749, 2512, 2000, 2000, 9949, 10949, 9299, 10299, 16599, 19349, 17099, 16999, 17849, 16479, 18999, 18249, 13499, 17799, 15195, 18299, 17099, 18599, 16799, 18875, 19649, 17999, 18199, 17399, 13699, 18499, 15495, 18549, 16999, 19349, 16999, 19175, 17849, 18349, 18799, 20449, 15845, 2563, 2922, 2506, 2141, 2802, 3143, 2806, 2348, 3042, 2767, 2540, 3058, 3586, 3480, 3214, 27355, 23075, 27235, 24800, 21865, 35725, 20965, 23625, 37615, 25060, 23960, 26355, 36705, 36635, 28235, 28735, 22525, 25560, 25700, 25185, 29275, 23660, 34700, 31420, 34090, 30025, 33310, 26635, 31680, 32460, 34090, 27355, 33310, 35105, 31920, 38180, 28345, 31125, 26735, 31625, 28820, 32460, 28845, 30530, 31125, 25745, 24490, 34700, 35315, 33075, 40760, 25645, 35720, 33770, 32765, 34705, 27095, 35315, 42760, 34705, 24950, 29690, 25730, 33075, 26205, 31740, 29735, 29280, 33770, 30485, 28700, 24120, 32390, 27195, 33265, 31740, 38795, 31875, 32240, 30190, 51145, 53950, 54775, 51970, 56425, 53620, 3465, 3413, 54505, 61085, 49300, 46300, 51505, 64085, 64740, 47000, 55030, 52030, 50000, 61740, 50215, 55345, 47215, 62030, 52345, 65030, 21400, 21440, 22440, 22400, 20210, 19210, 19210, 20360, 24340, 23190, 19385, 23190, 24340, 20535, 2000, 2000, 2000, 2012, 2041, 2000, 2148, 24070, 37240, 33065, 29820, 28310, 26560, 34815, 35490, 29810, 28060, 31570, 28300, 33975, 23975, 28550, 30620, 35725, 26800, 32370, 30050, 29050, 28800, 36025, 34275, 27300, 30550, 30920, 24070, 32670, 30990, 31170, 28110, 33855, 33250, 27250, 29750, 30250, 30780, 28000, 26660, 17095, 18595, 20595, 16095, 21595, 19595, 21195, 22095, 19395, 17795, 21695, 22795, 16695, 20495, 18370, 21270, 22620, 20170, 17270, 22770, 30225, 28230, 33235, 37650, 39625, 26255, 35565, 33590, 31260, 28250, 24890, 36420, 33365, 28700, 26865, 31390, 34445, 30675, 30095, 32070, 26970, 34580, 24995, 36475, 34500, 32605, 39780, 34440, 37580, 31910, 34760, 29360, 33990, 37320, 43280, 34640, 40580, 32210, 31790, 36840, 41160, 32490, 32060, 34910, 31940, 38170, 34140, 34790, 40370, 43860, 29640, 36990, 37670, 40700, 37810, 45020, 49460, 55400, 46380, 52310, 34780, 42985, 41635, 39255, 45185, 35705, 42985, 39435, 39635, 45385, 39455, 43185, 41835, 43185, 35905, 37405, 37530, 36030, 43310, 39580, 39760, 45510, 43310, 41960, 41575, 35500, 42600, 39375, 44800, 31445, 35320, 41575, 35320, 42600, 35750, 44800, 39375, 31695, 42600, 35950, 44800, 31900, 41600, 39400, 35350, 23965, 22455, 29745, 25145, 23520, 28120, 24820, 26815, 31415, 29420, 48390, 39300, 42800, 39300, 48900, 62200, 56670, 53170, 48745, 44705, 58700, 66995, 52245, 51450, 46745, 54950, 42705, 63245, 59745, 50245, 49495, 52795, 60195, 32995, 30765, 41995, 34465, 29995, 37945, 35315, 33695, 40295, 31465, 35845, 34145, 40645, 29995, 38445, 37345, 31875, 52055, 46385, 52595, 46925, 47225, 47000, 52895, 52670, 19060, 16790, 17890, 21510, 17200, 21935, 16100, 20835, 22530, 21430, 17730, 16630, 17330, 18430, 22130, 19580, 22315, 22715, 21615, 19865, 20965, 32320, 34220, 30070, 31970, 32515, 30265, 30335, 28085, 27980, 30230, 28130, 25880, 25045, 34885, 33620, 27340, 37125, 31320, 27970, 30210, 26390, 28525, 29880, 29535, 27745, 31910, 32155, 31810, 34290, 37725, 27400, 35590, 33945, 29780, 35770, 31330, 39330, 31275, 33595, 37195, 33445, 29155, 2000, 2000, 2000, 2000, 2000, 2038, 2104, 43935, 30995, 38295, 32995, 33795, 35795, 36295, 41935, 44145, 34005, 42145, 28700, 36505, 38505, 31205, 36005, 33205, 38650, 28700, 34100, 31300, 44045, 33300, 36100, 36650, 42045, 25030, 26530, 23945, 20120, 21620, 22445, 20040, 21540, 24145, 21800, 25230, 26730, 20300, 22645, 21800, 20300, 24400, 26100, 27600, 22900, 22500, 21000, 35895, 30595, 32595, 32595, 34095, 27235, 29745, 30925, 33445, 23545, 19730, 25885, 24620, 24805, 24690, 26375, 25950, 22935, 21790, 24200, 23055, 27635, 24200, 27305, 23590, 25550, 20405, 22445, 27165, 28915, 25345, 25700, 25495, 23740, 29065, 22595, 24350, 20555, 27455, 27315, 12840, 19885, 18090, 22630, 15670, 20575, 21410, 23150, 16975, 19215, 13930, 20880, 18885, 18050, 19975, 2000, 2121, 2000, 2000, 2000, 2281, 2436, 2494, 2130, 2000, 2122, 2762, 2354, 2647, 2547, 2326, 2918, 2391, 3140, 2550, 2676, 2241, 2837, 35010, 31360, 35510, 31860, 35635, 31985, 30010, 35550, 38650, 33110, 31010, 31010, 30510, 31510, 31510, 33610, 39150, 31635, 30635, 39275, 33735, 31635, 56850, 57200, 43350, 40350, 42900, 46400, 47000, 43500, 51700, 48700, 51900, 52500, 26450, 21650, 27950, 23700, 25200, 23150, 25200, 27950, 24150, 25550, 29900, 24100, 31300, 27550, 26150, 22700, 22700, 24100, 29775, 25900, 31175, 27300, 24150, 25550, 33210, 29120, 44925, 40685, 44925, 44000, 33390, 33060, 47975, 34710, 30160, 34710, 40685, 31560, 44000, 35040, 37030, 42550, 42550, 35530, 33060, 37030, 32170, 41385, 39500, 35040, 33390, 41385, 47975, 32480, 37635, 28510, 47975, 33980, 30010, 31660, 47975, 31990, 32170, 30340, 34220, 30840, 34000, 45560, 32980, 38670, 36320, 34970, 46530, 43585, 42945, 42945, 46530, 30840, 41720, 49580, 46530, 40535, 38020, 49580, 29140, 29950, 33270, 32650, 49580, 49580, 32190, 36030, 33000, 31170, 34220, 35700, 32980, 29950, 38670, 41720, 34970, 46530, 30950, 45560, 43585, 32650, 33890, 40535, 36030, 35700, 33000, 33890, 31170, 38020, 33450, 50030, 35420, 42330, 31830, 46980, 42330, 46980, 44195, 39280, 34880, 46010, 30400, 38470, 33430, 41145, 43395, 50030, 34150, 30400, 31620, 50030, 33100, 43395, 31620, 36480, 31290, 33430, 34340, 37200, 46980, 44195, 31290, 34340, 46980, 36150, 34670, 33100, 30020, 33070, 35420, 36480, 39280, 36150, 46010, 41145, 33450, 38470, 34670, 50030, 22750, 22750, 28250, 26250, 19250, 19250, 21150, 30250, 33250, 20205, 22105, 23280, 23280, 27405, 33050, 29350, 20205, 21540, 21540, 24250, 23080, 29330, 24250, 24900, 24900, 25700, 29845, 29800, 35500, 33050, 28700, 32850, 29000, 41000, 44650, 41200, 44850, 41700, 45350, 45400, 37450, 35750, 45150, 37250, 35950, 46050, 43520, 61300, 39600, 49450, 36150, 41750, 49200, 45800, 38100, 37650, 48950, 36150, 41750, 38100, 32465, 32900, 33550, 38000, 2239, 2200, 2000, 2000, 2000, 2000, 2000, 2000, 2000, 2000, 2000, 2000, 2000, 23300, 19050, 21650, 21650, 22300, 22300, 17800, 17800, 19050, 17800, 21300, 23300, 19050, 19250, 23600, 21950, 21950, 18000, 22600, 21600, 19100, 18000, 23950, 21600, 19100, 18000, 23800, 22600, 23800, 22600, 31790, 33790, 24040, 26340, 22440, 29740, 21365, 22465, 31490, 25165, 29240, 30240, 30575, 33625, 26675, 22600, 21475, 23225, 30760, 23165, 26835, 23365, 31510, 39020, 31120, 37570, 29670, 33330, 27850, 32960, 34780, 29300, 29770, 39570, 29400, 33630, 35080, 31220, 27950, 38120, 31810, 33260, 35600, 33560, 39940, 29065, 32110, 34150, 30515, 35895, 28145, 34195, 30045, 28345, 34395, 36095, 30245, 30245, 36195, 34495, 28345, 21065, 29215, 27050, 25020, 23380, 23480, 24475, 24065, 21065, 26505, 28670, 21065, 26555, 24115, 17199, 20199, 18499, 19349, 21049, 17549, 20549, 20299, 18299, 17930, 18660, 17960, 16330, 15430, 14180, 17530, 16380, 14230, 17980, 18710, 15480, 15480, 17980, 16380, 18710, 13990, 15530, 16890, 11990, 17590, 13490, 14040, 13540, 15580, 17140, 11990, 17280, 13680, 11990, 14130, 15720, 16855, 16100, 16495, 20875, 20475, 20275, 16100, 20875, 17445, 2000, 2000, 16599, 17999, 17799, 16999, 15999, 18199, 19199, 16799, 18199, 16999, 15599, 16799, 19199, 17999, 18199, 16999, 23525, 19160, 23640, 16430, 19155, 20960, 23790, 2000, 2000, 2000, 2166, 2110, 2000, 2317, 2008, 37395, 31195, 38495, 34495, 29995, 29695, 26295, 28495, 34695, 39995, 28895, 38995, 30395, 39995, 31595, 30095, 26595, 39995, 26695, 30195, 39995, 30995, 32195, 28995, 35195, 2000, 2000, 2000, 2000, 2000, 2000, 2000, 31200, 33000, 39100, 34800, 33100, 35100, 45500, 40500, 42000, 38500, 38950, 46800, 40950, 42450, 42750, 47950, 41250, 39250, 44700, 48000, 57800, 45250, 49700, 58100, 45550, 57700, 53900, 56200, 70100, 57000, 71500, 57700, 54700, 57800, 55500, 59300, 72300, 61900, 72900, 59600, 62900, 60600, 61400, 63700, 12480, 13280, 13330, 12530, 13580, 12780, 16970, 19210, 17920, 20160, 16970, 20420, 17920, 18070, 19685, 17120, 51050, 45550, 46750, 48250, 41550, 42650, 38850, 39650, 42950, 43850, 43900, 37250, 45550, 41450, 35750, 45800, 42850, 40250, 47200, 41750, 40350, 44050, 36400, 49800, 47050, 45400, 42350, 41150, 40050, 37900, 46950, 41150, 44350, 41350, 38100, 41350, 46950, 42650, 47200, 47050, 36600, 44150, 47750, 51050, 45650, 43350, 51300, 45750, 39850, 40950, 46350, 51000, 46350, 40950, 34500, 40950, 42050, 36900, 36050, 41800, 37550, 35400, 46675, 43050, 48175, 41550, 47175, 38600, 37100, 45675, 42050, 40550, 39700, 42700, 53250, 49800, 43950, 55400, 53800, 51250, 65700, 51350, 45950, 49350, 51150, 57200, 51600, 45750, 55600, 36500, 15345, 16145, 16250, 17050, 18955, 16545, 18155, 15745, 15920, 16720, 24999, 23499, 23999, 25599, 25599, 23999, 24899, 26499, 25799, 27499, 21999, 23799, 22599, 22999, 25499, 24499, 20099, 21099, 22299, 24799, 20899, 21899, 27799, 23299, 21399, 25799, 22899, 23399, 24099, 20399, 26099, 24899, 26699, 23199, 23699, 25499, 21999, 24599, 29549, 27949, 28349, 25949, 24599, 31749, 26999, 27549, 24349, 25949, 26199, 25399, 28649, 27049, 22999, 30149, 26749, 25199, 29149, 29149, 27499, 26599, 23549, 25099, 21599, 25049, 26699, 26749, 27499, 28249, 28280, 29930, 28580, 29079, 27429, 25745, 27395, 30230, 62500, 51895, 38995, 47390, 44895, 54390, 26900, 29440, 25850, 30490, 24850, 24990, 22940, 31370, 25300, 27350, 25440, 26300, 23390, 30320, 26670, 27720, 25710, 30590, 23660, 31640, 25670, 64245, 44660, 54670, 62735, 56900, 51000, 49000, 69785, 62015, 45295, 49250, 55705, 66780, 72320, 51250, 63770, 64550, 57935, 45295, 66795, 49295, 57995, 51295, 63795, 72395, 64595, 55795, 21995, 24495, 22995, 25995, 29295, 22995, 24495, 21995, 24795, 29295, 25995, 22295, 21595, 23295, 15950, 16820, 16880, 16505, 15945, 14845, 15570, 17620, 17670, 16870, 16555, 16930, 14895, 15620, 15995, 16000, 16910, 15250, 16375, 17285, 18000, 17200, 3949, 54420, 51610, 61770, 58925, 55280, 63130, 52470, 60285, 54145, 64805, 56955, 61960, 61925, 58925, 53440, 67220, 70220, 50440, 51015, 59700, 54015, 68025, 62700, 71025, 54230, 68665, 71665, 63015, 51230, 60015, 50740, 47740, 59225, 56225, 64520, 67520, 65325, 51315, 68325, 57000, 48315, 60000, 68965, 57315, 51530, 65965, 60315, 48530, 4976, 4697, 4755, 37900, 31300, 37700, 37900, 31300, 37700, 50100, 52100, 50400, 52400, 48950, 56950, 65800, 48950, 56950, 65800, 57500, 49700, 66350, 46020, 56570, 50520, 46120, 56670, 50620, 50920, 28995]}],\n",
              "                        {\"legend\": {\"tracegroupgap\": 0}, \"margin\": {\"t\": 60}, \"scene\": {\"domain\": {\"x\": [0.0, 1.0], \"y\": [0.0, 1.0]}, \"xaxis\": {\"title\": {\"text\": \"MPG-H\"}}, \"yaxis\": {\"title\": {\"text\": \"MPG-C\"}}, \"zaxis\": {\"title\": {\"text\": \"Price\"}}}, \"template\": {\"data\": {\"bar\": [{\"error_x\": {\"color\": \"#2a3f5f\"}, \"error_y\": {\"color\": \"#2a3f5f\"}, \"marker\": {\"line\": {\"color\": \"#E5ECF6\", \"width\": 0.5}}, \"type\": \"bar\"}], \"barpolar\": [{\"marker\": {\"line\": {\"color\": \"#E5ECF6\", \"width\": 0.5}}, \"type\": \"barpolar\"}], \"carpet\": [{\"aaxis\": {\"endlinecolor\": \"#2a3f5f\", \"gridcolor\": \"white\", \"linecolor\": \"white\", \"minorgridcolor\": \"white\", \"startlinecolor\": \"#2a3f5f\"}, \"baxis\": {\"endlinecolor\": \"#2a3f5f\", \"gridcolor\": \"white\", \"linecolor\": \"white\", \"minorgridcolor\": \"white\", \"startlinecolor\": \"#2a3f5f\"}, \"type\": \"carpet\"}], \"choropleth\": [{\"colorbar\": {\"outlinewidth\": 0, \"ticks\": \"\"}, \"type\": \"choropleth\"}], \"contour\": [{\"colorbar\": {\"outlinewidth\": 0, \"ticks\": \"\"}, \"colorscale\": [[0.0, \"#0d0887\"], [0.1111111111111111, \"#46039f\"], [0.2222222222222222, \"#7201a8\"], [0.3333333333333333, \"#9c179e\"], [0.4444444444444444, \"#bd3786\"], [0.5555555555555556, \"#d8576b\"], [0.6666666666666666, \"#ed7953\"], [0.7777777777777778, \"#fb9f3a\"], [0.8888888888888888, \"#fdca26\"], [1.0, \"#f0f921\"]], \"type\": \"contour\"}], \"contourcarpet\": [{\"colorbar\": {\"outlinewidth\": 0, \"ticks\": \"\"}, \"type\": \"contourcarpet\"}], \"heatmap\": [{\"colorbar\": {\"outlinewidth\": 0, \"ticks\": \"\"}, \"colorscale\": [[0.0, \"#0d0887\"], [0.1111111111111111, \"#46039f\"], [0.2222222222222222, \"#7201a8\"], [0.3333333333333333, \"#9c179e\"], [0.4444444444444444, \"#bd3786\"], [0.5555555555555556, \"#d8576b\"], [0.6666666666666666, \"#ed7953\"], [0.7777777777777778, \"#fb9f3a\"], [0.8888888888888888, \"#fdca26\"], [1.0, \"#f0f921\"]], \"type\": \"heatmap\"}], \"heatmapgl\": [{\"colorbar\": {\"outlinewidth\": 0, \"ticks\": \"\"}, \"colorscale\": [[0.0, \"#0d0887\"], [0.1111111111111111, \"#46039f\"], [0.2222222222222222, \"#7201a8\"], [0.3333333333333333, \"#9c179e\"], [0.4444444444444444, \"#bd3786\"], [0.5555555555555556, \"#d8576b\"], [0.6666666666666666, \"#ed7953\"], [0.7777777777777778, \"#fb9f3a\"], [0.8888888888888888, \"#fdca26\"], [1.0, \"#f0f921\"]], \"type\": \"heatmapgl\"}], \"histogram\": [{\"marker\": {\"colorbar\": {\"outlinewidth\": 0, \"ticks\": \"\"}}, \"type\": \"histogram\"}], \"histogram2d\": [{\"colorbar\": {\"outlinewidth\": 0, \"ticks\": \"\"}, \"colorscale\": [[0.0, \"#0d0887\"], [0.1111111111111111, \"#46039f\"], [0.2222222222222222, \"#7201a8\"], [0.3333333333333333, \"#9c179e\"], [0.4444444444444444, \"#bd3786\"], [0.5555555555555556, \"#d8576b\"], [0.6666666666666666, \"#ed7953\"], [0.7777777777777778, \"#fb9f3a\"], [0.8888888888888888, \"#fdca26\"], [1.0, \"#f0f921\"]], \"type\": \"histogram2d\"}], \"histogram2dcontour\": [{\"colorbar\": {\"outlinewidth\": 0, \"ticks\": \"\"}, \"colorscale\": [[0.0, \"#0d0887\"], [0.1111111111111111, \"#46039f\"], [0.2222222222222222, \"#7201a8\"], [0.3333333333333333, \"#9c179e\"], [0.4444444444444444, \"#bd3786\"], [0.5555555555555556, \"#d8576b\"], [0.6666666666666666, \"#ed7953\"], [0.7777777777777778, \"#fb9f3a\"], [0.8888888888888888, \"#fdca26\"], [1.0, \"#f0f921\"]], \"type\": \"histogram2dcontour\"}], \"mesh3d\": [{\"colorbar\": {\"outlinewidth\": 0, \"ticks\": \"\"}, \"type\": \"mesh3d\"}], \"parcoords\": [{\"line\": {\"colorbar\": {\"outlinewidth\": 0, \"ticks\": \"\"}}, \"type\": \"parcoords\"}], \"pie\": [{\"automargin\": true, \"type\": \"pie\"}], \"scatter\": [{\"marker\": {\"colorbar\": {\"outlinewidth\": 0, \"ticks\": \"\"}}, \"type\": \"scatter\"}], \"scatter3d\": [{\"line\": {\"colorbar\": {\"outlinewidth\": 0, \"ticks\": \"\"}}, \"marker\": {\"colorbar\": {\"outlinewidth\": 0, \"ticks\": \"\"}}, \"type\": \"scatter3d\"}], \"scattercarpet\": [{\"marker\": {\"colorbar\": {\"outlinewidth\": 0, \"ticks\": \"\"}}, \"type\": \"scattercarpet\"}], \"scattergeo\": [{\"marker\": {\"colorbar\": {\"outlinewidth\": 0, \"ticks\": \"\"}}, \"type\": \"scattergeo\"}], \"scattergl\": [{\"marker\": {\"colorbar\": {\"outlinewidth\": 0, \"ticks\": \"\"}}, \"type\": \"scattergl\"}], \"scattermapbox\": [{\"marker\": {\"colorbar\": {\"outlinewidth\": 0, \"ticks\": \"\"}}, \"type\": \"scattermapbox\"}], \"scatterpolar\": [{\"marker\": {\"colorbar\": {\"outlinewidth\": 0, \"ticks\": \"\"}}, \"type\": \"scatterpolar\"}], \"scatterpolargl\": [{\"marker\": {\"colorbar\": {\"outlinewidth\": 0, \"ticks\": \"\"}}, \"type\": \"scatterpolargl\"}], \"scatterternary\": [{\"marker\": {\"colorbar\": {\"outlinewidth\": 0, \"ticks\": \"\"}}, \"type\": \"scatterternary\"}], \"surface\": [{\"colorbar\": {\"outlinewidth\": 0, \"ticks\": \"\"}, \"colorscale\": [[0.0, \"#0d0887\"], [0.1111111111111111, \"#46039f\"], [0.2222222222222222, \"#7201a8\"], [0.3333333333333333, \"#9c179e\"], [0.4444444444444444, \"#bd3786\"], [0.5555555555555556, \"#d8576b\"], [0.6666666666666666, \"#ed7953\"], [0.7777777777777778, \"#fb9f3a\"], [0.8888888888888888, \"#fdca26\"], [1.0, \"#f0f921\"]], \"type\": \"surface\"}], \"table\": [{\"cells\": {\"fill\": {\"color\": \"#EBF0F8\"}, \"line\": {\"color\": \"white\"}}, \"header\": {\"fill\": {\"color\": \"#C8D4E3\"}, \"line\": {\"color\": \"white\"}}, \"type\": \"table\"}]}, \"layout\": {\"annotationdefaults\": {\"arrowcolor\": \"#2a3f5f\", \"arrowhead\": 0, \"arrowwidth\": 1}, \"coloraxis\": {\"colorbar\": {\"outlinewidth\": 0, \"ticks\": \"\"}}, \"colorscale\": {\"diverging\": [[0, \"#8e0152\"], [0.1, \"#c51b7d\"], [0.2, \"#de77ae\"], [0.3, \"#f1b6da\"], [0.4, \"#fde0ef\"], [0.5, \"#f7f7f7\"], [0.6, \"#e6f5d0\"], [0.7, \"#b8e186\"], [0.8, \"#7fbc41\"], [0.9, \"#4d9221\"], [1, \"#276419\"]], \"sequential\": [[0.0, \"#0d0887\"], [0.1111111111111111, \"#46039f\"], [0.2222222222222222, \"#7201a8\"], [0.3333333333333333, \"#9c179e\"], [0.4444444444444444, \"#bd3786\"], [0.5555555555555556, \"#d8576b\"], [0.6666666666666666, \"#ed7953\"], [0.7777777777777778, \"#fb9f3a\"], [0.8888888888888888, \"#fdca26\"], [1.0, \"#f0f921\"]], \"sequentialminus\": [[0.0, \"#0d0887\"], [0.1111111111111111, \"#46039f\"], [0.2222222222222222, \"#7201a8\"], [0.3333333333333333, \"#9c179e\"], [0.4444444444444444, \"#bd3786\"], [0.5555555555555556, \"#d8576b\"], [0.6666666666666666, \"#ed7953\"], [0.7777777777777778, \"#fb9f3a\"], [0.8888888888888888, \"#fdca26\"], [1.0, \"#f0f921\"]]}, \"colorway\": [\"#636efa\", \"#EF553B\", \"#00cc96\", \"#ab63fa\", \"#FFA15A\", \"#19d3f3\", \"#FF6692\", \"#B6E880\", \"#FF97FF\", \"#FECB52\"], \"font\": {\"color\": \"#2a3f5f\"}, \"geo\": {\"bgcolor\": \"white\", \"lakecolor\": \"white\", \"landcolor\": \"#E5ECF6\", \"showlakes\": true, \"showland\": true, \"subunitcolor\": \"white\"}, \"hoverlabel\": {\"align\": \"left\"}, \"hovermode\": \"closest\", \"mapbox\": {\"style\": \"light\"}, \"paper_bgcolor\": \"white\", \"plot_bgcolor\": \"#E5ECF6\", \"polar\": {\"angularaxis\": {\"gridcolor\": \"white\", \"linecolor\": \"white\", \"ticks\": \"\"}, \"bgcolor\": \"#E5ECF6\", \"radialaxis\": {\"gridcolor\": \"white\", \"linecolor\": \"white\", \"ticks\": \"\"}}, \"scene\": {\"xaxis\": {\"backgroundcolor\": \"#E5ECF6\", \"gridcolor\": \"white\", \"gridwidth\": 2, \"linecolor\": \"white\", \"showbackground\": true, \"ticks\": \"\", \"zerolinecolor\": \"white\"}, \"yaxis\": {\"backgroundcolor\": \"#E5ECF6\", \"gridcolor\": \"white\", \"gridwidth\": 2, \"linecolor\": \"white\", \"showbackground\": true, \"ticks\": \"\", \"zerolinecolor\": \"white\"}, \"zaxis\": {\"backgroundcolor\": \"#E5ECF6\", \"gridcolor\": \"white\", \"gridwidth\": 2, \"linecolor\": \"white\", \"showbackground\": true, \"ticks\": \"\", \"zerolinecolor\": \"white\"}}, \"shapedefaults\": {\"line\": {\"color\": \"#2a3f5f\"}}, \"ternary\": {\"aaxis\": {\"gridcolor\": \"white\", \"linecolor\": \"white\", \"ticks\": \"\"}, \"baxis\": {\"gridcolor\": \"white\", \"linecolor\": \"white\", \"ticks\": \"\"}, \"bgcolor\": \"#E5ECF6\", \"caxis\": {\"gridcolor\": \"white\", \"linecolor\": \"white\", \"ticks\": \"\"}}, \"title\": {\"x\": 0.05}, \"xaxis\": {\"automargin\": true, \"gridcolor\": \"white\", \"linecolor\": \"white\", \"ticks\": \"\", \"title\": {\"standoff\": 15}, \"zerolinecolor\": \"white\", \"zerolinewidth\": 2}, \"yaxis\": {\"automargin\": true, \"gridcolor\": \"white\", \"linecolor\": \"white\", \"ticks\": \"\", \"title\": {\"standoff\": 15}, \"zerolinecolor\": \"white\", \"zerolinewidth\": 2}}}},\n",
              "                        {\"responsive\": true}\n",
              "                    ).then(function(){\n",
              "                            \n",
              "var gd = document.getElementById('1e3fa2e0-c2c4-4b8e-a758-9ac078fd0257');\n",
              "var x = new MutationObserver(function (mutations, observer) {{\n",
              "        var display = window.getComputedStyle(gd).display;\n",
              "        if (!display || display === 'none') {{\n",
              "            console.log([gd, 'removed!']);\n",
              "            Plotly.purge(gd);\n",
              "            observer.disconnect();\n",
              "        }}\n",
              "}});\n",
              "\n",
              "// Listen for the removal of the full notebook cells\n",
              "var notebookContainer = gd.closest('#notebook-container');\n",
              "if (notebookContainer) {{\n",
              "    x.observe(notebookContainer, {childList: true});\n",
              "}}\n",
              "\n",
              "// Listen for the clearing of the current output cell\n",
              "var outputEl = gd.closest('.output');\n",
              "if (outputEl) {{\n",
              "    x.observe(outputEl, {childList: true});\n",
              "}}\n",
              "\n",
              "                        })\n",
              "                };\n",
              "                \n",
              "            </script>\n",
              "        </div>\n",
              "</body>\n",
              "</html>"
            ]
          },
          "metadata": {
            "tags": []
          }
        }
      ]
    },
    {
      "cell_type": "markdown",
      "metadata": {
        "id": "wKc6MQ_3JVKc",
        "colab_type": "text"
      },
      "source": [
        "From all the graphs plotted, it can be observed that the graphs are in accordance with the Heat Maps plotted."
      ]
    },
    {
      "cell_type": "markdown",
      "metadata": {
        "id": "wzbcJ679JisX",
        "colab_type": "text"
      },
      "source": [
        "# **Splitting the Dataset, Building a model with different algorithms, and checking their effect on various metrics**"
      ]
    },
    {
      "cell_type": "markdown",
      "metadata": {
        "id": "SNr7o24CJot4",
        "colab_type": "text"
      },
      "source": [
        "It can be seen that there are many columns which carry categorical data in the dataset. Such categorical data cannot be read by machines. In order to convert the categorical data to a machine readable form, there arises the need of Label Encoding."
      ]
    },
    {
      "cell_type": "code",
      "metadata": {
        "id": "dF3CqgLOJqA5",
        "colab_type": "code",
        "colab": {
          "base_uri": "https://localhost:8080/",
          "height": 68
        },
        "outputId": "0579cf20-aa3b-4653-c0f3-4ecd04047532"
      },
      "source": [
        "# Code to find those features who have categorical values\n",
        "data_column_category = carData.select_dtypes(exclude=[np.number]).columns\n",
        "data_column_category"
      ],
      "execution_count": 179,
      "outputs": [
        {
          "output_type": "execute_result",
          "data": {
            "text/plain": [
              "Index(['Make', 'Model', 'Transmission', 'Drive Mode', 'Vehicle Size',\n",
              "       'Vehicle Style'],\n",
              "      dtype='object')"
            ]
          },
          "metadata": {
            "tags": []
          },
          "execution_count": 179
        }
      ]
    },
    {
      "cell_type": "markdown",
      "metadata": {
        "id": "HoNibmWfJwhe",
        "colab_type": "text"
      },
      "source": [
        "Now that the features who have categorical values are found out, we proceed to encode them."
      ]
    },
    {
      "cell_type": "code",
      "metadata": {
        "id": "c4HV8YucJ0gP",
        "colab_type": "code",
        "colab": {
          "base_uri": "https://localhost:8080/",
          "height": 238
        },
        "outputId": "bca75a52-df87-4f2b-ec7f-d9973fcf8e17"
      },
      "source": [
        "from sklearn.preprocessing import LabelEncoder\n",
        "#Creating the object instance\n",
        "label_encoder = LabelEncoder()\n",
        "for i in data_column_category:\n",
        "\n",
        "    carData [i] = label_encoder.fit_transform(carData[i])\n",
        "\n",
        "print(\"Label Encoded Data: \")\n",
        "\n",
        "carData.head()"
      ],
      "execution_count": 180,
      "outputs": [
        {
          "output_type": "stream",
          "text": [
            "Label Encoded Data: \n"
          ],
          "name": "stdout"
        },
        {
          "output_type": "execute_result",
          "data": {
            "text/html": [
              "<div>\n",
              "<style scoped>\n",
              "    .dataframe tbody tr th:only-of-type {\n",
              "        vertical-align: middle;\n",
              "    }\n",
              "\n",
              "    .dataframe tbody tr th {\n",
              "        vertical-align: top;\n",
              "    }\n",
              "\n",
              "    .dataframe thead th {\n",
              "        text-align: right;\n",
              "    }\n",
              "</style>\n",
              "<table border=\"1\" class=\"dataframe\">\n",
              "  <thead>\n",
              "    <tr style=\"text-align: right;\">\n",
              "      <th></th>\n",
              "      <th>Make</th>\n",
              "      <th>Model</th>\n",
              "      <th>Year</th>\n",
              "      <th>HP</th>\n",
              "      <th>Cylinders</th>\n",
              "      <th>Transmission</th>\n",
              "      <th>Drive Mode</th>\n",
              "      <th>Vehicle Size</th>\n",
              "      <th>Vehicle Style</th>\n",
              "      <th>MPG-H</th>\n",
              "      <th>MPG-C</th>\n",
              "      <th>Popularity</th>\n",
              "      <th>Price</th>\n",
              "    </tr>\n",
              "  </thead>\n",
              "  <tbody>\n",
              "    <tr>\n",
              "      <th>0</th>\n",
              "      <td>3</td>\n",
              "      <td>1</td>\n",
              "      <td>2011</td>\n",
              "      <td>335.0</td>\n",
              "      <td>6.0</td>\n",
              "      <td>2</td>\n",
              "      <td>3</td>\n",
              "      <td>0</td>\n",
              "      <td>8</td>\n",
              "      <td>26</td>\n",
              "      <td>19</td>\n",
              "      <td>3916</td>\n",
              "      <td>46135</td>\n",
              "    </tr>\n",
              "    <tr>\n",
              "      <th>1</th>\n",
              "      <td>3</td>\n",
              "      <td>0</td>\n",
              "      <td>2011</td>\n",
              "      <td>300.0</td>\n",
              "      <td>6.0</td>\n",
              "      <td>2</td>\n",
              "      <td>3</td>\n",
              "      <td>0</td>\n",
              "      <td>6</td>\n",
              "      <td>28</td>\n",
              "      <td>19</td>\n",
              "      <td>3916</td>\n",
              "      <td>40650</td>\n",
              "    </tr>\n",
              "    <tr>\n",
              "      <th>2</th>\n",
              "      <td>3</td>\n",
              "      <td>0</td>\n",
              "      <td>2011</td>\n",
              "      <td>300.0</td>\n",
              "      <td>6.0</td>\n",
              "      <td>2</td>\n",
              "      <td>3</td>\n",
              "      <td>0</td>\n",
              "      <td>8</td>\n",
              "      <td>28</td>\n",
              "      <td>20</td>\n",
              "      <td>3916</td>\n",
              "      <td>36350</td>\n",
              "    </tr>\n",
              "    <tr>\n",
              "      <th>3</th>\n",
              "      <td>3</td>\n",
              "      <td>0</td>\n",
              "      <td>2011</td>\n",
              "      <td>230.0</td>\n",
              "      <td>6.0</td>\n",
              "      <td>2</td>\n",
              "      <td>3</td>\n",
              "      <td>0</td>\n",
              "      <td>8</td>\n",
              "      <td>28</td>\n",
              "      <td>18</td>\n",
              "      <td>3916</td>\n",
              "      <td>29450</td>\n",
              "    </tr>\n",
              "    <tr>\n",
              "      <th>4</th>\n",
              "      <td>3</td>\n",
              "      <td>0</td>\n",
              "      <td>2011</td>\n",
              "      <td>230.0</td>\n",
              "      <td>6.0</td>\n",
              "      <td>2</td>\n",
              "      <td>3</td>\n",
              "      <td>0</td>\n",
              "      <td>6</td>\n",
              "      <td>28</td>\n",
              "      <td>18</td>\n",
              "      <td>3916</td>\n",
              "      <td>34500</td>\n",
              "    </tr>\n",
              "  </tbody>\n",
              "</table>\n",
              "</div>"
            ],
            "text/plain": [
              "   Make  Model  Year     HP  ...  MPG-H  MPG-C  Popularity  Price\n",
              "0     3      1  2011  335.0  ...     26     19        3916  46135\n",
              "1     3      0  2011  300.0  ...     28     19        3916  40650\n",
              "2     3      0  2011  300.0  ...     28     20        3916  36350\n",
              "3     3      0  2011  230.0  ...     28     18        3916  29450\n",
              "4     3      0  2011  230.0  ...     28     18        3916  34500\n",
              "\n",
              "[5 rows x 13 columns]"
            ]
          },
          "metadata": {
            "tags": []
          },
          "execution_count": 180
        }
      ]
    },
    {
      "cell_type": "markdown",
      "metadata": {
        "id": "4hMPcOspJ7FL",
        "colab_type": "text"
      },
      "source": [
        "From the output it is observed that all the data is converted in numerical form. Now one can proceed for splitting the dataset, and training and testing the model using various algorithms with Price as the target variable."
      ]
    },
    {
      "cell_type": "code",
      "metadata": {
        "id": "TSclZAvDJ_20",
        "colab_type": "code",
        "colab": {}
      },
      "source": [
        "import sklearn.model_selection as model_selection\n",
        "from sklearn.model_selection import train_test_split"
      ],
      "execution_count": 181,
      "outputs": []
    },
    {
      "cell_type": "code",
      "metadata": {
        "id": "1xkQV25YKFMU",
        "colab_type": "code",
        "colab": {
          "base_uri": "https://localhost:8080/",
          "height": 51
        },
        "outputId": "c7e6a8c6-36ea-46c1-fe0d-1bca5837adc3"
      },
      "source": [
        "# Selecting the variables\n",
        "X=carData.iloc[:,:-1] \n",
        "y=carData.iloc[:,-1] \n",
        "# Splitting the dataset in a ratio of 80:20\n",
        "X_train, X_test, y_train, y_test = train_test_split(X,y, test_size=0.2)\n",
        "print (X_train.shape, y_train.shape)\n",
        "print (X_test.shape, y_test.shape)"
      ],
      "execution_count": 182,
      "outputs": [
        {
          "output_type": "stream",
          "text": [
            "(7243, 12) (7243,)\n",
            "(1811, 12) (1811,)\n"
          ],
          "name": "stdout"
        }
      ]
    },
    {
      "cell_type": "code",
      "metadata": {
        "id": "BIEbfEemKMQo",
        "colab_type": "code",
        "colab": {}
      },
      "source": [
        "#MODEL 1 FOR TESTING: THE KNN MODEL\n",
        "from sklearn.neighbors import KNeighborsClassifier\n",
        "knn_model = KNeighborsClassifier()\n",
        "knn_model.fit(X_train, y_train)\n",
        "y_pred = knn_model.predict(X_test)"
      ],
      "execution_count": 183,
      "outputs": []
    },
    {
      "cell_type": "markdown",
      "metadata": {
        "id": "zTYjKmkzKQ9h",
        "colab_type": "text"
      },
      "source": [
        "# **Distribution curve:**"
      ]
    },
    {
      "cell_type": "code",
      "metadata": {
        "id": "f5M-2EbkKVhL",
        "colab_type": "code",
        "colab": {
          "base_uri": "https://localhost:8080/",
          "height": 302
        },
        "outputId": "7140a8da-1b68-41b2-fe55-84af84eec799"
      },
      "source": [
        "sns.distplot((y_test-y_pred),bins=50)"
      ],
      "execution_count": 184,
      "outputs": [
        {
          "output_type": "execute_result",
          "data": {
            "text/plain": [
              "<matplotlib.axes._subplots.AxesSubplot at 0x7f14af6c4e10>"
            ]
          },
          "metadata": {
            "tags": []
          },
          "execution_count": 184
        },
        {
          "output_type": "display_data",
          "data": {
            "image/png": "[encoded data removed]",
            "text/plain": [
              "<Figure size 432x288 with 1 Axes>"
            ]
          },
          "metadata": {
            "tags": []
          }
        }
      ]
    },
    {
      "cell_type": "markdown",
      "metadata": {
        "id": "GS4HVwFwKaRQ",
        "colab_type": "text"
      },
      "source": [
        "**Performance on metrics:**"
      ]
    },
    {
      "cell_type": "code",
      "metadata": {
        "id": "WXMXsheXKf7A",
        "colab_type": "code",
        "colab": {
          "base_uri": "https://localhost:8080/",
          "height": 85
        },
        "outputId": "4f24f263-a131-41ed-ebd4-6e9dffa2e4a2"
      },
      "source": [
        "print('Mean Absolute Error:',metrics.mean_absolute_error(y_test,y_pred))\n",
        "print('Mean Squared Error:',metrics.mean_squared_error(y_test,y_pred))\n",
        "print('Root Mean Squared Error:',np.sqrt(metrics.mean_absolute_error(y_test,y_pred)))\n",
        "print('R2 Score:',metrics.r2_score(y_test,y_pred))"
      ],
      "execution_count": 185,
      "outputs": [
        {
          "output_type": "stream",
          "text": [
            "Mean Absolute Error: 4167.801766979569\n",
            "Mean Squared Error: 54775598.87852015\n",
            "Root Mean Squared Error: 64.55851428726942\n",
            "R2 Score: 0.7495404865860323\n"
          ],
          "name": "stdout"
        }
      ]
    },
    {
      "cell_type": "code",
      "metadata": {
        "id": "PdCdgYr_Kz7p",
        "colab_type": "code",
        "colab": {
          "base_uri": "https://localhost:8080/",
          "height": 34
        },
        "outputId": "689c4ecf-8ffd-4716-dbe3-9a9c37a077f3"
      },
      "source": [
        "#MODEL 2 FOR TESTING: THE LINEAR REGRESSION\n",
        "from sklearn.linear_model import LinearRegression\n",
        "model=LinearRegression()\n",
        "model.fit(X_train,y_train)\n",
        "y_pred=model.predict(X_test)\n",
        "model.score(X,y)"
      ],
      "execution_count": 186,
      "outputs": [
        {
          "output_type": "execute_result",
          "data": {
            "text/plain": [
              "0.7202526152576955"
            ]
          },
          "metadata": {
            "tags": []
          },
          "execution_count": 186
        }
      ]
    },
    {
      "cell_type": "markdown",
      "metadata": {
        "id": "o90LMkvYLP3G",
        "colab_type": "text"
      },
      "source": [
        "Distribution curve:"
      ]
    },
    {
      "cell_type": "code",
      "metadata": {
        "id": "SYp2SWMlK5_f",
        "colab_type": "code",
        "colab": {
          "base_uri": "https://localhost:8080/",
          "height": 313
        },
        "outputId": "3883f30d-0d62-4fe8-f4eb-e8ec9779f54b"
      },
      "source": [
        "sns.distplot((y_test-y_pred),bins=50)"
      ],
      "execution_count": 187,
      "outputs": [
        {
          "output_type": "execute_result",
          "data": {
            "text/plain": [
              "<matplotlib.axes._subplots.AxesSubplot at 0x7f14af6b5da0>"
            ]
          },
          "metadata": {
            "tags": []
          },
          "execution_count": 187
        },
        {
          "output_type": "display_data",
          "data": {
            "image/png": "[encoded data removed]",
            "text/plain": [
              "<Figure size 432x288 with 1 Axes>"
            ]
          },
          "metadata": {
            "tags": []
          }
        }
      ]
    },
    {
      "cell_type": "markdown",
      "metadata": {
        "id": "lM82hxMFLB6k",
        "colab_type": "text"
      },
      "source": [
        "Performance on metrics:"
      ]
    },
    {
      "cell_type": "code",
      "metadata": {
        "id": "dgRiLvvCLA0F",
        "colab_type": "code",
        "colab": {
          "base_uri": "https://localhost:8080/",
          "height": 85
        },
        "outputId": "f468dfb6-c954-425e-c91a-412fe61fdc24"
      },
      "source": [
        "print('Mean Absolute Error:',metrics.mean_absolute_error(y_test,y_pred))\n",
        "print('Mean Squared Error:',metrics.mean_squared_error(y_test,y_pred))\n",
        "print('Root Mean Squared Error:',np.sqrt(metrics.mean_absolute_error(y_test,y_pred)))\n",
        "print('R2 Score:',metrics.r2_score(y_test,y_pred))"
      ],
      "execution_count": 188,
      "outputs": [
        {
          "output_type": "stream",
          "text": [
            "Mean Absolute Error: 5907.460266566362\n",
            "Mean Squared Error: 60596145.35454855\n",
            "Root Mean Squared Error: 76.86000433623695\n",
            "R2 Score: 0.7229262410453756\n"
          ],
          "name": "stdout"
        }
      ]
    },
    {
      "cell_type": "code",
      "metadata": {
        "id": "NdL3gjTuLLJ6",
        "colab_type": "code",
        "colab": {}
      },
      "source": [
        "#MODEL 3 FOR TESTING: THE DECISION TREE\n",
        "from sklearn.tree import DecisionTreeClassifier\n",
        "dtc_model = DecisionTreeClassifier(random_state=42)\n",
        "dtc_model.fit(X_train, y_train)\n",
        "y_pred = dtc_model.predict(X_test)"
      ],
      "execution_count": 189,
      "outputs": []
    },
    {
      "cell_type": "markdown",
      "metadata": {
        "id": "WK01l6gfLSLa",
        "colab_type": "text"
      },
      "source": [
        "Distribution curve:"
      ]
    },
    {
      "cell_type": "code",
      "metadata": {
        "id": "gIFvUf5aLTIm",
        "colab_type": "code",
        "colab": {
          "base_uri": "https://localhost:8080/",
          "height": 302
        },
        "outputId": "68ecbf98-6d29-46c7-f9d4-e802b529f175"
      },
      "source": [
        "sns.distplot((y_test-y_pred),bins=50)"
      ],
      "execution_count": 190,
      "outputs": [
        {
          "output_type": "execute_result",
          "data": {
            "text/plain": [
              "<matplotlib.axes._subplots.AxesSubplot at 0x7f14af5bd6d8>"
            ]
          },
          "metadata": {
            "tags": []
          },
          "execution_count": 190
        },
        {
          "output_type": "display_data",
          "data": {
            "image/png": "[encoded data removed]",
            "text/plain": [
              "<Figure size 432x288 with 1 Axes>"
            ]
          },
          "metadata": {
            "tags": []
          }
        }
      ]
    },
    {
      "cell_type": "code",
      "metadata": {
        "id": "TdLsV516LcTi",
        "colab_type": "code",
        "colab": {
          "base_uri": "https://localhost:8080/",
          "height": 85
        },
        "outputId": "957570d8-7738-4d70-f8be-aea9f686e7d8"
      },
      "source": [
        "print('Mean Absolute Error:',metrics.mean_absolute_error(y_test,y_pred))\n",
        "print('Mean Squared Error:',metrics.mean_squared_error(y_test,y_pred))\n",
        "print('Root Mean Squared Error:',np.sqrt(metrics.mean_absolute_error(y_test,y_pred)))\n",
        "print('R2 Score:',metrics.r2_score(y_test,y_pred))"
      ],
      "execution_count": 191,
      "outputs": [
        {
          "output_type": "stream",
          "text": [
            "Mean Absolute Error: 3205.1308669243513\n",
            "Mean Squared Error: 22724081.075648814\n",
            "Root Mean Squared Error: 56.613875215571944\n",
            "R2 Score: 0.8960949326796239\n"
          ],
          "name": "stdout"
        }
      ]
    },
    {
      "cell_type": "code",
      "metadata": {
        "id": "zyYjjt5lLhXY",
        "colab_type": "code",
        "colab": {
          "base_uri": "https://localhost:8080/",
          "height": 51
        },
        "outputId": "43990031-458e-40a4-8fce-aaec84947c0b"
      },
      "source": [
        "#MODEL 4 FOR TESTING: THE RANDOM FOREST\n",
        "from sklearn.ensemble import RandomForestRegressor\n",
        "from sklearn.model_selection import RandomizedSearchCV\n",
        "rfc_model = RandomForestRegressor(n_estimators=72)\n",
        "rfc_model.fit(X_train, y_train)\n",
        "y_pred = rfc_model.predict(X_test)\n",
        "# calculating the accuracies\n",
        "print(\"Training Accuracy :\",rfc_model.score(X_train,y_train))\n",
        "print(\"Testing Accuracy :\",rfc_model.score(X_test,y_test))"
      ],
      "execution_count": 192,
      "outputs": [
        {
          "output_type": "stream",
          "text": [
            "Training Accuracy : 0.9794073501594058\n",
            "Testing Accuracy : 0.9446291751968345\n"
          ],
          "name": "stdout"
        }
      ]
    },
    {
      "cell_type": "markdown",
      "metadata": {
        "id": "yHV6NuOkLoPp",
        "colab_type": "text"
      },
      "source": [
        "Distribution curve:"
      ]
    },
    {
      "cell_type": "code",
      "metadata": {
        "id": "rg9LBDNzLpIO",
        "colab_type": "code",
        "colab": {
          "base_uri": "https://localhost:8080/",
          "height": 302
        },
        "outputId": "59001eb5-0ced-4618-cb25-92632a3adad5"
      },
      "source": [
        "sns.distplot((y_test-y_pred),bins=50)"
      ],
      "execution_count": 193,
      "outputs": [
        {
          "output_type": "execute_result",
          "data": {
            "text/plain": [
              "<matplotlib.axes._subplots.AxesSubplot at 0x7f14af3962b0>"
            ]
          },
          "metadata": {
            "tags": []
          },
          "execution_count": 193
        },
        {
          "output_type": "display_data",
          "data": {
            "image/png": "[encoded data removed]",
            "text/plain": [
              "<Figure size 432x288 with 1 Axes>"
            ]
          },
          "metadata": {
            "tags": []
          }
        }
      ]
    },
    {
      "cell_type": "markdown",
      "metadata": {
        "id": "5qhgtwj0LvAh",
        "colab_type": "text"
      },
      "source": [
        "Performance on metrics:"
      ]
    },
    {
      "cell_type": "code",
      "metadata": {
        "id": "YwqejI5-Lws-",
        "colab_type": "code",
        "colab": {
          "base_uri": "https://localhost:8080/",
          "height": 85
        },
        "outputId": "f7595fb8-278e-4a8f-8ceb-0a64500c18c7"
      },
      "source": [
        "print('Mean Absolute Error:',metrics.mean_absolute_error(y_test,y_pred))\n",
        "print('Mean Squared Error:',metrics.mean_squared_error(y_test,y_pred))\n",
        "print('Root Mean Squared Error:',np.sqrt(metrics.mean_absolute_error(y_test,y_pred)))\n",
        "print('R2 Score:',metrics.r2_score(y_test,y_pred))"
      ],
      "execution_count": 194,
      "outputs": [
        {
          "output_type": "stream",
          "text": [
            "Mean Absolute Error: 2396.52263800044\n",
            "Mean Squared Error: 12109622.220570315\n",
            "Root Mean Squared Error: 48.954291313432776\n",
            "R2 Score: 0.9446291751968344\n"
          ],
          "name": "stdout"
        }
      ]
    },
    {
      "cell_type": "markdown",
      "metadata": {
        "id": "v3Wkjt2RL4Sr",
        "colab_type": "text"
      },
      "source": [
        "Thus we see that the algorithm of Random Forest works best for this particular machine."
      ]
    }
  ]
}